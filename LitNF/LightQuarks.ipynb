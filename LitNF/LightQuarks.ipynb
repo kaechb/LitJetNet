{
 "cells": [
  {
   "cell_type": "code",
   "execution_count": 26,
   "id": "4f98744a-7b3b-4106-bb46-8168aedc92d1",
   "metadata": {},
   "outputs": [],
   "source": [
    "from jetnet_dataloader import JetNetDataloader,StandardScaler, QuantileTransformer\n",
    "# from helpers import mass\n",
    "from plotting import *\n",
    "    \n",
    "hpconfig = {\n",
    "        \"context_features\": 1,\n",
    "        \"network_layers_nf\": 2,\n",
    "        \"network_nodes_nf\": 256,\n",
    "        \"batch_size\": 4024,#1024 best\n",
    "        \"coupling_layers\": 8,\n",
    "        \"lr\": 0.001,\n",
    "        \"batchnorm\": True,\n",
    "        \"bins\": 5,\n",
    "        \"tail_bound\": 6,\n",
    "        \"limit\": 200000,\n",
    "        \"n_dim\": 3,\n",
    "        \"dropout\": 0.1,\n",
    "        \"canonical\": False,\n",
    "        \"max_steps\": 100000,\n",
    "        \"name\": \"Transflow_notebook\",\n",
    "        \"parton\": \"t\",\n",
    "        \"num_layers\": 4,\n",
    "        \"freq\": 1,\n",
    "        \"n_part\": 15,\n",
    "        \"fc\": False,\n",
    "        \"hidden\": 250,\n",
    "        \"heads\": 5,\n",
    "        \"l_dim\": 50,\n",
    "        \"lr_g\": 0.001,\n",
    "        \"lr_d\": 0.001,\n",
    "        \"lr_nf\": 0.000722,\n",
    "        \"sched\":  \"cosine\",\n",
    "        \"opt\": \"Adam\",\n",
    "        \"max_epochs\": 800,\n",
    "        \"mass\": True,\n",
    "        \"no_hidden\": True,\n",
    "        \"clf\": True,\n",
    "        \"val_check\": 10,\n",
    "        \"frac_pretrain\": 40,\n",
    "        \"seed\": 69,\n",
    "        \"quantile\": False,\n",
    "        \"norm\":False\n",
    "    }"
   ]
  },
  {
   "cell_type": "code",
   "execution_count": 69,
   "id": "e759c9e3-083a-406c-a22d-759b9ecbe416",
   "metadata": {},
   "outputs": [],
   "source": [
    "\n",
    "from distutils.command.config import config\n",
    "import os\n",
    "import time\n",
    "import traceback\n",
    "\n",
    "import matplotlib.pyplot as plt\n",
    "import nflows as nf\n",
    "import numpy as np\n",
    "import pandas as pd\n",
    "import pytorch_lightning as pl\n",
    "import torch\n",
    "from jetnet.evaluation import cov_mmd, fpnd, w1efp, w1m, w1p\n",
    "from nflows.flows import base\n",
    "from nflows.nn import nets\n",
    "from nflows.transforms.base import CompositeTransform\n",
    "from nflows.transforms.coupling import PiecewiseRationalQuadraticCouplingTransform\n",
    "from nflows.utils.torchutils import create_random_binary_mask\n",
    "from torch import nn\n",
    "from torch.nn import functional as FF\n",
    "from torch.nn.functional import leaky_relu, sigmoid\n",
    "from torch.autograd import Variable\n",
    "import torch.autograd as autograd\n",
    "\n",
    "from helpers import CosineWarmupScheduler, mass\n",
    "from plotting import *\n",
    "\n",
    "\n",
    "class Gen(nn.Module):\n",
    "    def __init__(\n",
    "        self,\n",
    "        n_dim=3,\n",
    "        l_dim=10,\n",
    "        hidden=300,\n",
    "        num_layers=3,\n",
    "        num_heads=1,\n",
    "        n_part=5,\n",
    "        fc=False,\n",
    "        dropout=0.5,\n",
    "        no_hidden=True,\n",
    "        norm=False\n",
    "    ):\n",
    "\n",
    "        super().__init__()\n",
    "        self.hidden_nodes = hidden\n",
    "        self.n_dim = n_dim\n",
    "        self.l_dim = l_dim\n",
    "        self.n_part = n_part\n",
    "        self.no_hidden = no_hidden\n",
    "        self.fc = fc\n",
    "        if fc:\n",
    "            self.l_dim *= n_part\n",
    "            self.embbed_flat = nn.Linear(n_dim * n_part, l_dim)\n",
    "            self.flat_hidden = nn.Linear(l_dim, hidden)\n",
    "            self.flat_hidden2 = nn.Linear(hidden, hidden)\n",
    "            self.flat_hidden3 = nn.Linear(hidden, hidden)\n",
    "            self.flat_out = nn.Linear(hidden, n_dim * n_part)\n",
    "            self.out = nn.Linear(hidden, n_dim)\n",
    "            \n",
    "        else:\n",
    "            self.embbed = nn.Linear(n_dim, l_dim)\n",
    "            self.encoder = nn.TransformerEncoder(\n",
    "                nn.TransformerEncoderLayer(\n",
    "                    d_model=l_dim,\n",
    "                    nhead=num_heads,\n",
    "                    batch_first=True,\n",
    "                    norm_first=norm,\n",
    "                    dim_feedforward=hidden,\n",
    "                    dropout=dropout,\n",
    "                ),\n",
    "                num_layers=num_layers,\n",
    "            )\n",
    "            self.hidden = nn.Linear(l_dim, hidden)\n",
    "            self.hidden2 = nn.Linear(hidden, hidden)\n",
    "            self.hidden3 = nn.Linear(hidden, hidden)\n",
    "            self.dropout = nn.Dropout(dropout / 2)\n",
    "            self.out = nn.Linear(hidden, n_dim)\n",
    "            self.out2 = nn.Linear(l_dim, n_dim)\n",
    "\n",
    "            self.out_flat = nn.Linear(hidden, n_dim * n_part)\n",
    "\n",
    "    def forward(self, x, mask=None):\n",
    "\n",
    "        if self.fc:\n",
    "            x = x.reshape(len(x), self.n_part * self.n_dim)\n",
    "            x = self.embbed_flat(x)\n",
    "            x = leaky_relu(self.flat_hidden(x))\n",
    "            #             x = self.dropout(x)\n",
    "            x = self.flat_out(x)\n",
    "            x = x.reshape(len(x), self.n_part, self.n_dim)\n",
    "        else:\n",
    "            x = self.embbed(x)\n",
    "            x = self.encoder(x, src_key_padding_mask=mask)\n",
    "            if not self.no_hidden == True:\n",
    "                x = leaky_relu(self.hidden(x))\n",
    "                x = self.dropout(x)\n",
    "                x = leaky_relu(self.hidden2(x))\n",
    "                x = self.dropout(x)\n",
    "                x = self.out(x)\n",
    "            elif self.no_hidden == \"more\":\n",
    "                x = leaky_relu(self.hidden(x))\n",
    "                x = self.dropout(x)\n",
    "                x = leaky_relu(self.hidden2(x))\n",
    "                x = self.dropout(x)\n",
    "                x = leaky_relu(self.hidden3(x))\n",
    "                x = self.dropout(x)\n",
    "\n",
    "            else:\n",
    "                x = leaky_relu(x)\n",
    "                x = self.out2(x)\n",
    "        return x\n",
    "\n",
    "\n",
    "class Disc(nn.Module):\n",
    "    def __init__(\n",
    "        self,\n",
    "        n_dim=3,\n",
    "        l_dim=10,\n",
    "        hidden=300,\n",
    "        num_layers=3,\n",
    "        num_heads=1,\n",
    "        n_part=2,\n",
    "        fc=False,\n",
    "        dropout=0.5,\n",
    "        mass=False,\n",
    "        clf=False,\n",
    "        norm=False,\n",
    "        no_hidden=True\n",
    "    ):\n",
    "        super().__init__()\n",
    "        self.hidden_nodes = hidden\n",
    "        self.n_dim = n_dim\n",
    "        #         l_dim=n_dim\n",
    "        self.l_dim = l_dim\n",
    "        self.n_part = n_part\n",
    "        self.fc = fc\n",
    "        self.clf = clf\n",
    "        self.no_hidden = no_hidden\n",
    "        self.sig=nn.Sigmoid()\n",
    "        self.use_mass=mass\n",
    "        self.bullshitbingo=False\n",
    "        self.layernorm=nn.LayerNorm(l_dim+mass)\n",
    "        if fc:\n",
    "            self.l_dim *= n_part\n",
    "            self.embbed_flat = nn.Linear(n_dim * n_part, l_dim)\n",
    "            self.flat_hidden = nn.Linear(l_dim, hidden)\n",
    "            self.flat_hidden2 = nn.Linear(hidden, hidden)\n",
    "            self.flat_hidden3 = nn.Linear(hidden, hidden)\n",
    "            self.out = nn.Linear(hidden, 1)\n",
    "        else:\n",
    "            self.embbed=nn.Linear(n_dim,l_dim)\n",
    "            self.encoder=nn.TransformerEncoder(\n",
    "            nn.TransformerEncoderLayer(d_model=self.l_dim,nhead=num_heads,dim_feedforward=hidden,dropout=dropout,\n",
    "                                       norm_first=norm,activation=lambda x: leaky_relu(x,0.2),batch_first=True) ,num_layers=num_layers)\n",
    "            self.hidden=nn.Linear(l_dim+int(mass)-self.bullshitbingo,hidden)\n",
    "            self.hidden2=nn.Linear(hidden,hidden)\n",
    "            self.out=nn.Linear(hidden if not no_hidden else l_dim+mass,1)\n",
    "    \n",
    "    def forward(self, x, m=None, mask=None):\n",
    "        if self.fc == True:\n",
    "            x = x.reshape(len(x), self.n_dim * self.n_part)\n",
    "            x = self.embbed_flat(x)\n",
    "            x = leaky_relu(self.flat_hidden(x), 0.2)\n",
    "            x = leaky_relu(self.flat_hidden2(x), 0.2)\n",
    "#         elif self.bullshitbingo:\n",
    "#             x = torch.cat((m.repeat(3,1).reshape(len(m),1,3),x),axis=1)\n",
    "#             x = self.embbed(x)\n",
    "#             x = self.encoder(x)\n",
    "#             if self.clf:\n",
    "#                 x=torch.concat((torch.ones_like(x[:,0,:]).reshape(len(x),1,-1),x),axis=1)\n",
    "#                 x=self.encoder(x)\n",
    "#                 x=x[:,0,:]\n",
    "#             else:\n",
    "#                 x=self.encoder(x)\n",
    "#                 x=torch.mean(x,axis=1)\n",
    "#             if not self.no_hidden:\n",
    "#                 x=leaky_relu(self.hidden(x),0.2)\n",
    "#                 x=leaky_relu(self.hidden2(x),0.2)\n",
    "#             x=self.out(x)\n",
    "# #             x=self.sig(x)\n",
    "        else:\n",
    "            x = self.embbed(x)\n",
    "            if self.clf:   \n",
    "                x=torch.concat((torch.ones_like(x[:,0,:]).reshape(len(x),1,-1),x),axis=1)\n",
    "                x=self.encoder(x)\n",
    "                x=x[:,0,:]\n",
    "            else:\n",
    "                x=self.encoder(x)\n",
    "                x=torch.mean(x,axis=1)\n",
    "            if self.use_mass:\n",
    "                x=torch.concat((m.reshape(len(x),1),x),axis=1)\n",
    "                \n",
    "            if not self.no_hidden:\n",
    "                x=leaky_relu(self.hidden(x),0.2)\n",
    "#                 x=self.layernorm(x)\n",
    "#                 x=leaky_relu(self.hidden2(x),0.2)\n",
    "        x=self.out(x)\n",
    "#             x=self.sig(x)\n",
    "        return x\n",
    "\n",
    "def mass(data, mask=None, canonical=False):\n",
    "    if len(data.shape)==2:\n",
    "        if not mask==None:\n",
    "            data = data.reshape(len(data),data.shape[1]//3, 3) * mask.reshape(len(data), data.shape[1]//3, 1)\n",
    "        else:\n",
    "            data = data.reshape(len(data),data.shape[1]//3, 3)\n",
    "    if canonical:        \n",
    "        p = data\n",
    "        px = p[:, :, 0]\n",
    "        py = p[:, :, 1]\n",
    "        pz = p[:, :, 2]\n",
    "    else: \n",
    "        p = data\n",
    "        px = torch.cos(p[:, :, 1]) * p[:, :, 2]\n",
    "        py = torch.sin(p[:, :, 1]) * p[:, :, 2]\n",
    "        pz = torch.sinh(p[:, :, 0]) * p[:, :, 2]\n",
    "    \n",
    "    E = torch.sqrt(px**2 + py**2 + pz**2)\n",
    "    E = E.sum(axis=1) ** 2\n",
    "    p = px.sum(axis=1) ** 2 + py.sum(axis=1) ** 2 + pz.sum(axis=1) ** 2\n",
    "    m2 = E - p\n",
    "    return torch.sqrt(m2)\n",
    "class TransGan(pl.LightningModule):\n",
    "    def create_resnet(self, in_features, out_features):\n",
    "        \"\"\"This is the network that outputs the parameters of the invertible transformation\n",
    "        The only arguments can be the in dimension and the out dimenson, the structure\n",
    "        of the network is defined over the config which is a class attribute\n",
    "        Context Features: Amount of features used to condition the flow - in our case\n",
    "        this is usually the mass\n",
    "        num_blocks: How many Resnet blocks should be used, one res net block is are 1 input+ 2 layers\n",
    "        and an additive skip connection from the first to the third\"\"\"\n",
    "        c = self.config[\"context_features\"]\n",
    "        return nets.ResidualNet(\n",
    "            in_features,\n",
    "            out_features,\n",
    "            hidden_features=self.config[\"network_nodes_nf\"],\n",
    "            context_features=c,\n",
    "            num_blocks=self.config[\"network_layers_nf\"],\n",
    "            activation=self.config[\"activation\"] if \"activation\" in self.config.keys() else FF.relu,\n",
    "            dropout_probability=self.config[\"dropout\"] if \"dropout\" in self.config.keys() else 0,\n",
    "            use_batch_norm=self.config[\"batchnorm\"] if \"batchnorm\" in self.config.keys() else 0,\n",
    "        )\n",
    "\n",
    "    def __init__(self, config, hyperopt, num_batches):\n",
    "        \"\"\"This initializes the model and its hyperparameters\"\"\"\n",
    "        super().__init__()\n",
    "        self.hyperopt = True\n",
    "\n",
    "        self.start = time.time()\n",
    "        # self.batch_size=batch_size\n",
    "        # print(batch_size)\n",
    "        self.config = config\n",
    "        self.automatic_optimization = False\n",
    "        self.freq_d = config[\"freq\"]\n",
    "\n",
    "#         self.wgan = config[\"wgan\"]\n",
    "        # Metrics to track during the training\n",
    "        self.metrics = {\n",
    "            \"val_w1p\": [],\n",
    "            \"val_w1m\": [],\n",
    "            \"val_w1efp\": [],\n",
    "            \"val_cov\": [],\n",
    "            \"val_mmd\": [],\n",
    "            \"val_fpnd\": [],\n",
    "            \"val_logprob\": [],\n",
    "            \"step\": [],\n",
    "        }\n",
    "        # Loss function of the Normalizing flows\n",
    "        self.logprobs = []\n",
    "        self.n_part = config[\"n_part\"]\n",
    "        # self.hparams.update(config)\n",
    "        self.save_hyperparameters()\n",
    "        self.flows = []\n",
    "        self.n_dim = self.config[\"n_dim\"]\n",
    "        self.n_part = config[\"n_part\"]\n",
    "        self.alpha = 1\n",
    "        self.num_batches = int(num_batches)\n",
    "        self.build_flow()\n",
    "        self.gen_net = Gen(\n",
    "            n_dim=self.n_dim,\n",
    "            hidden=config[\"hidden\"],\n",
    "            num_layers=config[\"num_layers\"],\n",
    "            dropout=config[\"dropout\"],\n",
    "            no_hidden=config[\"no_hidden\"],\n",
    "            fc=config[\"fc\"],\n",
    "            n_part=config[\"n_part\"],\n",
    "            l_dim=config[\"l_dim\"],\n",
    "            num_heads=config[\"heads\"],\n",
    "            norm=config[\"norm\"]\n",
    "        ).cuda()\n",
    "        self.dis_net = Disc(\n",
    "            n_dim=self.n_dim,\n",
    "            hidden=config[\"hidden\"],\n",
    "            l_dim=config[\"l_dim\"],\n",
    "            num_layers=config[\"num_layers\"],\n",
    "            mass=self.config[\"mass\"],\n",
    "            num_heads=config[\"heads\"],\n",
    "            fc=config[\"fc\"],\n",
    "            n_part=config[\"n_part\"],\n",
    "            dropout=config[\"dropout\"],\n",
    "            clf=config[\"clf\"],\n",
    "            no_hidden=config[\"no_hidden\"],\n",
    "            norm=config[\"norm\"],\n",
    "            \n",
    "        ).cuda()\n",
    "        self.sig = nn.Sigmoid()\n",
    "        self.fpnds = []\n",
    "        self.df = pd.DataFrame()\n",
    "        for p in self.dis_net.parameters():\n",
    "            if p.dim() > 1:\n",
    "                nn.init.xavier_normal_(p)\n",
    "        for p in self.gen_net.parameters():\n",
    "            if p.dim() > 1:\n",
    "                nn.init.xavier_normal_(p)\n",
    "        self.gen_net.out.weight.data.fill_(0)#uniform_(-0.01,0.01)\n",
    "        self.gen_net.out.bias.data.fill_(0)\n",
    "        self.nf_train = True\n",
    "        self.train_nf = config[\"max_epochs\"] // config[\"frac_pretrain\"]\n",
    "\n",
    "    def load_datamodule(self, data_module):\n",
    "        \"\"\"needed for lightning training to work, it just sets the dataloader for training and validation\"\"\"\n",
    "        self.data_module = data_module\n",
    "    \n",
    "    def plot_mass(self,m_f,m_t=None,postfix=\"\"):\n",
    "        fig=plt.figure()\n",
    "        \n",
    "        m_f=m_f.cpu().detach().numpy()\n",
    "        if not m_t==None:\n",
    "            m_t=m_t.cpu().detach().numpy()\n",
    "            max_m=np.min([np.quantile(m_t,0.95),np.quantile(m_f,0.95)])\n",
    "            _,bins,_=plt.hist(m_t,bins=np.linspace(0,max_m,30),label=\"True\",histtype=\"step\")\n",
    "#             _,bins,_=plt.hist(m_t.cpu().detach().numpy(),bins=30,label=\"True\",histtype=\"step\")\n",
    "            plt.hist(m_f,bins=bins,label=\"Fake\",histtype=\"step\")\n",
    "        else:\n",
    "            \n",
    "            plt.hist(m_f[m_f<500],bins=30,label=\"Gen\",histtype=\"step\")\n",
    "        plt.legend()\n",
    "        plt.ylabel(\"Counts\")\n",
    "        plt.xlabel(\"Critic Score\")\n",
    "        self.logger.experiment.add_figure(\"train_mass\"+postfix, fig, global_step=self.current_epoch)\n",
    "        plt.close()\n",
    "    \n",
    "    def plot_class(self,pred_real,pred_fake,mask):\n",
    "        fig, ax = plt.subplots()\n",
    "        ax.hist(pred_real.detach().cpu().numpy(), label=\"real\", bins=30, histtype=\"step\",density=1)\n",
    "        ax.hist(pred_fake.detach().cpu().numpy(), label=\"fake\", bins=30, histtype=\"step\",density=1)\n",
    "#         ax.hist(pred_real[mask.sum(1)].detach().cpu().numpy(), label=\"real<30\", bins=np.linspace(0, 1, 30) if not self.wgan else 30, histtype=\"step\",density=1)\n",
    "#         ax.hist(pred_fake[mask.sum(1)].detach().cpu().numpy(), label=\"fake<30\", bins=np.linspace(0, 1, 30) if not self.wgan else 30, histtype=\"step\",density=1)\n",
    "        ax.legend()\n",
    "        plt.ylabel(\"Counts\")\n",
    "        plt.xlabel(\"Critic Score\")\n",
    "        self.logger.experiment.add_figure(\"class_train\", fig, global_step=self.current_epoch)\n",
    "        plt.close()\n",
    "\n",
    "    def on_after_backward(self) -> None:\n",
    "        \"\"\"This is a genious little hook, sometimes my model dies, i have no clue why. This saves the training from crashing and continues\"\"\"\n",
    "        valid_gradients = False\n",
    "        for name, param in self.named_parameters():\n",
    "            if param.grad is not None:\n",
    "                valid_gradients = not (torch.isnan(param.grad).any() or torch.isinf(param.grad).any())\n",
    "                if not valid_gradients:\n",
    "                    break\n",
    "        if not valid_gradients:\n",
    "            \n",
    "            self.zero_grad()\n",
    "            self.counter += 1\n",
    "            if self.counter > 8:\n",
    "                raise ValueError(\"5 nangrads in a row\")\n",
    "        else:\n",
    "            self.counter = 0\n",
    "\n",
    "    def build_flow(self):\n",
    "        K = self.config[\"coupling_layers\"]\n",
    "        for i in range(K):\n",
    "            \"\"\"This creates the masks for the coupling layers, particle masks are masks\n",
    "            created such that each feature particle (eta,phi,pt) is masked together or not\"\"\"\n",
    "            mask = create_random_binary_mask(self.n_dim * self.n_part)\n",
    "            self.flows += [\n",
    "                PiecewiseRationalQuadraticCouplingTransform(\n",
    "                    mask=mask,\n",
    "                    transform_net_create_fn=self.create_resnet,\n",
    "                    tails=\"linear\",\n",
    "                    tail_bound=self.config[\"tail_bound\"],\n",
    "                    num_bins=self.config[\"bins\"],)]\n",
    "        self.q0 = nf.distributions.normal.StandardNormal([self.n_dim * self.n_part])\n",
    "        # Creates working flow model from the list of layer modules\n",
    "        self.flows = CompositeTransform(self.flows)\n",
    "        # Construct flow model\n",
    "        self.flow = base.Flow(distribution=self.q0, transform=self.flows)\n",
    "\n",
    "    def configure_optimizers(self):\n",
    "        self.losses = []\n",
    "        # mlosses are initialized with None during the time it is not turned on, makes it easier to plot\n",
    "        opt_nf = torch.optim.AdamW(self.flow.parameters(), lr=self.config[\"lr_nf\"])\n",
    "        if self.config[\"opt\"] == \"Adam\":\n",
    "            opt_g = torch.optim.Adam(self.gen_net.parameters(), lr=self.config[\"lr_g\"], betas=(0, 0.99))\n",
    "            opt_d = torch.optim.Adam(self.dis_net.parameters(), lr=self.config[\"lr_d\"], betas=(0, 0.99))\n",
    "        elif self.config[\"opt\"] == \"AdamW\":\n",
    "            opt_g = torch.optim.AdamW(self.gen_net.parameters(), lr=self.config[\"lr_g\"], betas=(0, 0.99))\n",
    "            opt_d = torch.optim.AdamW(self.dis_net.parameters(), lr=self.config[\"lr_d\"], betas=(0, 0.99))\n",
    "        else:\n",
    "            opt_g = torch.optim.RMSprop(self.gen_net.parameters(), lr=self.config[\"lr_g\"])\n",
    "            opt_d = torch.optim.RMSprop(self.dis_net.parameters(), lr=self.config[\"lr_d\"])\n",
    "        if self.config[\"sched\"] == \"cosine\":\n",
    "            lr_scheduler_nf = CosineWarmupScheduler(opt_nf, warmup=1, max_iters=10000000 * self.config[\"freq\"])\n",
    "            max_iter_d = (self.config[\"max_epochs\"]) * self.num_batches\n",
    "            max_iter_g = (self.config[\"max_epochs\"] - self.train_nf//2) * self.num_batches // self.freq_d\n",
    "            lr_scheduler_d = CosineWarmupScheduler(opt_d, warmup=15 * self.num_batches, max_iters=max_iter_d)\n",
    "            lr_scheduler_g = CosineWarmupScheduler(opt_g, warmup=15 * self.num_batches // self.freq_d, max_iters=max_iter_g)\n",
    "        else: \n",
    "            lr_scheduler_nf = None\n",
    "            lr_scheduler_d = None\n",
    "            lr_scheduler_g = None\n",
    "        if self.config[\"sched\"] != None:\n",
    "            return [opt_nf, opt_d, opt_g], [lr_scheduler_nf, lr_scheduler_d, lr_scheduler_g]\n",
    "        else:\n",
    "            return [opt_nf, opt_d, opt_g]\n",
    "\n",
    "    def sample_n(self, mask):\n",
    "        #Samples a mask where the zero padded particles are True, rest False\n",
    "        mask_test = torch.ones_like(mask)\n",
    "        n, counts = np.unique(self.data_module.n, return_counts=True)\n",
    "        counts_prob = torch.tensor(counts / len(self.data_module.n) )\n",
    "        n_test=n[torch.multinomial(counts_prob,replacement=True,num_samples=(len(mask)))] \n",
    "        indices = torch.arange(self.n_part, device=mask.device)\n",
    "        mask_test = (indices.view(1, -1) < torch.tensor(n_test).view(-1, 1))      \n",
    "        mask_test=~mask_test.bool()\n",
    "        return (mask_test)\n",
    "\n",
    "    def scale(self, x,m): \n",
    "        x = x.reshape(len(x), self.n_part, self.n_dim)\n",
    "        # self.data_module.scaler = self.data_module.scaler.to(x.device)\n",
    "        for i in range(self.n_part):\n",
    "            if self.config[\"quantile\"]:\n",
    "                x[~m[:,i] ,i, 2] = torch.tensor(self.data_module.ptscalers[i].inverse_transform(x[~m[:,i] ,i, 2].cpu().numpy().reshape(-1,1)).reshape(-1)).to(x.device)\n",
    "                x[~m[:,i] ,i, :2] = self.data_module.scalers[i].inverse_transform(x[~m[:,i] ,i, :2].float())\n",
    "            else:\n",
    "                x[~m[:,i],i,:]= self.data_module.scalers[i].inverse_transform(x[~m[:,i],i,:])\n",
    "        return x\n",
    "\n",
    "    def sampleandscale(self, batch, mask, mask_test=None, scale=False):\n",
    "        \"\"\"This is a helper function that samples from the flow (i.e. generates a new sample)\n",
    "        and reverses the standard scaling that is done in the preprocessing. This allows to calculate the mass\n",
    "        on the generative sample and to compare to the simulated one, we need to inverse the scaling before calculating the mass\n",
    "        because calculating the mass is a non linear transformation and does not commute with the mass calculation\"\"\"\n",
    "        mask=mask.bool()\n",
    "        if mask_test!=None:\n",
    "            mask_test=mask_test.bool()\n",
    "        else:\n",
    "            mask_test=mask\n",
    "        \n",
    "        z = self.flow.sample(len(batch) if not self.config[\"context_features\"] else 1, context=None if not self.config[\"context_features\"]\n",
    "                            else (~mask_test).sum(1).float().reshape(-1,1)).reshape(len(batch), self.n_part, self.n_dim)\n",
    "        fake = z + self.gen_net(z, mask=mask_test)  # (1-self.alpha)*\n",
    "        fake = fake.reshape(len(batch), self.n_part, self.n_dim)\n",
    "        if scale:\n",
    "            fake_scaled, z_scaled, true = (self.scale(fake.detach().clone(),mask_test).to(batch.device),\n",
    "                                        self.scale(z.detach().clone(),mask_test).to(batch.device), \n",
    "                                        self.scale(batch.detach().clone(),mask).to(batch.device))\n",
    "            true = true * (~mask.reshape(len(batch), self.n_part, 1))\n",
    "            z_scaled = z_scaled * (~mask_test.reshape(len(batch), self.n_part, 1))\n",
    "            fake_scaled = fake_scaled * (~mask_test.reshape(len(batch), self.n_part, 1))\n",
    "            return fake.to(batch.device), fake_scaled, true, z_scaled\n",
    "        else:\n",
    "            return fake\n",
    "\n",
    "\n",
    "\n",
    "    def train_disc(self,  batch,mask,opt_d,sched_d=None):  \n",
    "        batch = batch.reshape(len(batch), self.n_part, self.n_dim)\n",
    "        fake = self.sampleandscale(batch, mask, scale=False)\n",
    "        fake = fake.detach()\n",
    "        if self.config[\"mass\"]:\n",
    "            m_t = mass(batch, mask=~mask, canonical=self.config[\"canonical\"])\n",
    "            m_f = mass(fake, mask=~mask, canonical=self.config[\"canonical\"])\n",
    "        pred_real = self.dis_net(batch.detach(), m=None if not self.config[\"mass\"] else m_t.detach(), mask=mask)\n",
    "        pred_fake = self.dis_net(fake.detach(), m=None if not self.config[\"mass\"] else m_f.detach(), mask=mask)\n",
    "        target_real = torch.ones_like(pred_real)\n",
    "        target_fake = -torch.ones_like(pred_fake)\n",
    "        pred = torch.vstack((pred_real, pred_fake))\n",
    "#         pred= self.sig(pred)\n",
    "        target = torch.vstack((target_real, target_fake))\n",
    "        d_loss = nn.MSELoss()(pred, target).mean()\n",
    "        gp=self.compute_gradient_penalty(batch, fake, pred_real, pred_fake)\n",
    "#         d_loss = nn.BCELoss()(pred, target).mean()\n",
    "        self.log(\"d_loss\", d_loss, logger=True, prog_bar=True)\n",
    "        self.dis_net.zero_grad()\n",
    "        self.manual_backward(d_loss)\n",
    "        if self.global_step > 0:\n",
    "            opt_d.step()\n",
    "        else:\n",
    "            opt_d.zero_grad()\n",
    "        if self.current_epoch%10==0 and self.config[\"mass\"]:\n",
    "            self.plot_mass(m_t,m_f)\n",
    "        return pred_real,pred_fake\n",
    "\n",
    "    def train_gen(self,batch,mask,opt_g,sched_g=None):\n",
    "        fake = self.sampleandscale(batch, mask, scale=False)\n",
    "        m_f = mass(fake, mask=~mask, canonical=self.config[\"canonical\"])\n",
    "        pred_fake = self.dis_net(fake, None if not self.config[\"mass\"] else m_f, mask=mask)\n",
    "#         pred_fake = self.sig(pred_fake)\n",
    "       \n",
    "        target_real = torch.zeros_like(pred_fake)\n",
    "        g_loss = nn.MSELoss()((pred_fake.view(-1)), target_real.view(-1))  \n",
    "        self.gen_net.zero_grad()\n",
    "        self.manual_backward(g_loss)\n",
    "        if self.global_step > 10:\n",
    "            opt_g.step()\n",
    "        else:\n",
    "            opt_g.zero_grad()\n",
    "        self.log(\"g_loss\", g_loss, logger=True, prog_bar=True)\n",
    "\n",
    "        if self.global_step == 3:\n",
    "            print(\"passed test gen\")\n",
    "        if self.current_epoch%10==0:\n",
    "            self.plot_mass(m_f,postfix=\"2\")\n",
    "\n",
    "   \n",
    "    def _summary(self, temp):\n",
    "        self.summary_path = \"/beegfs/desy/user/{}/{}/summary.csv\".format(os.environ[\"USER\"], self.config[\"name\"])\n",
    "        if os.path.isfile(self.summary_path):\n",
    "            summary = pd.read_csv(self.summary_path).set_index([\"path_index\"])\n",
    "        else:\n",
    "            print(\"summary not found\")\n",
    "            summary = pd.DataFrame()\n",
    "        summary.loc[self.logger.log_dir, self.config.keys()] = self.config.values()\n",
    "        summary.loc[self.logger.log_dir, temp.keys()] = temp.values()\n",
    "        summary.loc[self.logger.log_dir, \"time\"] = time.time() - self.start\n",
    "        summary.to_csv(self.summary_path, index_label=[\"path_index\"])\n",
    "        return summary\n",
    "\n",
    "    def _results(self, temp):\n",
    "        self.metrics[\"step\"].append(self.current_epoch)\n",
    "        self.df = self.df.append(pd.DataFrame([temp], index=[self.current_epoch]))\n",
    "        self.df.to_csv(self.logger.log_dir + \"result.csv\", index_label=[\"index\"])\n",
    "    def compute_gradient_penalty(self, real, fake, pred_real, pred_fake):\n",
    "        k = 2\n",
    "        p = 6\n",
    "        real = real.reshape(len(real),self.n_part,self.n_dim)\n",
    "        fake = fake.reshape(len(real),self.n_part,self.n_dim)\n",
    "        fake = Variable(fake, requires_grad=True)\n",
    "        real = Variable(real, requires_grad=True)\n",
    "        m_t=mass(real.reshape(len(real),self.n_part*self.n_dim))\n",
    "        m_f=mass(fake.reshape(len(real),self.n_part*self.n_dim))\n",
    "        pred_real = self.dis_net(real, None if not self.config[\"mass\"] else m_t)\n",
    "        pred_fake = self.dis_net(fake, None if not self.config[\"mass\"] else m_f)\n",
    "        real_grad_out = Variable(torch.cuda.FloatTensor(real.size(0), 1).fill_(1.0), requires_grad=False)\n",
    "        real_grad = autograd.grad(pred_real, real, grad_outputs=real_grad_out, create_graph=True, retain_graph=True, only_inputs=True)[0]\n",
    "        real_grad_norm = real_grad.view(real_grad.size(0), -1).pow(2).sum(1) ** (p / 2)\n",
    "\n",
    "        fake_grad_out = Variable(torch.cuda.FloatTensor(fake.size(0), 1).fill_(1.0), requires_grad=False)\n",
    "        fake_grad = autograd.grad(pred_fake, fake, grad_outputs=fake_grad_out, create_graph=True, retain_graph=True, only_inputs=True)[0]\n",
    "        fake_grad_norm = fake_grad.view(fake_grad.size(0), -1).pow(2).sum(1) ** (p / 2)\n",
    "        div_gp = torch.mean(real_grad_norm + fake_grad_norm) * k / 2\n",
    "        return div_gp\n",
    "    def training_step(self, batch, batch_idx):\n",
    "        \"\"\"training loop of the model, here all the data is passed forward to a gaussian\n",
    "        This is the important part what is happening here. This is all the training we do\"\"\"\n",
    "        batch = batch.cuda()\n",
    "        mask = batch[:, self.n_part*self.n_dim:].bool()\n",
    "        batch = batch[:, :self.n_part*self.n_dim]\n",
    "        opt_nf, opt_d, opt_g = self.optimizers()\n",
    "        if self.config[\"sched\"]:\n",
    "            sched_nf, sched_d, sched_g = self.lr_schedulers()\n",
    "        # ### NF PART\n",
    "        if self.config[\"sched\"] != None:\n",
    "            self.log(\"lr_g\", sched_g.get_last_lr()[-1], logger=True, on_epoch=True)\n",
    "            self.log(\"lr_nf\", sched_nf.get_last_lr()[-1], logger=True, on_epoch=True)\n",
    "            self.log(\"lr_d\", sched_d.get_last_lr()[-1], logger=True, on_epoch=True)\n",
    "\n",
    "        # Only train nf for first few epochs\n",
    "        if self.current_epoch < self.train_nf:\n",
    "            if self.config[\"sched\"] != None:\n",
    "                sched_nf.step()\n",
    "            nf_loss = -self.flow.to(self.device).log_prob(batch,context=(~mask).sum(1).reshape(-1,1).float() if self.config[\"context_features\"] else None).mean()\n",
    "            nf_loss /= self.n_dim * self.n_part\n",
    "            self.flow.zero_grad()\n",
    "            self.manual_backward(nf_loss)\n",
    "            opt_nf.step()\n",
    "            self.log(\"logprob\", nf_loss, on_step=True, on_epoch=False, prog_bar=True, logger=True)\n",
    "\n",
    "        # GAN PART\n",
    "\n",
    "        if self.config[\"sched\"]:\n",
    "            sched_d.step()\n",
    "    \n",
    "        if self.current_epoch == self.train_nf//2:\n",
    "            print(\"start gan training\")\n",
    "        pred_real,pred_fake=self.train_disc(batch=batch,mask=mask,opt_d=opt_d,sched_d=sched_d if self.config[\"sched\"] else None )\n",
    "        if (self.current_epoch > self.train_nf//2  and self.global_step % self.freq_d < 2) or self.global_step <= 3:\n",
    "            \n",
    "            if self.config[\"sched\"]:\n",
    "                sched_g.step()\n",
    "            self.train_gen(batch=batch,mask=mask,opt_g=opt_g,sched_g=sched_g if self.config[\"sched\"] else None )\n",
    "        # Control plot train\n",
    "        if self.current_epoch % 5 == 0 and self.current_epoch > self.train_nf / 2:\n",
    "            self.plot_class(pred_real=pred_real,pred_fake=pred_fake,mask=mask)\n",
    "    def validation_step(self, batch, batch_idx):\n",
    "        \"\"\"This calculates some important metrics on the hold out set (checking for overtraining)\"\"\"\n",
    "\n",
    "        mask = batch[:, self.n_part*self.n_dim:].cpu().bool()\n",
    "        mask_test = self.sample_n(mask).bool()\n",
    "        batch = batch[:, :self.n_part*self.n_dim].cpu()\n",
    "        self.dis_net.train()\n",
    "        self.gen_net.train()\n",
    "        self.flow.train()\n",
    "        # self.data_module.scaler.to(\"cpu\")\n",
    "        batch = batch.to(\"cpu\")\n",
    "        self.flow = self.flow.to(\"cpu\")\n",
    "        self.dis_net = self.dis_net.cpu()\n",
    "        self.gen_net = self.gen_net.cpu()\n",
    "\n",
    "        with torch.no_grad():\n",
    "            gen, fake_scaled, true_scaled, z_scaled = self.sampleandscale(batch,mask, mask_test, scale=True)\n",
    "            if self.config[\"mass\"]:\n",
    "                m_t = mass(batch, mask=~mask, canonical=self.config[\"canonical\"])\n",
    "                m_f = mass(gen, mask=~mask_test, canonical=self.config[\"canonical\"])\n",
    "                self.plot_mass(m_t,m_f)\n",
    "                \n",
    "#                 fig=plt.figure()\n",
    "#                 max_m=np.min(np.quantile(m_t.numpy(),0.95),np.quantile(m_f.numpy(),0.95))\n",
    "#                 _,bins,_=plt.hist(m_t.detach().numpy(),bins=np.linspace(0,max_m,30),label=\"True\")\n",
    "#                 plt.hist(m_f.cpu().detach().numpy(),bins=bins,label=\"Fake\")\n",
    "#                 plt.legend()\n",
    "#                 self.logger.experiment.add_figure(\"train_mass\", fig, global_step=self.current_epoch)\n",
    "#                 plt.close()\n",
    "        pred_real = self.dis_net(batch.reshape(len(batch), self.n_part, self.n_dim), m=None if not self.config[\"mass\"] else m_t, mask=mask)\n",
    "        pred_fake = self.dis_net(gen, m=None if not self.config[\"mass\"] else m_f, mask=mask_test)\n",
    "      \n",
    "        target_real = torch.ones_like(pred_real)\n",
    "        target_fake = torch.zeros_like(pred_fake)\n",
    "        pred = torch.vstack((pred_real, pred_fake))\n",
    "        target = torch.vstack((target_real, target_fake))\n",
    "        d_loss = nn.MSELoss()(pred, target).mean()\n",
    "        g_loss = nn.MSELoss()((pred_fake.view(-1)), target_real.view(-1))\n",
    "        true_scaled=true_scaled.reshape(-1,self.n_part,self.n_dim)*(~mask).reshape(-1,self.n_part,1)\n",
    "        fake_scaled=fake_scaled.reshape(-1,self.n_part,3)*(~mask_test).reshape(-1,self.n_part,1)\n",
    "        z_scaled=(z_scaled.reshape(-1,self.n_part,3)*(~mask_test).reshape(-1,self.n_part,1)).reshape(-1,self.n_dim*self.n_part)\n",
    "        true_scaled, fake_scaled, z_scaled = (true_scaled.reshape(-1, self.n_dim*self.n_part), fake_scaled.reshape(-1, self.n_dim*self.n_part), z_scaled.reshape(-1, self.n_dim*self.n_part))\n",
    "        # Reverse Standard Scaling (this has nothing to do with flows, it is a standard preprocessing step)\n",
    "        m_t = mass(true_scaled, canonical=self.config[\"canonical\"], mask=~mask).cpu()\n",
    "        m_gen = mass(z_scaled, mask=~mask_test, canonical=self.config[\"canonical\"]).cpu()\n",
    "        m_c = mass(fake_scaled, mask=~mask_test, canonical=self.config[\"canonical\"]).cpu()\n",
    "        fake_scaled=fake_scaled.reshape(-1,self.n_part,self.n_dim)\n",
    "        true_scaled=true_scaled.reshape(-1,self.n_part,self.n_dim)\n",
    "        z_scaled=z_scaled.reshape(-1,self.n_part,self.n_dim)\n",
    "\n",
    "        for i in range(self.n_part):\n",
    "            # gen[gen[:,i]<0,i]=0\n",
    "            z_scaled[z_scaled[:, i,2] < 0,i, 2] = 0\n",
    "            fake_scaled[fake_scaled[:, i,2] < 0,i, 2] = 0\n",
    "            true_scaled[true_scaled[:, i,2] < 0,i, 2] = 0\n",
    "        # metrics\n",
    "\n",
    "        cov, mmd = cov_mmd(fake_scaled, true_scaled, use_tqdm=False)\n",
    "        nfcov, nfmmd = cov_mmd(z_scaled, true_scaled, use_tqdm=False)\n",
    "        try:\n",
    "            fpndnf = fpnd(z_scaled.numpy(), use_tqdm=False, jet_type=self.config[\"parton\"]) \n",
    "            fpndv = fpnd(fake_scaled.numpy(), use_tqdm=False, jet_type=self.config[\"parton\"])\n",
    "        except:\n",
    "            fpndv = 1000\n",
    "            fpndnf=1000\n",
    "        self.fpnds.append(fpndv)\n",
    "#         if (np.array(self.fpnds)[-10:] > 5).all() and self.current_epoch > 200:\n",
    "#             print(\"fpnd to high, stop training\")\n",
    "#             raise\n",
    "        w1m_ = w1m(fake_scaled.reshape(len(batch), self.n_part, self.n_dim), true_scaled.reshape(len(batch), self.n_part, self.n_dim))[0]\n",
    "        w1p_ = w1p(fake_scaled.reshape(len(batch), self.n_part, self.n_dim), true_scaled.reshape(len(batch), self.n_part, self.n_dim))[0]\n",
    "        w1efp_ = w1efp(fake_scaled.reshape(len(batch), self.n_part, self.n_dim), true_scaled.reshape(len(batch), self.n_part, self.n_dim))[0]\n",
    "\n",
    "        temp = {\n",
    "            \"val_fpnd\": fpndv,\n",
    "            \"val_fpnd_nf\": fpndnf,\n",
    "            \"val_mmd\": mmd,\n",
    "            \"val_cov\": cov,\n",
    "            \"val_nfcov\": nfcov,\n",
    "            \"val_w1m\": w1m_,\n",
    "            \"val_w1efp\": w1efp_,\n",
    "            \"val_w1p\": w1p_,\n",
    "            \"step\": self.global_step,\n",
    "            \"g_loss\": float(g_loss.numpy()),\n",
    "            \"d_loss\": float(d_loss.numpy()),\n",
    "        }\n",
    "        print(\"epoch {}: \".format(self.current_epoch), temp)\n",
    "        if self.hyperopt and self.global_step > 3:\n",
    "\n",
    "            # if self.current_epoch < self.train_nf:\n",
    "            with torch.no_grad():\n",
    "                logprob = -self.flow.log_prob(batch,context=(~mask).sum(1).reshape(-1,1).float() if self.config[\"context_features\"] else None).mean() / 90\n",
    "            self.log(\"val_logprob\", logprob, prog_bar=True, logger=True)\n",
    "            temp[\"val_logprob\"] = float(logprob.numpy())\n",
    "            try:\n",
    "                self._results(temp)\n",
    "            except:\n",
    "                print(\"error in results\")\n",
    "            self._summary(temp)\n",
    "\n",
    "        self.log(\"hp_metric\", w1m_, on_step=False, on_epoch=True, prog_bar=True, logger=True)\n",
    "        self.log(\"val_w1m\", w1m_, on_step=False, on_epoch=True, prog_bar=True, logger=True)\n",
    "        self.log(\"val_w1p\", w1p_, on_step=False, on_epoch=True, prog_bar=True, logger=True)\n",
    "        self.log(\"val_w1efp\", w1efp_, on_step=False, on_epoch=True, prog_bar=True, logger=True)\n",
    "        self.log(\"val_cov\", cov, prog_bar=True, logger=True, on_step=False, on_epoch=True)\n",
    "        self.log(\"val_nfcov\", nfcov, prog_bar=True, logger=True, on_step=False, on_epoch=True)\n",
    "        self.log(\"val_nfmmd\", nfmmd, prog_bar=True, logger=True, on_step=False, on_epoch=True)\n",
    "        self.log(\"val_fpnd\", fpndv, prog_bar=True, logger=True, on_step=False, on_epoch=True)\n",
    "        self.log(\"val_fpnd_nf\", fpndnf, prog_bar=True, logger=True, on_step=False, on_epoch=True)\n",
    "        self.log(\"val_mmd\", mmd, prog_bar=True, logger=True, on_step=False, on_epoch=True)\n",
    "        self.log(\"g_loss\", g_loss, prog_bar=True, logger=True, on_step=False, on_epoch=True)\n",
    "        self.log(\"d_loss\", d_loss, prog_bar=True, logger=True, on_step=False, on_epoch=True)\n",
    "        true_scaled, fake_scaled, z_scaled = (true_scaled.reshape(-1,self.n_part*self.n_dim), fake_scaled.reshape(-1, self.n_part*self.n_dim), z_scaled.reshape(-1, self.n_part*self.n_dim))\n",
    "        self.plot = plotting(\n",
    "            model=self, gen=z_scaled, gen_corr=fake_scaled, true=true_scaled, config=self.config, step=self.global_step, logger=self.logger.experiment\n",
    "        )\n",
    "        try:\n",
    "            self.plot.plot_mass(m=m_gen.cpu().numpy(), m_t=m_t.cpu().numpy(), m_c=m_c.cpu().numpy(), save=True, bins=50, quantile=True, plot_vline=False)\n",
    "            self.plot.plot_class(pred_fake=pred_fake, pred_real=pred_real, bins=50, step=self.current_epoch)\n",
    "            # self.plot.plot_2d(save=True)\n",
    "        #             self.plot.var_part(true=true[:,:self.n_dim],gen=gen_corr[:,:self.n_dim],true_n=n_true,gen_n=n_gen_corr,m_true=m_t,m_gen=m_test ,save=True)\n",
    "        except Exception as e:\n",
    "            traceback.print_exc()\n",
    "        self.flow = self.flow.to(\"cuda\")\n",
    "        self.gen_net = self.gen_net.to(\"cuda\")\n",
    "        self.dis_net = self.dis_net.to(\"cuda\")\n",
    "    "
   ]
  },
  {
   "cell_type": "code",
   "execution_count": null,
   "id": "7aeaf2c7",
   "metadata": {},
   "outputs": [
    {
     "name": "stderr",
     "output_type": "stream",
     "text": [
      "GPU available: True, used: True\n",
      "TPU available: False, using: 0 TPU cores\n",
      "IPU available: False, using: 0 IPUs\n",
      "HPU available: False, using: 0 HPUs\n",
      "LOCAL_RANK: 0 - CUDA_VISIBLE_DEVICES: [0]\n",
      "\n",
      "  | Name    | Type               | Params\n",
      "-----------------------------------------------\n",
      "0 | q0      | StandardNormal     | 0     \n",
      "1 | flows   | CompositeTransform | 2.4 M \n",
      "2 | flow    | Flow               | 2.4 M \n",
      "3 | gen_net | Gen                | 500 K \n",
      "4 | dis_net | Disc               | 433 K \n",
      "5 | sig     | Sigmoid            | 0     \n",
      "-----------------------------------------------\n",
      "3.3 M     Trainable params\n",
      "0         Non-trainable params\n",
      "3.3 M     Total params\n",
      "13.247    Total estimated model params size (MB)\n"
     ]
    },
    {
     "data": {
      "application/vnd.jupyter.widget-view+json": {
       "model_id": "",
       "version_major": 2,
       "version_minor": 0
      },
      "text/plain": [
       "Sanity Checking: 0it [00:00, ?it/s]"
      ]
     },
     "metadata": {},
     "output_type": "display_data"
    },
    {
     "name": "stderr",
     "output_type": "stream",
     "text": [
      "/beegfs/desy/user/kaechben/.conda/envs/jetnet/lib/python3.8/site-packages/pytorch_lightning/trainer/connectors/data_connector.py:240: PossibleUserWarning: The dataloader, val_dataloader 0, does not have many workers which may be a bottleneck. Consider increasing the value of the `num_workers` argument` (try 40 which is the number of cpus on this machine) in the `DataLoader` init to improve performance.\n",
      "  rank_zero_warn(\n"
     ]
    },
    {
     "name": "stdout",
     "output_type": "stream",
     "text": [
      "epoch 0:  {'val_fpnd': 1000, 'val_fpnd_nf': 1000, 'val_mmd': 0.06960707900851483, 'val_cov': 0.29100000000000004, 'val_nfcov': 0.4699999999999999, 'val_w1m': 0.005964267672980203, 'val_w1efp': 6.704475076852187e-06, 'val_w1p': 0.08106620829714696, 'step': 0, 'g_loss': 4.150698184967041, 'd_loss': 5.226185321807861}\n"
     ]
    },
    {
     "name": "stderr",
     "output_type": "stream",
     "text": [
      "/beegfs/desy/user/kaechben/.conda/envs/jetnet/lib/python3.8/site-packages/pytorch_lightning/trainer/connectors/data_connector.py:240: PossibleUserWarning: The dataloader, train_dataloader, does not have many workers which may be a bottleneck. Consider increasing the value of the `num_workers` argument` (try 40 which is the number of cpus on this machine) in the `DataLoader` init to improve performance.\n",
      "  rank_zero_warn(\n"
     ]
    },
    {
     "data": {
      "application/vnd.jupyter.widget-view+json": {
       "model_id": "136a5687160943c0a52765fc92499402",
       "version_major": 2,
       "version_minor": 0
      },
      "text/plain": [
       "Training: 0it [00:00, ?it/s]"
      ]
     },
     "metadata": {},
     "output_type": "display_data"
    },
    {
     "name": "stderr",
     "output_type": "stream",
     "text": [
      "/beegfs/desy/user/kaechben/.conda/envs/jetnet/lib/python3.8/site-packages/torch/optim/lr_scheduler.py:131: UserWarning: Detected call of `lr_scheduler.step()` before `optimizer.step()`. In PyTorch 1.1.0 and later, you should call them in the opposite order: `optimizer.step()` before `lr_scheduler.step()`.  Failure to do this will result in PyTorch skipping the first value of the learning rate schedule. See more details at https://pytorch.org/docs/stable/optim.html#how-to-adjust-learning-rate\n",
      "  warnings.warn(\"Detected call of `lr_scheduler.step()` before `optimizer.step()`. \"\n",
      "/beegfs/desy/user/kaechben/.conda/envs/jetnet/lib/python3.8/site-packages/torch/optim/lr_scheduler.py:131: UserWarning: Detected call of `lr_scheduler.step()` before `optimizer.step()`. In PyTorch 1.1.0 and later, you should call them in the opposite order: `optimizer.step()` before `lr_scheduler.step()`.  Failure to do this will result in PyTorch skipping the first value of the learning rate schedule. See more details at https://pytorch.org/docs/stable/optim.html#how-to-adjust-learning-rate\n",
      "  warnings.warn(\"Detected call of `lr_scheduler.step()` before `optimizer.step()`. \"\n"
     ]
    },
    {
     "data": {
      "application/vnd.jupyter.widget-view+json": {
       "model_id": "",
       "version_major": 2,
       "version_minor": 0
      },
      "text/plain": [
       "Validation: 0it [00:00, ?it/s]"
      ]
     },
     "metadata": {},
     "output_type": "display_data"
    },
    {
     "name": "stdout",
     "output_type": "stream",
     "text": [
      "epoch 9:  {'val_fpnd': 1000, 'val_fpnd_nf': 1000, 'val_mmd': 0.06834950315065971, 'val_cov': 0.33, 'val_nfcov': 0.5439999999999999, 'val_w1m': 0.006291675058513646, 'val_w1efp': 6.6673412474179615e-06, 'val_w1p': 0.07805497147405517, 'step': 600, 'g_loss': 4.913760662078857, 'd_loss': 0.9857065081596375}\n"
     ]
    },
    {
     "name": "stderr",
     "output_type": "stream",
     "text": [
      "/tmp/ipykernel_14820/435563659.py:533: FutureWarning: The frame.append method is deprecated and will be removed from pandas in a future version. Use pandas.concat instead.\n",
      "  self.df = self.df.append(pd.DataFrame([temp], index=[self.current_epoch]))\n"
     ]
    },
    {
     "name": "stdout",
     "output_type": "stream",
     "text": [
      "start gan training\n",
      "start gan training\n",
      "start gan training\n",
      "start gan training\n",
      "start gan training\n",
      "start gan training\n",
      "start gan training\n",
      "start gan training\n",
      "start gan training\n",
      "start gan training\n",
      "start gan training\n",
      "start gan training\n",
      "start gan training\n",
      "start gan training\n",
      "start gan training\n",
      "start gan training\n",
      "start gan training\n",
      "start gan training\n",
      "start gan training\n",
      "start gan training\n",
      "start gan training\n",
      "start gan training\n",
      "start gan training\n",
      "start gan training\n",
      "start gan training\n",
      "start gan training\n",
      "start gan training\n",
      "start gan training\n",
      "start gan training\n",
      "start gan training\n"
     ]
    },
    {
     "data": {
      "application/vnd.jupyter.widget-view+json": {
       "model_id": "",
       "version_major": 2,
       "version_minor": 0
      },
      "text/plain": [
       "Validation: 0it [00:00, ?it/s]"
      ]
     },
     "metadata": {},
     "output_type": "display_data"
    },
    {
     "name": "stdout",
     "output_type": "stream",
     "text": [
      "epoch 19:  {'val_fpnd': 1000, 'val_fpnd_nf': 1000, 'val_mmd': 0.05287318106842864, 'val_cov': 0.40700000000000003, 'val_nfcov': 0.568, 'val_w1m': 0.008367769674279261, 'val_w1efp': 1.122234790893623e-05, 'val_w1p': 0.04776256563879944, 'step': 1334, 'g_loss': 1.840531826019287, 'd_loss': 0.529977560043335}\n"
     ]
    },
    {
     "name": "stderr",
     "output_type": "stream",
     "text": [
      "/tmp/ipykernel_14820/435563659.py:533: FutureWarning: The frame.append method is deprecated and will be removed from pandas in a future version. Use pandas.concat instead.\n",
      "  self.df = self.df.append(pd.DataFrame([temp], index=[self.current_epoch]))\n"
     ]
    },
    {
     "data": {
      "application/vnd.jupyter.widget-view+json": {
       "model_id": "",
       "version_major": 2,
       "version_minor": 0
      },
      "text/plain": [
       "Validation: 0it [00:00, ?it/s]"
      ]
     },
     "metadata": {},
     "output_type": "display_data"
    },
    {
     "name": "stdout",
     "output_type": "stream",
     "text": [
      "epoch 29:  {'val_fpnd': 1000, 'val_fpnd_nf': 1000, 'val_mmd': 0.04600275755595688, 'val_cov': 0.558, 'val_nfcov': 0.568, 'val_w1m': 0.002367013409814099, 'val_w1efp': 3.7140525294278975e-06, 'val_w1p': 0.0017067966392070946, 'step': 1709, 'g_loss': 1.0113447904586792, 'd_loss': 0.5058338046073914}\n"
     ]
    },
    {
     "name": "stderr",
     "output_type": "stream",
     "text": [
      "/tmp/ipykernel_14820/435563659.py:533: FutureWarning: The frame.append method is deprecated and will be removed from pandas in a future version. Use pandas.concat instead.\n",
      "  self.df = self.df.append(pd.DataFrame([temp], index=[self.current_epoch]))\n"
     ]
    },
    {
     "data": {
      "application/vnd.jupyter.widget-view+json": {
       "model_id": "",
       "version_major": 2,
       "version_minor": 0
      },
      "text/plain": [
       "Validation: 0it [00:00, ?it/s]"
      ]
     },
     "metadata": {},
     "output_type": "display_data"
    },
    {
     "name": "stdout",
     "output_type": "stream",
     "text": [
      "epoch 39:  {'val_fpnd': 1000, 'val_fpnd_nf': 1000, 'val_mmd': 0.04374807280329525, 'val_cov': 0.5700000000000001, 'val_nfcov': 0.549, 'val_w1m': 0.004146318763252348, 'val_w1efp': 4.976421056666141e-06, 'val_w1p': 0.004880677927316858, 'step': 2084, 'g_loss': 1.1153860092163086, 'd_loss': 0.5113409161567688}\n"
     ]
    },
    {
     "name": "stderr",
     "output_type": "stream",
     "text": [
      "/tmp/ipykernel_14820/435563659.py:533: FutureWarning: The frame.append method is deprecated and will be removed from pandas in a future version. Use pandas.concat instead.\n",
      "  self.df = self.df.append(pd.DataFrame([temp], index=[self.current_epoch]))\n"
     ]
    },
    {
     "data": {
      "application/vnd.jupyter.widget-view+json": {
       "model_id": "",
       "version_major": 2,
       "version_minor": 0
      },
      "text/plain": [
       "Validation: 0it [00:00, ?it/s]"
      ]
     },
     "metadata": {},
     "output_type": "display_data"
    },
    {
     "name": "stdout",
     "output_type": "stream",
     "text": [
      "epoch 49:  {'val_fpnd': 1000, 'val_fpnd_nf': 1000, 'val_mmd': 0.03867683459891135, 'val_cov': 0.34, 'val_nfcov': 0.549, 'val_w1m': 0.013790829115582165, 'val_w1efp': 1.9152611010783648e-05, 'val_w1p': 0.020250358119847076, 'step': 2459, 'g_loss': 2.806807279586792, 'd_loss': 0.7520131468772888}\n"
     ]
    },
    {
     "name": "stderr",
     "output_type": "stream",
     "text": [
      "/tmp/ipykernel_14820/435563659.py:533: FutureWarning: The frame.append method is deprecated and will be removed from pandas in a future version. Use pandas.concat instead.\n",
      "  self.df = self.df.append(pd.DataFrame([temp], index=[self.current_epoch]))\n"
     ]
    },
    {
     "data": {
      "application/vnd.jupyter.widget-view+json": {
       "model_id": "",
       "version_major": 2,
       "version_minor": 0
      },
      "text/plain": [
       "Validation: 0it [00:00, ?it/s]"
      ]
     },
     "metadata": {},
     "output_type": "display_data"
    },
    {
     "name": "stdout",
     "output_type": "stream",
     "text": [
      "epoch 59:  {'val_fpnd': 1000, 'val_fpnd_nf': 1000, 'val_mmd': 0.04620213388039283, 'val_cov': 0.5609999999999999, 'val_nfcov': 0.549, 'val_w1m': 0.0019064881173998579, 'val_w1efp': 5.7863010829868115e-06, 'val_w1p': 0.004544959403712756, 'step': 2834, 'g_loss': 1.079053521156311, 'd_loss': 0.4981842339038849}\n"
     ]
    },
    {
     "name": "stderr",
     "output_type": "stream",
     "text": [
      "/tmp/ipykernel_14820/435563659.py:533: FutureWarning: The frame.append method is deprecated and will be removed from pandas in a future version. Use pandas.concat instead.\n",
      "  self.df = self.df.append(pd.DataFrame([temp], index=[self.current_epoch]))\n"
     ]
    },
    {
     "data": {
      "application/vnd.jupyter.widget-view+json": {
       "model_id": "",
       "version_major": 2,
       "version_minor": 0
      },
      "text/plain": [
       "Validation: 0it [00:00, ?it/s]"
      ]
     },
     "metadata": {},
     "output_type": "display_data"
    },
    {
     "name": "stdout",
     "output_type": "stream",
     "text": [
      "epoch 69:  {'val_fpnd': 1000, 'val_fpnd_nf': 1000, 'val_mmd': 0.047580491626323544, 'val_cov': 0.542, 'val_nfcov': 0.571, 'val_w1m': 0.0018991788806603286, 'val_w1efp': 6.123374331774946e-06, 'val_w1p': 0.005392814946925831, 'step': 3209, 'g_loss': 1.0927000045776367, 'd_loss': 0.5252995491027832}\n"
     ]
    },
    {
     "name": "stderr",
     "output_type": "stream",
     "text": [
      "/tmp/ipykernel_14820/435563659.py:533: FutureWarning: The frame.append method is deprecated and will be removed from pandas in a future version. Use pandas.concat instead.\n",
      "  self.df = self.df.append(pd.DataFrame([temp], index=[self.current_epoch]))\n"
     ]
    },
    {
     "data": {
      "application/vnd.jupyter.widget-view+json": {
       "model_id": "",
       "version_major": 2,
       "version_minor": 0
      },
      "text/plain": [
       "Validation: 0it [00:00, ?it/s]"
      ]
     },
     "metadata": {},
     "output_type": "display_data"
    },
    {
     "name": "stdout",
     "output_type": "stream",
     "text": [
      "epoch 79:  {'val_fpnd': 1000, 'val_fpnd_nf': 1000, 'val_mmd': 0.10287217068541273, 'val_cov': 0.253, 'val_nfcov': 0.5850000000000001, 'val_w1m': 0.003147806775593199, 'val_w1efp': 9.526289350529575e-06, 'val_w1p': 0.08105651713340525, 'step': 3584, 'g_loss': 3.511744499206543, 'd_loss': 0.5140354037284851}\n"
     ]
    },
    {
     "name": "stderr",
     "output_type": "stream",
     "text": [
      "/tmp/ipykernel_14820/435563659.py:533: FutureWarning: The frame.append method is deprecated and will be removed from pandas in a future version. Use pandas.concat instead.\n",
      "  self.df = self.df.append(pd.DataFrame([temp], index=[self.current_epoch]))\n"
     ]
    },
    {
     "data": {
      "application/vnd.jupyter.widget-view+json": {
       "model_id": "",
       "version_major": 2,
       "version_minor": 0
      },
      "text/plain": [
       "Validation: 0it [00:00, ?it/s]"
      ]
     },
     "metadata": {},
     "output_type": "display_data"
    },
    {
     "name": "stdout",
     "output_type": "stream",
     "text": [
      "epoch 89:  {'val_fpnd': 1000, 'val_fpnd_nf': 1000, 'val_mmd': 0.06243903257791472, 'val_cov': 0.4879999999999999, 'val_nfcov': 0.571, 'val_w1m': 0.008255495755431474, 'val_w1efp': 3.2522334563722224e-05, 'val_w1p': 0.013458414340212008, 'step': 3959, 'g_loss': 1.0182620286941528, 'd_loss': 0.503745436668396}\n"
     ]
    },
    {
     "name": "stderr",
     "output_type": "stream",
     "text": [
      "/tmp/ipykernel_14820/435563659.py:533: FutureWarning: The frame.append method is deprecated and will be removed from pandas in a future version. Use pandas.concat instead.\n",
      "  self.df = self.df.append(pd.DataFrame([temp], index=[self.current_epoch]))\n"
     ]
    },
    {
     "data": {
      "application/vnd.jupyter.widget-view+json": {
       "model_id": "",
       "version_major": 2,
       "version_minor": 0
      },
      "text/plain": [
       "Validation: 0it [00:00, ?it/s]"
      ]
     },
     "metadata": {},
     "output_type": "display_data"
    },
    {
     "name": "stdout",
     "output_type": "stream",
     "text": [
      "epoch 99:  {'val_fpnd': 1000, 'val_fpnd_nf': 1000, 'val_mmd': 0.055599128808894505, 'val_cov': 0.524, 'val_nfcov': 0.5599999999999999, 'val_w1m': 0.005200741758840159, 'val_w1efp': 2.0245359258098497e-05, 'val_w1p': 0.01016873182983675, 'step': 4334, 'g_loss': 0.9809495210647583, 'd_loss': 0.48821476101875305}\n"
     ]
    },
    {
     "name": "stderr",
     "output_type": "stream",
     "text": [
      "/tmp/ipykernel_14820/435563659.py:533: FutureWarning: The frame.append method is deprecated and will be removed from pandas in a future version. Use pandas.concat instead.\n",
      "  self.df = self.df.append(pd.DataFrame([temp], index=[self.current_epoch]))\n"
     ]
    },
    {
     "data": {
      "application/vnd.jupyter.widget-view+json": {
       "model_id": "",
       "version_major": 2,
       "version_minor": 0
      },
      "text/plain": [
       "Validation: 0it [00:00, ?it/s]"
      ]
     },
     "metadata": {},
     "output_type": "display_data"
    },
    {
     "name": "stdout",
     "output_type": "stream",
     "text": [
      "epoch 109:  {'val_fpnd': 1000, 'val_fpnd_nf': 1000, 'val_mmd': 0.05686636066052873, 'val_cov': 0.503, 'val_nfcov': 0.5559999999999999, 'val_w1m': 0.006708047291635303, 'val_w1efp': 2.591325469655157e-05, 'val_w1p': 0.013062628992378046, 'step': 4709, 'g_loss': 1.01874840259552, 'd_loss': 0.5057255625724792}\n"
     ]
    },
    {
     "name": "stderr",
     "output_type": "stream",
     "text": [
      "/tmp/ipykernel_14820/435563659.py:533: FutureWarning: The frame.append method is deprecated and will be removed from pandas in a future version. Use pandas.concat instead.\n",
      "  self.df = self.df.append(pd.DataFrame([temp], index=[self.current_epoch]))\n"
     ]
    },
    {
     "data": {
      "application/vnd.jupyter.widget-view+json": {
       "model_id": "",
       "version_major": 2,
       "version_minor": 0
      },
      "text/plain": [
       "Validation: 0it [00:00, ?it/s]"
      ]
     },
     "metadata": {},
     "output_type": "display_data"
    },
    {
     "name": "stdout",
     "output_type": "stream",
     "text": [
      "epoch 119:  {'val_fpnd': 1000, 'val_fpnd_nf': 1000, 'val_mmd': 0.056144756895706825, 'val_cov': 0.48999999999999994, 'val_nfcov': 0.5639999999999998, 'val_w1m': 0.005993090094944927, 'val_w1efp': 2.0902352016188928e-05, 'val_w1p': 0.012205351082988656, 'step': 5084, 'g_loss': 0.9708319306373596, 'd_loss': 0.4834345579147339}\n"
     ]
    },
    {
     "name": "stderr",
     "output_type": "stream",
     "text": [
      "/tmp/ipykernel_14820/435563659.py:533: FutureWarning: The frame.append method is deprecated and will be removed from pandas in a future version. Use pandas.concat instead.\n",
      "  self.df = self.df.append(pd.DataFrame([temp], index=[self.current_epoch]))\n"
     ]
    },
    {
     "name": "stdout",
     "output_type": "stream",
     "text": [
      "nangrad\n"
     ]
    },
    {
     "data": {
      "application/vnd.jupyter.widget-view+json": {
       "model_id": "",
       "version_major": 2,
       "version_minor": 0
      },
      "text/plain": [
       "Validation: 0it [00:00, ?it/s]"
      ]
     },
     "metadata": {},
     "output_type": "display_data"
    },
    {
     "name": "stdout",
     "output_type": "stream",
     "text": [
      "epoch 129:  {'val_fpnd': 1000, 'val_fpnd_nf': 1000, 'val_mmd': 0.05801411330227472, 'val_cov': 0.484, 'val_nfcov': 0.566, 'val_w1m': 0.0072910205143678465, 'val_w1efp': 2.6228061525441192e-05, 'val_w1p': 0.008294516878603364, 'step': 5459, 'g_loss': 0.9799148440361023, 'd_loss': 0.487411767244339}\n"
     ]
    },
    {
     "name": "stderr",
     "output_type": "stream",
     "text": [
      "/tmp/ipykernel_14820/435563659.py:533: FutureWarning: The frame.append method is deprecated and will be removed from pandas in a future version. Use pandas.concat instead.\n",
      "  self.df = self.df.append(pd.DataFrame([temp], index=[self.current_epoch]))\n"
     ]
    },
    {
     "data": {
      "application/vnd.jupyter.widget-view+json": {
       "model_id": "",
       "version_major": 2,
       "version_minor": 0
      },
      "text/plain": [
       "Validation: 0it [00:00, ?it/s]"
      ]
     },
     "metadata": {},
     "output_type": "display_data"
    },
    {
     "name": "stdout",
     "output_type": "stream",
     "text": [
      "epoch 139:  {'val_fpnd': 1000, 'val_fpnd_nf': 1000, 'val_mmd': 0.055930056237497125, 'val_cov': 0.512, 'val_nfcov': 0.5609999999999999, 'val_w1m': 0.007909822120638564, 'val_w1efp': 2.6760910773889054e-05, 'val_w1p': 0.008938737285899332, 'step': 5834, 'g_loss': 0.9835146069526672, 'd_loss': 0.49188122153282166}\n"
     ]
    },
    {
     "name": "stderr",
     "output_type": "stream",
     "text": [
      "/tmp/ipykernel_14820/435563659.py:533: FutureWarning: The frame.append method is deprecated and will be removed from pandas in a future version. Use pandas.concat instead.\n",
      "  self.df = self.df.append(pd.DataFrame([temp], index=[self.current_epoch]))\n"
     ]
    },
    {
     "data": {
      "application/vnd.jupyter.widget-view+json": {
       "model_id": "",
       "version_major": 2,
       "version_minor": 0
      },
      "text/plain": [
       "Validation: 0it [00:00, ?it/s]"
      ]
     },
     "metadata": {},
     "output_type": "display_data"
    },
    {
     "name": "stdout",
     "output_type": "stream",
     "text": [
      "epoch 149:  {'val_fpnd': 1000, 'val_fpnd_nf': 1000, 'val_mmd': 0.06078124610558381, 'val_cov': 0.45299999999999996, 'val_nfcov': 0.5770000000000001, 'val_w1m': 0.009852140819835476, 'val_w1efp': 3.595626460494742e-05, 'val_w1p': 0.012515372213360021, 'step': 6209, 'g_loss': 0.9806246161460876, 'd_loss': 0.49031391739845276}\n"
     ]
    },
    {
     "name": "stderr",
     "output_type": "stream",
     "text": [
      "/tmp/ipykernel_14820/435563659.py:533: FutureWarning: The frame.append method is deprecated and will be removed from pandas in a future version. Use pandas.concat instead.\n",
      "  self.df = self.df.append(pd.DataFrame([temp], index=[self.current_epoch]))\n"
     ]
    },
    {
     "data": {
      "application/vnd.jupyter.widget-view+json": {
       "model_id": "",
       "version_major": 2,
       "version_minor": 0
      },
      "text/plain": [
       "Validation: 0it [00:00, ?it/s]"
      ]
     },
     "metadata": {},
     "output_type": "display_data"
    },
    {
     "name": "stdout",
     "output_type": "stream",
     "text": [
      "epoch 159:  {'val_fpnd': 1000, 'val_fpnd_nf': 1000, 'val_mmd': 0.09544268763918948, 'val_cov': 0.29300000000000004, 'val_nfcov': 0.571, 'val_w1m': 0.022556939910835353, 'val_w1efp': 0.00011998665125091368, 'val_w1p': 0.022397980563249025, 'step': 6584, 'g_loss': 1.0668050050735474, 'd_loss': 0.5296606421470642}\n"
     ]
    },
    {
     "name": "stderr",
     "output_type": "stream",
     "text": [
      "/tmp/ipykernel_14820/435563659.py:533: FutureWarning: The frame.append method is deprecated and will be removed from pandas in a future version. Use pandas.concat instead.\n",
      "  self.df = self.df.append(pd.DataFrame([temp], index=[self.current_epoch]))\n"
     ]
    },
    {
     "data": {
      "application/vnd.jupyter.widget-view+json": {
       "model_id": "",
       "version_major": 2,
       "version_minor": 0
      },
      "text/plain": [
       "Validation: 0it [00:00, ?it/s]"
      ]
     },
     "metadata": {},
     "output_type": "display_data"
    },
    {
     "name": "stdout",
     "output_type": "stream",
     "text": [
      "epoch 169:  {'val_fpnd': 1000, 'val_fpnd_nf': 1000, 'val_mmd': 0.05441112845570005, 'val_cov': 0.484, 'val_nfcov': 0.55, 'val_w1m': 0.0030094203278503845, 'val_w1efp': 1.8385567305206014e-05, 'val_w1p': 0.011287213645031447, 'step': 6959, 'g_loss': 1.0432639122009277, 'd_loss': 0.5043162107467651}\n"
     ]
    },
    {
     "name": "stderr",
     "output_type": "stream",
     "text": [
      "/tmp/ipykernel_14820/435563659.py:533: FutureWarning: The frame.append method is deprecated and will be removed from pandas in a future version. Use pandas.concat instead.\n",
      "  self.df = self.df.append(pd.DataFrame([temp], index=[self.current_epoch]))\n"
     ]
    },
    {
     "data": {
      "application/vnd.jupyter.widget-view+json": {
       "model_id": "",
       "version_major": 2,
       "version_minor": 0
      },
      "text/plain": [
       "Validation: 0it [00:00, ?it/s]"
      ]
     },
     "metadata": {},
     "output_type": "display_data"
    },
    {
     "name": "stdout",
     "output_type": "stream",
     "text": [
      "epoch 179:  {'val_fpnd': 1000, 'val_fpnd_nf': 1000, 'val_mmd': 0.06726223724024838, 'val_cov': 0.4699999999999999, 'val_nfcov': 0.5770000000000002, 'val_w1m': 0.006965912622091126, 'val_w1efp': 3.780313805602111e-05, 'val_w1p': 0.008936286150279743, 'step': 7334, 'g_loss': 1.0572237968444824, 'd_loss': 0.5100736021995544}\n"
     ]
    },
    {
     "name": "stderr",
     "output_type": "stream",
     "text": [
      "/tmp/ipykernel_14820/435563659.py:533: FutureWarning: The frame.append method is deprecated and will be removed from pandas in a future version. Use pandas.concat instead.\n",
      "  self.df = self.df.append(pd.DataFrame([temp], index=[self.current_epoch]))\n"
     ]
    },
    {
     "data": {
      "application/vnd.jupyter.widget-view+json": {
       "model_id": "",
       "version_major": 2,
       "version_minor": 0
      },
      "text/plain": [
       "Validation: 0it [00:00, ?it/s]"
      ]
     },
     "metadata": {},
     "output_type": "display_data"
    },
    {
     "name": "stdout",
     "output_type": "stream",
     "text": [
      "epoch 189:  {'val_fpnd': 1000, 'val_fpnd_nf': 1000, 'val_mmd': 0.05292960262728176, 'val_cov': 0.51, 'val_nfcov': 0.5370000000000001, 'val_w1m': 0.0029987426319089718, 'val_w1efp': 1.7609796756588166e-05, 'val_w1p': 0.006611654136814561, 'step': 7709, 'g_loss': 1.0391374826431274, 'd_loss': 0.4877077341079712}\n"
     ]
    },
    {
     "name": "stderr",
     "output_type": "stream",
     "text": [
      "/tmp/ipykernel_14820/435563659.py:533: FutureWarning: The frame.append method is deprecated and will be removed from pandas in a future version. Use pandas.concat instead.\n",
      "  self.df = self.df.append(pd.DataFrame([temp], index=[self.current_epoch]))\n"
     ]
    },
    {
     "data": {
      "application/vnd.jupyter.widget-view+json": {
       "model_id": "",
       "version_major": 2,
       "version_minor": 0
      },
      "text/plain": [
       "Validation: 0it [00:00, ?it/s]"
      ]
     },
     "metadata": {},
     "output_type": "display_data"
    },
    {
     "name": "stdout",
     "output_type": "stream",
     "text": [
      "epoch 199:  {'val_fpnd': 1000, 'val_fpnd_nf': 1000, 'val_mmd': 0.05404393125657316, 'val_cov': 0.45599999999999996, 'val_nfcov': 0.564, 'val_w1m': 0.007995241818892537, 'val_w1efp': 2.741619641809043e-05, 'val_w1p': 0.013985015111210725, 'step': 8084, 'g_loss': 1.0416288375854492, 'd_loss': 0.4990048110485077}\n"
     ]
    },
    {
     "name": "stderr",
     "output_type": "stream",
     "text": [
      "/tmp/ipykernel_14820/435563659.py:533: FutureWarning: The frame.append method is deprecated and will be removed from pandas in a future version. Use pandas.concat instead.\n",
      "  self.df = self.df.append(pd.DataFrame([temp], index=[self.current_epoch]))\n"
     ]
    },
    {
     "data": {
      "application/vnd.jupyter.widget-view+json": {
       "model_id": "",
       "version_major": 2,
       "version_minor": 0
      },
      "text/plain": [
       "Validation: 0it [00:00, ?it/s]"
      ]
     },
     "metadata": {},
     "output_type": "display_data"
    },
    {
     "name": "stdout",
     "output_type": "stream",
     "text": [
      "epoch 209:  {'val_fpnd': 1000, 'val_fpnd_nf': 1000, 'val_mmd': 0.050394171013415055, 'val_cov': 0.39, 'val_nfcov': 0.5640000000000001, 'val_w1m': 0.004589238963398384, 'val_w1efp': 4.924597748242482e-06, 'val_w1p': 0.037502560953096224, 'step': 8459, 'g_loss': 1.0506789684295654, 'd_loss': 0.4953843057155609}\n"
     ]
    },
    {
     "name": "stderr",
     "output_type": "stream",
     "text": [
      "/tmp/ipykernel_14820/435563659.py:533: FutureWarning: The frame.append method is deprecated and will be removed from pandas in a future version. Use pandas.concat instead.\n",
      "  self.df = self.df.append(pd.DataFrame([temp], index=[self.current_epoch]))\n"
     ]
    },
    {
     "data": {
      "application/vnd.jupyter.widget-view+json": {
       "model_id": "",
       "version_major": 2,
       "version_minor": 0
      },
      "text/plain": [
       "Validation: 0it [00:00, ?it/s]"
      ]
     },
     "metadata": {},
     "output_type": "display_data"
    },
    {
     "name": "stdout",
     "output_type": "stream",
     "text": [
      "epoch 219:  {'val_fpnd': 1000, 'val_fpnd_nf': 1000, 'val_mmd': 0.0637612423412358, 'val_cov': 0.311, 'val_nfcov': 0.554, 'val_w1m': 0.0031488291714596565, 'val_w1efp': 8.695386518830313e-06, 'val_w1p': 0.04957829773218389, 'step': 8834, 'g_loss': 1.088628888130188, 'd_loss': 0.48641473054885864}\n"
     ]
    },
    {
     "name": "stderr",
     "output_type": "stream",
     "text": [
      "/tmp/ipykernel_14820/435563659.py:533: FutureWarning: The frame.append method is deprecated and will be removed from pandas in a future version. Use pandas.concat instead.\n",
      "  self.df = self.df.append(pd.DataFrame([temp], index=[self.current_epoch]))\n"
     ]
    },
    {
     "data": {
      "application/vnd.jupyter.widget-view+json": {
       "model_id": "",
       "version_major": 2,
       "version_minor": 0
      },
      "text/plain": [
       "Validation: 0it [00:00, ?it/s]"
      ]
     },
     "metadata": {},
     "output_type": "display_data"
    },
    {
     "name": "stdout",
     "output_type": "stream",
     "text": [
      "epoch 229:  {'val_fpnd': 1000, 'val_fpnd_nf': 1000, 'val_mmd': 0.06639486409190565, 'val_cov': 0.29100000000000004, 'val_nfcov': 0.567, 'val_w1m': 0.0027399410058720963, 'val_w1efp': 5.938755103203605e-06, 'val_w1p': 0.05740705228538721, 'step': 9209, 'g_loss': 1.02545964717865, 'd_loss': 0.5008663535118103}\n"
     ]
    },
    {
     "name": "stderr",
     "output_type": "stream",
     "text": [
      "/tmp/ipykernel_14820/435563659.py:533: FutureWarning: The frame.append method is deprecated and will be removed from pandas in a future version. Use pandas.concat instead.\n",
      "  self.df = self.df.append(pd.DataFrame([temp], index=[self.current_epoch]))\n"
     ]
    },
    {
     "data": {
      "application/vnd.jupyter.widget-view+json": {
       "model_id": "",
       "version_major": 2,
       "version_minor": 0
      },
      "text/plain": [
       "Validation: 0it [00:00, ?it/s]"
      ]
     },
     "metadata": {},
     "output_type": "display_data"
    },
    {
     "name": "stdout",
     "output_type": "stream",
     "text": [
      "epoch 239:  {'val_fpnd': 1000, 'val_fpnd_nf': 1000, 'val_mmd': 0.06850476087725979, 'val_cov': 0.257, 'val_nfcov': 0.5690000000000001, 'val_w1m': 0.004026890091075328, 'val_w1efp': 1.006885133330812e-05, 'val_w1p': 0.06449278195176936, 'step': 9584, 'g_loss': 1.0162990093231201, 'd_loss': 0.5078593492507935}\n"
     ]
    },
    {
     "name": "stderr",
     "output_type": "stream",
     "text": [
      "/tmp/ipykernel_14820/435563659.py:533: FutureWarning: The frame.append method is deprecated and will be removed from pandas in a future version. Use pandas.concat instead.\n",
      "  self.df = self.df.append(pd.DataFrame([temp], index=[self.current_epoch]))\n"
     ]
    },
    {
     "data": {
      "application/vnd.jupyter.widget-view+json": {
       "model_id": "",
       "version_major": 2,
       "version_minor": 0
      },
      "text/plain": [
       "Validation: 0it [00:00, ?it/s]"
      ]
     },
     "metadata": {},
     "output_type": "display_data"
    },
    {
     "name": "stdout",
     "output_type": "stream",
     "text": [
      "epoch 249:  {'val_fpnd': 1000, 'val_fpnd_nf': 1000, 'val_mmd': 0.07852076525928192, 'val_cov': 0.24300000000000002, 'val_nfcov': 0.544, 'val_w1m': 0.009922258131537817, 'val_w1efp': 3.487321166548681e-05, 'val_w1p': 0.0627926127650467, 'step': 9959, 'g_loss': 1.019954800605774, 'd_loss': 0.5222118496894836}\n"
     ]
    },
    {
     "name": "stderr",
     "output_type": "stream",
     "text": [
      "/tmp/ipykernel_14820/435563659.py:533: FutureWarning: The frame.append method is deprecated and will be removed from pandas in a future version. Use pandas.concat instead.\n",
      "  self.df = self.df.append(pd.DataFrame([temp], index=[self.current_epoch]))\n"
     ]
    },
    {
     "data": {
      "application/vnd.jupyter.widget-view+json": {
       "model_id": "",
       "version_major": 2,
       "version_minor": 0
      },
      "text/plain": [
       "Validation: 0it [00:00, ?it/s]"
      ]
     },
     "metadata": {},
     "output_type": "display_data"
    },
    {
     "name": "stdout",
     "output_type": "stream",
     "text": [
      "epoch 259:  {'val_fpnd': 1000, 'val_fpnd_nf': 1000, 'val_mmd': 0.07781658638648481, 'val_cov': 0.257, 'val_nfcov': 0.5630000000000001, 'val_w1m': 0.00932343588969321, 'val_w1efp': 2.2108636179045986e-05, 'val_w1p': 0.06990211506409473, 'step': 10334, 'g_loss': 1.0135031938552856, 'd_loss': 0.4964960813522339}\n"
     ]
    },
    {
     "name": "stderr",
     "output_type": "stream",
     "text": [
      "/tmp/ipykernel_14820/435563659.py:533: FutureWarning: The frame.append method is deprecated and will be removed from pandas in a future version. Use pandas.concat instead.\n",
      "  self.df = self.df.append(pd.DataFrame([temp], index=[self.current_epoch]))\n"
     ]
    },
    {
     "data": {
      "application/vnd.jupyter.widget-view+json": {
       "model_id": "",
       "version_major": 2,
       "version_minor": 0
      },
      "text/plain": [
       "Validation: 0it [00:00, ?it/s]"
      ]
     },
     "metadata": {},
     "output_type": "display_data"
    },
    {
     "name": "stdout",
     "output_type": "stream",
     "text": [
      "epoch 269:  {'val_fpnd': 1000, 'val_fpnd_nf': 1000, 'val_mmd': 0.08782638175478204, 'val_cov': 0.242, 'val_nfcov': 0.5650000000000001, 'val_w1m': 0.012272750048676971, 'val_w1efp': 3.06680099989668e-05, 'val_w1p': 0.07013591448621444, 'step': 10709, 'g_loss': 1.0106651782989502, 'd_loss': 0.5042896270751953}\n"
     ]
    },
    {
     "name": "stderr",
     "output_type": "stream",
     "text": [
      "/tmp/ipykernel_14820/435563659.py:533: FutureWarning: The frame.append method is deprecated and will be removed from pandas in a future version. Use pandas.concat instead.\n",
      "  self.df = self.df.append(pd.DataFrame([temp], index=[self.current_epoch]))\n"
     ]
    },
    {
     "data": {
      "application/vnd.jupyter.widget-view+json": {
       "model_id": "",
       "version_major": 2,
       "version_minor": 0
      },
      "text/plain": [
       "Validation: 0it [00:00, ?it/s]"
      ]
     },
     "metadata": {},
     "output_type": "display_data"
    },
    {
     "name": "stdout",
     "output_type": "stream",
     "text": [
      "epoch 279:  {'val_fpnd': 1000, 'val_fpnd_nf': 1000, 'val_mmd': 0.08833381384542438, 'val_cov': 0.23199999999999998, 'val_nfcov': 0.5549999999999999, 'val_w1m': 0.012824131221242712, 'val_w1efp': 3.573603416225612e-05, 'val_w1p': 0.07236920118509656, 'step': 11084, 'g_loss': 1.0057069063186646, 'd_loss': 0.5000933408737183}\n"
     ]
    },
    {
     "name": "stderr",
     "output_type": "stream",
     "text": [
      "/tmp/ipykernel_14820/435563659.py:533: FutureWarning: The frame.append method is deprecated and will be removed from pandas in a future version. Use pandas.concat instead.\n",
      "  self.df = self.df.append(pd.DataFrame([temp], index=[self.current_epoch]))\n"
     ]
    },
    {
     "data": {
      "application/vnd.jupyter.widget-view+json": {
       "model_id": "",
       "version_major": 2,
       "version_minor": 0
      },
      "text/plain": [
       "Validation: 0it [00:00, ?it/s]"
      ]
     },
     "metadata": {},
     "output_type": "display_data"
    },
    {
     "name": "stdout",
     "output_type": "stream",
     "text": [
      "epoch 289:  {'val_fpnd': 1000, 'val_fpnd_nf': 1000, 'val_mmd': 0.08438406915972399, 'val_cov': 0.21600000000000003, 'val_nfcov': 0.569, 'val_w1m': 0.01227143921123934, 'val_w1efp': 3.3226468682933524e-05, 'val_w1p': 0.07699568991065653, 'step': 11459, 'g_loss': 1.0039337873458862, 'd_loss': 0.5036673545837402}\n"
     ]
    },
    {
     "name": "stderr",
     "output_type": "stream",
     "text": [
      "/tmp/ipykernel_14820/435563659.py:533: FutureWarning: The frame.append method is deprecated and will be removed from pandas in a future version. Use pandas.concat instead.\n",
      "  self.df = self.df.append(pd.DataFrame([temp], index=[self.current_epoch]))\n"
     ]
    }
   ],
   "source": [
    "hpconfig[\"batch_size\"]= 4024#1024 best\n",
    "hpconfig[\"name\"]= \"Transflow_notebook\"#1024 best\n",
    "hpconfig[\"freq\"]= 5#1024 best\n",
    "hpconfig[\"fc\"]= False#1024 best\n",
    "hpconfig[\"n_part\"]= 5#1024 best\n",
    "hpconfig[\"n_dim\"]= 3#1024 best\n",
    "hpconfig[\"pretrain\"]= 20#1024 best\n",
    "\n",
    "hpconfig[\"mass\"]= True#1024 best\n",
    "hpconfig[\"clf\"]= True#1024 best\n",
    "hpconfig[\"quantile\"]= False#1024 best\n",
    "hpconfig[\"norm\"]= False\n",
    "hpconfig[\"num_layers\"]=10\n",
    "data_module = JetNetDataloader(hpconfig)  # this loads the data\n",
    "data_module.setup(\"training\")\n",
    "model = TransGan(\n",
    "    hpconfig, False, data_module.num_batches\n",
    ")  # the sets up the model,  hpconfig are hparams we want to optimize\n",
    "model.data_module = data_module\n",
    "# model = TransGan.load_from_checkpoint(\n",
    "#             \"/beegfs/desy/user/kaechben/Transflow_final_q/run02_09-12_26_36_14/lightning_logs/wgan_True_mass_False/checkpoints/epoch=274-val_fpnd=0.54-val_w1m=0.0010-val_w1efp=0.000012.ckpt\"\n",
    "#         )\n",
    "\n",
    "root = \"/beegfs/desy/user/\" + os.environ[\"USER\"] + \"/\"+hpconfig[\"name\"]\n",
    "\n",
    "# pl.seed_everything(model.config[\"seed\"], workers=True)\n",
    "# model.config[\"freq\"]=20\n",
    "# model.config[\"lr_g\"]=0.00001\n",
    "# model.config[\"lr_d\"]=0.00001\n",
    "# model.config = config #config are our hyperparams, we make this a class property now\n",
    "logger = TensorBoardLogger(root,version=\"_mass_\"+str(hpconfig[\"mass\"])+datetime.datetime.now().strftime(\"%M_%S\"))\n",
    "# log every n steps could be important as it decides how often it should log to tensorboard\n",
    "# Also check val every n epochs, as validation checking takes some time\n",
    "trainer = pl.Trainer(\n",
    "    gpus=1,\n",
    "    logger=logger,\n",
    "    log_every_n_steps=10,  # auto_scale_batch_size=\"binsearch\",\n",
    "    max_epochs=hpconfig[\"max_epochs\"],\n",
    "    check_val_every_n_epoch=hpconfig[\"val_check\"],\n",
    "    num_sanity_val_steps=1,  # gradient_clip_val=.02, \n",
    "    fast_dev_run=False,\n",
    "    default_root_dir=root,\n",
    ")\n",
    "trainer.fit(model, datamodule=data_module)"
   ]
  },
  {
   "cell_type": "code",
   "execution_count": 35,
   "id": "3858d8ce-c279-4780-8ea0-e4453539ace2",
   "metadata": {},
   "outputs": [
    {
     "data": {
      "text/plain": [
       "1.5"
      ]
     },
     "execution_count": 35,
     "metadata": {},
     "output_type": "execute_result"
    }
   ],
   "source": [
    "np.quantile([0,1,1,2,3,4],0.50)"
   ]
  },
  {
   "cell_type": "code",
   "execution_count": 31,
   "id": "47fc9630-0683-4ef1-bd95-d7ddf7e5541b",
   "metadata": {},
   "outputs": [
    {
     "ename": "AttributeError",
     "evalue": "'NoneType' object has no attribute 'reshape'",
     "output_type": "error",
     "traceback": [
      "\u001b[0;31m---------------------------------------------------------------------------\u001b[0m",
      "\u001b[0;31mAttributeError\u001b[0m                            Traceback (most recent call last)",
      "Input \u001b[0;32mIn [31]\u001b[0m, in \u001b[0;36m<cell line: 2>\u001b[0;34m()\u001b[0m\n\u001b[1;32m      1\u001b[0m batch \u001b[38;5;241m=\u001b[39m data_module\u001b[38;5;241m.\u001b[39mtest_set\n\u001b[0;32m----> 2\u001b[0m \u001b[43mmodel\u001b[49m\u001b[38;5;241;43m.\u001b[39;49m\u001b[43mdis_net\u001b[49m\u001b[38;5;241;43m.\u001b[39;49m\u001b[43mto\u001b[49m\u001b[43m(\u001b[49m\u001b[38;5;124;43m\"\u001b[39;49m\u001b[38;5;124;43mcpu\u001b[39;49m\u001b[38;5;124;43m\"\u001b[39;49m\u001b[43m)\u001b[49m\u001b[43m(\u001b[49m\u001b[43mbatch\u001b[49m\u001b[38;5;241;43m.\u001b[39;49m\u001b[43mreshape\u001b[49m\u001b[43m(\u001b[49m\u001b[38;5;241;43m-\u001b[39;49m\u001b[38;5;241;43m1\u001b[39;49m\u001b[43m,\u001b[49m\u001b[38;5;241;43m30\u001b[39;49m\u001b[43m,\u001b[49m\u001b[38;5;241;43m3\u001b[39;49m\u001b[43m)\u001b[49m\u001b[43m)\u001b[49m\n\u001b[1;32m      3\u001b[0m model\u001b[38;5;241m.\u001b[39mdis_net\u001b[38;5;241m.\u001b[39mto(\u001b[38;5;124m\"\u001b[39m\u001b[38;5;124mcpu\u001b[39m\u001b[38;5;124m\"\u001b[39m)(torch\u001b[38;5;241m.\u001b[39mrand((\u001b[38;5;28mlen\u001b[39m(batch),\u001b[38;5;241m30\u001b[39m,\u001b[38;5;241m3\u001b[39m)))\n",
      "File \u001b[0;32m/beegfs/desy/user/kaechben/.conda/envs/jetnet/lib/python3.8/site-packages/torch/nn/modules/module.py:1110\u001b[0m, in \u001b[0;36mModule._call_impl\u001b[0;34m(self, *input, **kwargs)\u001b[0m\n\u001b[1;32m   1106\u001b[0m \u001b[38;5;66;03m# If we don't have any hooks, we want to skip the rest of the logic in\u001b[39;00m\n\u001b[1;32m   1107\u001b[0m \u001b[38;5;66;03m# this function, and just call forward.\u001b[39;00m\n\u001b[1;32m   1108\u001b[0m \u001b[38;5;28;01mif\u001b[39;00m \u001b[38;5;129;01mnot\u001b[39;00m (\u001b[38;5;28mself\u001b[39m\u001b[38;5;241m.\u001b[39m_backward_hooks \u001b[38;5;129;01mor\u001b[39;00m \u001b[38;5;28mself\u001b[39m\u001b[38;5;241m.\u001b[39m_forward_hooks \u001b[38;5;129;01mor\u001b[39;00m \u001b[38;5;28mself\u001b[39m\u001b[38;5;241m.\u001b[39m_forward_pre_hooks \u001b[38;5;129;01mor\u001b[39;00m _global_backward_hooks\n\u001b[1;32m   1109\u001b[0m         \u001b[38;5;129;01mor\u001b[39;00m _global_forward_hooks \u001b[38;5;129;01mor\u001b[39;00m _global_forward_pre_hooks):\n\u001b[0;32m-> 1110\u001b[0m     \u001b[38;5;28;01mreturn\u001b[39;00m \u001b[43mforward_call\u001b[49m\u001b[43m(\u001b[49m\u001b[38;5;241;43m*\u001b[39;49m\u001b[38;5;28;43minput\u001b[39;49m\u001b[43m,\u001b[49m\u001b[43m \u001b[49m\u001b[38;5;241;43m*\u001b[39;49m\u001b[38;5;241;43m*\u001b[39;49m\u001b[43mkwargs\u001b[49m\u001b[43m)\u001b[49m\n\u001b[1;32m   1111\u001b[0m \u001b[38;5;66;03m# Do not call functions when jit is used\u001b[39;00m\n\u001b[1;32m   1112\u001b[0m full_backward_hooks, non_full_backward_hooks \u001b[38;5;241m=\u001b[39m [], []\n",
      "Input \u001b[0;32mIn [29]\u001b[0m, in \u001b[0;36mDisc.forward\u001b[0;34m(self, x, m, mask)\u001b[0m\n\u001b[1;32m    187\u001b[0m     x\u001b[38;5;241m=\u001b[39mtorch\u001b[38;5;241m.\u001b[39mmean(x,axis\u001b[38;5;241m=\u001b[39m\u001b[38;5;241m1\u001b[39m)\n\u001b[1;32m    188\u001b[0m \u001b[38;5;28;01mif\u001b[39;00m \u001b[38;5;28mself\u001b[39m\u001b[38;5;241m.\u001b[39muse_mass:\n\u001b[0;32m--> 189\u001b[0m     x\u001b[38;5;241m=\u001b[39mtorch\u001b[38;5;241m.\u001b[39mconcat((\u001b[43mm\u001b[49m\u001b[38;5;241;43m.\u001b[39;49m\u001b[43mreshape\u001b[49m(\u001b[38;5;28mlen\u001b[39m(x),\u001b[38;5;241m1\u001b[39m),x),axis\u001b[38;5;241m=\u001b[39m\u001b[38;5;241m1\u001b[39m)\n\u001b[1;32m    190\u001b[0m \u001b[38;5;28;01mif\u001b[39;00m \u001b[38;5;129;01mnot\u001b[39;00m \u001b[38;5;28mself\u001b[39m\u001b[38;5;241m.\u001b[39mno_hidden:\n\u001b[1;32m    191\u001b[0m     x\u001b[38;5;241m=\u001b[39mleaky_relu(\u001b[38;5;28mself\u001b[39m\u001b[38;5;241m.\u001b[39mhidden(x),\u001b[38;5;241m0.2\u001b[39m)\n",
      "\u001b[0;31mAttributeError\u001b[0m: 'NoneType' object has no attribute 'reshape'"
     ]
    }
   ],
   "source": [
    "batch = data_module.test_set\n",
    "model.dis_net.to(\"cpu\")(batch.reshape(-1,30,3))\n",
    "model.dis_net.to(\"cpu\")(torch.rand((len(batch),30,3)))"
   ]
  },
  {
   "cell_type": "code",
   "execution_count": null,
   "id": "64be082d-1f44-41cc-a071-64ecb29c2cdb",
   "metadata": {},
   "outputs": [],
   "source": []
  },
  {
   "cell_type": "code",
   "execution_count": null,
   "id": "5a721117",
   "metadata": {},
   "outputs": [],
   "source": [
    "\n",
    "batch = data_module.test_set\n",
    "mask = batch[:, 90:].cpu().bool()\n",
    "mask_test = model.sample_n(mask).bool()\n",
    "batch = batch[:, :90].cpu()\n",
    "model.dis_net.train()\n",
    "model.gen_net.train()\n",
    "batch = batch.to(\"cpu\")\n",
    "model.flow = model.flow.to(\"cpu\")\n",
    "model.dis_net = model.dis_net.cpu()\n",
    "model.gen_net = model.gen_net.cpu()\n",
    "\n",
    "with torch.no_grad():\n",
    "     \n",
    "    gen,  fake_scaled, true_scaled, z_scaled= model.sampleandscale(batch,mask,scale=True)\n",
    "    \n",
    "    if model.config[\"mass\"]:\n",
    "        m_t = mass(batch, mask=~mask, canonical=model.config[\"canonical\"])\n",
    "        m_f = mass(gen, mask=~mask_test, canonical=model.config[\"canonical\"])\n",
    "# _,b,_=plt.hist(m_t.numpy(),bins=30,histtype=\"step\")\n",
    "# plt.hist(m_f.numpy(),bins=b,histtype=\"step\")\n",
    "    pred_real = model.dis_net(batch.reshape(len(batch), model.n_part, model.n_dim), None if not model.config[\"mass\"] else m_t, mask=mask)\n",
    "    pred_fake = model.dis_net(gen, None if not model.config[\"mass\"] else m_f, mask=mask_test)\n",
    "if model.wgan:\n",
    "    d_loss = -torch.mean(pred_real.view(-1)) + torch.mean(pred_fake.view(-1))\n",
    "    g_loss = -torch.mean(pred_fake.view(-1))\n",
    "else:\n",
    "    target_real = torch.ones_like(pred_real)\n",
    "    target_fake = torch.zeros_like(pred_fake)\n",
    "    pred = torch.vstack((pred_real, pred_fake))\n",
    "    target = torch.vstack((target_real, target_fake))\n",
    "    d_loss = nn.MSELoss()(pred, target).mean()\n",
    "    g_loss = nn.MSELoss()((pred_fake.view(-1)), target_real.view(-1))\n",
    "\n",
    "true_scaled, fake_scaled, z_scaled = (true_scaled.reshape(-1, 90), fake_scaled.reshape(-1, 90), z_scaled.reshape(-1, 90))\n",
    "# Reverse Standard Scaling (this has nothing to do with flows, it is a standard preprocessing step)\n"
   ]
  },
  {
   "cell_type": "code",
   "execution_count": null,
   "id": "37fbeb65-c46f-40be-af2d-1ba330c5f927",
   "metadata": {},
   "outputs": [],
   "source": [
    "# corrs=model.gen_net(z,mask_test)\n",
    "fig,ax=plt.subplots(5,6,figsize=(20,20))\n",
    "k=2\n",
    "\n",
    "q=pd.read_csv(\"/home/kaechben/JetNet_NF/train_q_jets.csv\",header=None,sep=\" \")\n",
    "q=q.values.reshape(-1,30,4)[:len(fake_scaled),:,:]\n",
    "maskq=q[:,:,3].sum(axis=1)\n",
    "n=q[:,:,3].sum(axis=1)\n",
    "q=q[:,:,:3]\n",
    "z_scaled=z_scaled.reshape(-1,30,3)*(~mask.reshape(-1,30,1))\n",
    "fake_scaled=fake_scaled.reshape(-1,30,3)*(~mask_test).reshape(-1,30,1)\n",
    "# dq=data\n",
    "# dq=dq.reshape(-1,30,3)\n",
    "# dq=dq[:,:,:3]\n",
    "print(sum(z_scaled[:,-2,2]==0))\n",
    "print(sum(q[:,-2,2]==0))\n",
    "# n=m.sum(1)\n",
    "# q=q[n>5,:,:]\n",
    "# t=t[n_test>5,:,:]\n",
    "ns=[]\n",
    "ns2=[]\n",
    "for i in range(30):\n",
    "    n1,bins,_=ax[i//6,i%6].hist(q[n<30].reshape(-1,30,3)[:len(fake_scaled[mask_test.sum(1)>0]),i,k],\n",
    "                               bins=40,label=\"real\",histtype=\"step\",density=None)\n",
    "    n2,_,_=ax[i//6,i%6].hist(fake_scaled[mask_test.sum(1)>0].reshape(-1,30,3)[:len(q[n<30]),i,k].numpy(),\n",
    "                      bins=bins,label=\"fake\",histtype=\"step\",density=None,alpha=.5)\n",
    "#     ax[i//6,i%6].hist(g[:,i,2].numpy(),bins=bins,label=\"g\",histtype=\"step\")\n",
    "    ns.append(n1[0])\n",
    "    ns2.append(n2[0])\n",
    "    plt.yscale(\"log\")\n",
    "    ax[i//6,i%6].legend()\n",
    "plt.suptitle(r\"Jet Particles ordered by $p_T$ distribution\")\n",
    "plt.tight_layout()\n",
    "plt.show()\n",
    "\n",
    "# fig,ax=plt.subplots(ncols=2,figsize=(20,10))\n",
    "# ax[0].hist(mass(t,mt).numpy(),bins=30)\n",
    "# ax[1].hist(mass(q,m).numpy(),bins=30)"
   ]
  },
  {
   "cell_type": "code",
   "execution_count": 98,
   "id": "5e0ee2ce-a8d5-4d95-8614-e9b2c914a1a4",
   "metadata": {},
   "outputs": [
    {
     "name": "stdout",
     "output_type": "stream",
     "text": [
      "tensor([[[ 2.6077e-08, -8.1956e-08,  0.0000e+00],\n",
      "         [ 5.2154e-08, -6.8918e-08,  0.0000e+00],\n",
      "         [ 2.2352e-08, -3.9116e-08,  0.0000e+00],\n",
      "         ...,\n",
      "         [-4.0978e-08,  2.0862e-07,  0.0000e+00],\n",
      "         [-5.2154e-08, -7.4506e-08,  0.0000e+00],\n",
      "         [ 4.4703e-08,  1.4901e-07,  0.0000e+00]],\n",
      "\n",
      "        [[ 2.0489e-08,  3.0850e-09,  0.0000e+00],\n",
      "         [ 2.1537e-09,  2.9104e-09,  0.0000e+00],\n",
      "         [ 1.1176e-08,  4.4238e-09,  0.0000e+00],\n",
      "         ...,\n",
      "         [ 0.0000e+00,  0.0000e+00,  0.0000e+00],\n",
      "         [ 0.0000e+00,  0.0000e+00,  0.0000e+00],\n",
      "         [ 0.0000e+00,  0.0000e+00,  0.0000e+00]],\n",
      "\n",
      "        [[ 2.2352e-08, -1.4552e-10,  0.0000e+00],\n",
      "         [ 3.0734e-08, -8.8476e-09,  0.0000e+00],\n",
      "         [ 2.1420e-08, -2.1537e-09,  0.0000e+00],\n",
      "         ...,\n",
      "         [ 0.0000e+00,  0.0000e+00,  0.0000e+00],\n",
      "         [ 0.0000e+00,  0.0000e+00,  0.0000e+00],\n",
      "         [ 0.0000e+00,  0.0000e+00,  0.0000e+00]],\n",
      "\n",
      "        ...,\n",
      "\n",
      "        [[-2.4680e-08,  7.5670e-09,  0.0000e+00],\n",
      "         [-1.2107e-08, -4.3074e-09,  0.0000e+00],\n",
      "         [-1.4843e-09,  1.6764e-08,  0.0000e+00],\n",
      "         ...,\n",
      "         [ 0.0000e+00,  0.0000e+00,  0.0000e+00],\n",
      "         [ 0.0000e+00,  0.0000e+00,  0.0000e+00],\n",
      "         [ 0.0000e+00,  0.0000e+00,  0.0000e+00]],\n",
      "\n",
      "        [[ 9.8720e-08, -4.9174e-07,  0.0000e+00],\n",
      "         [ 7.2643e-08, -3.7253e-07,  0.0000e+00],\n",
      "         [-8.1956e-08,  6.7055e-07,  0.0000e+00],\n",
      "         ...,\n",
      "         [-3.3528e-08,  1.4901e-07,  0.0000e+00],\n",
      "         [-8.3819e-09, -4.0978e-08,  0.0000e+00],\n",
      "         [ 2.2352e-08,  8.1956e-08,  0.0000e+00]],\n",
      "\n",
      "        [[-1.6298e-08,  1.1409e-08,  0.0000e+00],\n",
      "         [ 6.6357e-09,  1.4901e-08,  0.0000e+00],\n",
      "         [ 1.7695e-08,  4.1910e-08,  0.0000e+00],\n",
      "         ...,\n",
      "         [ 9.3132e-09,  2.9802e-08,  0.0000e+00],\n",
      "         [-2.2352e-08, -2.4214e-08,  0.0000e+00],\n",
      "         [ 9.3132e-09,  1.6764e-08,  0.0000e+00]]])\n"
     ]
    }
   ],
   "source": [
    "data_dir = os.environ[\"HOME\"] + \"/JetNet_NF/train_{}_jets.csv\".format(\"q\")\n",
    "data = pd.read_csv(data_dir, sep=\" \", header=None)\n",
    "limit = int(config[\"limit\"] * 1.1)\n",
    "# masks=np.sum(data.values[:,np.arange(3,120,4)],axis=1)\n",
    "masks = data.values[:, np.arange(3, 120, 4)][:limit] # zero padded particles are masked and given as feature\n",
    "df = data.drop(np.arange(3, 120, 4), axis=1)[:limit]\n",
    "n = masks.sum(axis=1) # number particles per jet\n",
    "\n",
    "masks=~masks.astype(bool)\n",
    "z = torch.tensor(df.values).reshape(len(df), 30, 3)\n",
    "m = (torch.tensor(masks).reshape(len(df), 30)).bool()\n",
    "\n",
    "data=z\n",
    "\n",
    "data[m, :] = torch.normal(mean=torch.zeros_like(data[m,:]), std=1).abs() * 1e-7\n",
    "# standard scaling\n",
    "scalers=[]\n",
    "ptscalers=[]\n",
    "data=data.float()\n",
    "backup=data.clone()\n",
    "for i in range(30):\n",
    "    scalers.append(StandardScaler())\n",
    "    # self.scaler = \n",
    "    if config[\"quantile\"]:\n",
    "        ptscalers.append( QuantileTransformer(output_distribution=\"normal\"))\n",
    "        data[~m[:,i],i,:2] = scalers[i].fit_transform(data[~m[:,i],i, :2])\n",
    "        data[~m[:,i],i,:2] = scalers[i].inverse_transform(data[~m[:,i],i, :2])\n",
    "        data[~m[:,i],i, 2] = torch.tensor(ptscalers[i].fit_transform(data[~m[:,i],i, 2].reshape(-1,1).numpy())).reshape(-1)\n",
    "        data[~m[:,i],i, 2] = torch.tensor(ptscalers[i].inverse_transform(data[~m[:,i],i, 2].reshape(-1,1).numpy())).reshape(-1)\n",
    "        nq=data\n",
    "        min_pt = data[~m[:,i],i, :2].min(axis=0)[0]\n",
    "        backup[~m[:,i],i,2] = data[~m[:,i],i,2]\n",
    "    else:\n",
    "        data[~m[:,i],i, :] = scalers[i].fit_transform(data[~m[:,i],i, :])\n",
    "print(data-backup)\n",
    "# data = self.data.reshape(len(self.data), 90)\n",
    "# data = torch.tensor(np.hstack((self.data.reshape(len(self.data), self.n_part * self.n_dim), m)))\n",
    "# data, self.test_set = train_test_split(self.data.cpu().numpy(), test_size=0.3)\n",
    "\n",
    "# self.test_set = torch.tensor(self.test_set).float()\n",
    "# self.data = torch.tensor(self.data).float()\n",
    "# self.num_batches = len(self.data) // self.config[\"batch_size\"]\n",
    "# #         assert self.data.shape[1]==92\n",
    "# assert (torch.isnan(self.data)).sum() == 0\n",
    "nd=n"
   ]
  },
  {
   "cell_type": "code",
   "execution_count": 37,
   "id": "d7462cbb-6b3c-47d1-980c-a796b75de4fd",
   "metadata": {},
   "outputs": [
    {
     "data": {
      "image/png": "[encoded data removed]",
      "text/plain": [
       "<Figure size 432x288 with 1 Axes>"
      ]
     },
     "metadata": {
      "needs_background": "light"
     },
     "output_type": "display_data"
    }
   ],
   "source": []
  },
  {
   "cell_type": "code",
   "execution_count": 19,
   "id": "1e5c0bbb-162d-414d-9658-26d89d64a1e0",
   "metadata": {
    "tags": []
   },
   "outputs": [
    {
     "name": "stdout",
     "output_type": "stream",
     "text": [
      "Transflow_notebook\n",
      "q\n",
      "/beegfs/desy/user/kaechben/Transflow_notebook_q/run-f_/home/kaechben/.local/share/jupyter/runtime/kernel-3ca456e3-5ac0-4bd4-9bf8-e403ec271d33.json\n",
      "\"name\":Transflow_notebook_q\n",
      "\"parton\":q\n",
      "\"mass\":True\n",
      "\"sched\":cosine2\n",
      "\"opt\":Adam\n",
      "\"no_hidden\":True\n",
      "\"clf\":True\n",
      "\"batch_size\":512\n",
      "\"freq\":1\n",
      "\"seed\":144\n",
      "\"lr_g\":0.00014765438968645167\n",
      "\"heads\":5\n",
      "\"hidden\":500\n",
      "\"l_dim\":50\n",
      "\"num_layers\":6\n",
      "\"val_check\":5\n"
     ]
    },
    {
     "name": "stderr",
     "output_type": "stream",
     "text": [
      "/beegfs/desy/user/kaechben/.conda/envs/jetnet/lib/python3.8/site-packages/pytorch_lightning/trainer/connectors/callback_connector.py:96: LightningDeprecationWarning: Setting `Trainer(progress_bar_refresh_rate=10)` is deprecated in v1.5 and will be removed in v1.7. Please pass `pytorch_lightning.callbacks.progress.TQDMProgressBar` with `refresh_rate` directly to the Trainer's `callbacks` argument instead. Or, to disable the progress bar pass `enable_progress_bar = False` to the Trainer.\n",
      "  rank_zero_deprecation(\n",
      "GPU available: True, used: True\n",
      "TPU available: False, using: 0 TPU cores\n",
      "IPU available: False, using: 0 IPUs\n",
      "HPU available: False, using: 0 HPUs\n",
      "Missing logger folder: /beegfs/desy/user/kaechben/Transflow_notebook_q/run-f_/home/kaechben/.local/share/jupyter/runtime/kernel-3ca456e3-5ac0-4bd4-9bf8-e403ec271d33.json/lightning_logs\n",
      "/beegfs/desy/user/kaechben/.conda/envs/jetnet/lib/python3.8/site-packages/pytorch_lightning/trainer/trainer.py:724: UserWarning: Detected KeyboardInterrupt, attempting graceful shutdown...\n",
      "  rank_zero_warn(\"Detected KeyboardInterrupt, attempting graceful shutdown...\")\n"
     ]
    }
   ],
   "source": [
    "import datetime\n",
    "import os\n",
    "import sys\n",
    "import time\n",
    "import traceback\n",
    "\n",
    "import pandas as pd\n",
    "import pytorch_lightning as pl\n",
    "import numpy as np\n",
    "from pytorch_lightning.callbacks import ModelCheckpoint\n",
    "from pytorch_lightning.callbacks.early_stopping import EarlyStopping\n",
    "from pytorch_lightning.loggers import CometLogger, TensorBoardLogger\n",
    "from pytorch_lightning.tuner.tuning import Tuner\n",
    "from scipy import stats\n",
    "from torch.nn import functional as FF\n",
    "from helpers import *\n",
    "from jetnet_dataloader import JetNetDataloader\n",
    "from lit_nf import TransGan\n",
    "from plotting import plotting\n",
    "\n",
    "# from comet_ml import Experiment\n",
    "\n",
    "\n",
    "def train(config, hyperopt=False, load_ckpt=None, i=0, root=None):\n",
    "\n",
    "    # This function is a wrapper for the hyperparameter optimization module called ray\n",
    "    # Its parameters hyperopt and load_ckpt are there for convenience\n",
    "    # Config is the only relevant parameter as it sets the trainings hyperparameters\n",
    "    # hyperopt:whether to optimizer hyper parameters - load_ckpt: path to checkpoint if used\n",
    "    data_module = JetNetDataloader(config)  # this loads the data\n",
    "    data_module.setup(\"training\")\n",
    "    model = TransGan(\n",
    "        config, hyperopt, data_module.num_batches\n",
    "    )  # the sets up the model,  config are hparams we want to optimize\n",
    "    model.data_module = data_module\n",
    "    # Callbacks to use during the training, we  checkpoint our models\n",
    "\n",
    "    callbacks = [\n",
    "        ModelCheckpoint(\n",
    "            monitor=\"val_w1m\",\n",
    "            save_top_k=2,\n",
    "            filename=\"{epoch}-{val_fpnd:.2f}-{val_w1m:.4f}-{val_w1efp:.6f}\",\n",
    "            dirpath=None,\n",
    "            every_n_epochs=config[\"val_check\"],\n",
    "        ),\n",
    "        ModelCheckpoint(\n",
    "            monitor=\"val_fpnd\",\n",
    "            save_top_k=2,\n",
    "            filename=\"{epoch}-{val_fpnd:.2f}-{val_w1m:.4f}-{val_w1efp:.6f}\",\n",
    "            dirpath=None,\n",
    "            every_n_epochs=config[\"val_check\"],\n",
    "        )\n",
    "    ]\n",
    "\n",
    "    if False:  # load_ckpt:\n",
    "        model = TransGan.load_from_checkpoint(\n",
    "            \"/beegfs/desy/user/kaechben/Transflow_reloaded2/2022_08_08-18_02-08/epoch=239-val_logprob=0.47-val_w1m=0.0014.ckpt\"\n",
    "        )\n",
    "        model.data_module = data_module\n",
    "\n",
    "    # pl.seed_everything(model.config[\"seed\"], workers=True)\n",
    "    # model.config[\"freq\"]=20\n",
    "    # model.config[\"lr_g\"]=0.00001\n",
    "    # model.config[\"lr_d\"]=0.00001\n",
    "    # model.config = config #config are our hyperparams, we make this a class property now\n",
    "    logger = TensorBoardLogger(root)\n",
    "    # log every n steps could be important as it decides how often it should log to tensorboard\n",
    "    # Also check val every n epochs, as validation checking takes some time\n",
    "\n",
    "    trainer = pl.Trainer(\n",
    "        gpus=1,\n",
    "        logger=logger,\n",
    "        log_every_n_steps=100,  # auto_scale_batch_size=\"binsearch\",\n",
    "        max_epochs=config[\"max_epochs\"],\n",
    "        callbacks=callbacks,\n",
    "        progress_bar_refresh_rate=int(not False) * 10,\n",
    "        check_val_every_n_epoch=config[\"val_check\"],\n",
    "        num_sanity_val_steps=1,  # gradient_clip_val=.02, \n",
    "        fast_dev_run=False,\n",
    "        default_root_dir=root,\n",
    "    )\n",
    "    # This calls the fit function which trains the model\n",
    "\n",
    "    trainer.fit(model, datamodule=data_module)\n",
    "\n",
    "\n",
    "if __name__ == \"__main__\":\n",
    "\n",
    "    hyperopt = True  # This sets to run a hyperparameter optimization with ray or just running the training once\n",
    "\n",
    "    # config = {\n",
    "    #     \"autoreg\": False,\n",
    "    #     \"context_features\": 0,\n",
    "    #     \"network_layers\": 3,  # sets amount hidden layers in transformation networks -scannable\n",
    "    #     \"network_layers_nf\": 2,  # sets amount hidden layers in transformation networks -scannable\n",
    "    #     \"network_nodes_nf\": 256,  # amount nodes in hidden layers in transformation networks -scannable\n",
    "    #     \"batch_size\": 2000,  # sets batch size -scannable #best one 4000\n",
    "    #     \"coupling_layers\": 15,  # amount of invertible transformations to use -scannable\n",
    "    #     \"lr\": 0.001,  # sets learning rate -scannable\n",
    "    #     \"batchnorm\": False,  # use batchnorm or not -scannable\n",
    "    #     \"bins\": 5,  # amount of bins to use in rational quadratic splines -scannable\n",
    "    #     \"tail_bound\": 6,  # splines:max value that is transformed, over this value theree is id  -scannable\n",
    "    #     \"limit\": 150000,  # how many data points to use, test_set is 10% of this -scannable in a sense use 10 k for faster training\n",
    "    #     \"n_dim\": 3,  # how many dimensions to use or equivalently /3 gives the amount of particles to use NEVER EVER CHANGE THIS\n",
    "    #     \"dropout\": 0.2,  # use droput proportion, for 0 there is no dropout -scannable\n",
    "    #     \"canonical\": False,  # transform data coordinates to px,py,pz -scannable\n",
    "    #     \"max_steps\": 100000,  # how many steps to use at max - lower for quicker training\n",
    "    #     \"lambda\": 100,  # balance between massloss and nll -scannable\n",
    "    #     \"name\": \"Transflow_best\",  # name for logging folder\n",
    "    #     \"disc\": False,  # whether to train gan style discriminator that decides whether point is simulated or generated-semi-scannable\n",
    "    #     \"variable\": 1,  # use variable amount of particles otherwise only use 30, options are true or False\n",
    "    #     \"parton\": \"t\",  # choose the dataset you want to train options: t for top,q for quark,g for gluon\n",
    "    #     \"wgan\": False,\n",
    "    #     \"corr\": True,\n",
    "    #     \"num_layers\": 5,\n",
    "    #     \"freq\": 10,\n",
    "    #     \"n_part\": 30,\n",
    "    #     \"fc\": False,\n",
    "    #     \"hidden\": 80,\n",
    "    #     \"heads\": 3,\n",
    "    #     \"l_dim\": 63,\n",
    "    #     \"lr_g\": 1e-4,\n",
    "    #     \"lr_d\": 1e-4,\n",
    "    #     \"lr_nf\": 0.000722,\n",
    "    #     \"sched\": \"cosine2\",\n",
    "    #     \"opt\": \"SGD\",\n",
    "    #     \"lambda\": 1,\n",
    "    #     \"max_epochs\": 1600,\n",
    "    #     \"mass\": True,\n",
    "    #     \"no_hidden\": True,\n",
    "    #     \"clf\": True,\n",
    "    #     \"val_check\": 50,\n",
    "    #     \"frac_pretrain\": 80,\n",
    "    # }\n",
    "    cols = [\n",
    "        \"name\",\n",
    "        \"parton\",\n",
    "        \"mass\",\n",
    "        \"sched\",\n",
    "        \"opt\",\n",
    "        \"no_hidden\",\n",
    "        \"clf\",\n",
    "        \"batch_size\",\n",
    "        \"freq\",\n",
    "        \"seed\",\n",
    "        \"lr_g\",\n",
    "        \"heads\",\n",
    "        \"hidden\",\n",
    "        \"l_dim\",\n",
    "        \"num_layers\",\n",
    "        \"val_check\",\n",
    "    ]\n",
    "    config = {\n",
    "        \"context_features\": 1,\n",
    "        \"network_layers_nf\": 2,\n",
    "        \"network_nodes_nf\": 256,\n",
    "        \"batch_size\": 1024,#1024 best\n",
    "        \"coupling_layers\": 15,\n",
    "        \"lr\": 0.001,\n",
    "        \"batchnorm\": True,\n",
    "        \"bins\": 5,\n",
    "        \"tail_bound\": 6,\n",
    "        \"limit\": 200000,\n",
    "        \"n_dim\": 3,\n",
    "        \"dropout\": 0.2,\n",
    "        \"canonical\": False,\n",
    "        \"max_steps\": 100000,\n",
    "        \"lambda\": 100,\n",
    "        \"name\": \"Transflow_notebook\",\n",
    "        \"disc\": False,\n",
    "        \"parton\": \"q\",\n",
    "        \"wgan\": False,\n",
    "        \"num_layers\": 4,\n",
    "        \"freq\": 6,\n",
    "        \"n_part\": 30,\n",
    "        \"fc\": False,\n",
    "        \"hidden\": 500,\n",
    "        \"heads\": 6,\n",
    "        \"l_dim\": 25,\n",
    "        \"lr_g\": 0.0004327405312571664,\n",
    "        \"lr_d\": 0.0004327405312571664,\n",
    "        \"lr_nf\": 0.000722,\n",
    "        \"sched\": \"cosine\",\n",
    "        \"opt\": \"Adam\",\n",
    "        \"max_epochs\": 800,\n",
    "        \"mass\": True,\n",
    "        \"no_hidden\": False,\n",
    "        \"clf\": True,\n",
    "        \"val_check\": 5,\n",
    "        \"frac_pretrain\": 40,\n",
    "        \"seed\": 69,\n",
    "        \"quantile\": True,\n",
    "    }  #'seed': 744,sched:\"None\",\"wgan\":False,\"freq\":8,\"sched\":None,\"heads\":4\n",
    "    config[\"frac_pretrain\"]=config[\"max_epochs\"]//40\n",
    "    config[\"l_dim\"] = config[\"l_dim\"] * config[\"heads\"]\n",
    "\n",
    "    print(config[\"name\"])\n",
    "    if not hyperopt:\n",
    "        hyperopt = True\n",
    "        for col in cols:\n",
    "            print('\"' + col + '\":' + str(config[col]))\n",
    "        print(\"NOT HYPEROPT\")\n",
    "        root = \"/beegfs/desy/user/\" + os.environ[\"USER\"] + \"/\"+config[\"parton\"]+\"_\" + config[\"name\"]\n",
    "        train(config, hyperopt=hyperopt, root=root)\n",
    "    else:\n",
    "\n",
    "        num_samples = 1  # how many hparam settings to sample with ray\n",
    "        resources = {\"cpu\": 10, \"gpu\": 0.5}       \n",
    "        for i in range(num_samples):\n",
    "            \n",
    "            config[\"sched\"] = np.random.choice([\"cosine\", \"cosine2\", None])\n",
    "            config[\"opt\"] = np.random.choice([\"Adam\", \"AdamW\"])#True, \n",
    "            config[\"mass\"] = True#np.random.choice([True, False])\n",
    "            # config[\"quantile\"] = np.random.choice([True, False])\n",
    "            config[\"wgan\"] = False#np.random.choice([True, False])#\n",
    "\n",
    "            config[\"no_hidden\"] = True# np.random.choice([True, False,])\n",
    "            # config[\"clf\"] = np.random.choice([True, False])\n",
    "            config[\"batch_size\"] = 2 ** np.random.randint(8, 12)\n",
    "            config[\"freq\"] = 1# np.random.choice([1,3,7])\n",
    "            config[\"seed\"] = int(np.random.randint(1, 1000))\n",
    "            config[\"lr_g\"] = stats.loguniform.rvs(0.0001, 0.001, size=1)[0]\n",
    "            config[\"lr_nf\"] = stats.loguniform.rvs(0.00001, 0.001, size=1)[0]\n",
    "            config[\"heads\"] = np.random.randint(3, 8)\n",
    "            config[\"l_dim\"] = config[\"heads\"] * np.random.randint(10, 30)\n",
    "            # config[\"hidden\"] = 100 * np.random.randint(2, 7)\n",
    "            config[\"num_layers\"] = np.random.randint(3, 8)\n",
    "            config[\"parton\"]=np.random.choice([\"t\",\"q\",\"g\"])\n",
    "            config[\"parton\"] = \"q\"\n",
    "            config[\"norm\"] = False#np.random.choice([True,False])\n",
    "            config[\"name\"] = config[\"name\"] + \"_\" + config[\"parton\"]\n",
    "            print(config[\"parton\"])\n",
    "            \n",
    "            if len(sys.argv) > 2:\n",
    "                root = \"/beegfs/desy/user/\"+ os.environ[\"USER\"]+\"/\"+config[\"name\"]+\"/run\"+sys.argv[1]+\"_\"+str(sys.argv[2])\n",
    "                print(root)\n",
    "            else:\n",
    "                root = \"/beegfs/desy/user/\" + os.environ[\"USER\"] + \"/\"+config[\"name\"]\n",
    "            for col in cols:\n",
    "                print('\"' + col + '\":' + str(config[col]))\n",
    "            if config[\"parton\"]==\"q\":\n",
    "                config[\"network_layers_nf\"]=2\n",
    "                config[\"network_nodes_nf\"]=128\n",
    "                config[\"tail_bound\"]=6\n",
    "                config[\"lr_nf\"]=0.00047352\n",
    "                config[\"quantile\"]=True\n",
    "            if config[\"parton\"]==\"t\":\n",
    "                config[\"network_layers_nf\"]=2\n",
    "                config[\"network_nodes_nf\"]=128\n",
    "                config[\"tail_bound\"]=6\n",
    "                config[\"lr_nf\"]=0.00067486\n",
    "            try:\n",
    "                train(config, hyperopt=hyperopt, i=i, root=root)\n",
    "            except:\n",
    "                print(\"error\")\n",
    "                traceback.print_exc()\n"
   ]
  },
  {
   "cell_type": "code",
   "execution_count": null,
   "id": "6a883d50",
   "metadata": {},
   "outputs": [],
   "source": []
  },
  {
   "cell_type": "code",
   "execution_count": 64,
   "id": "5bf283ce-e9c3-4454-ac6a-c4c9faa21f17",
   "metadata": {},
   "outputs": [
    {
     "name": "stdout",
     "output_type": "stream",
     "text": [
      "tensor(0.)\n"
     ]
    }
   ],
   "source": []
  },
  {
   "cell_type": "code",
   "execution_count": 65,
   "id": "c84f9e33-150c-4324-8730-8d4a99543b64",
   "metadata": {},
   "outputs": [
    {
     "data": {
      "text/plain": [
       "(array([ 183., 1184., 1532., 1524., 1686., 1920., 2243., 2709., 3108.,\n",
       "        3266., 3963., 3947., 3839., 3409., 3170., 2688., 2434., 2058.,\n",
       "        1664., 1237.,  943.,  726.,  566.,  404.,  295.,  238.,  155.,\n",
       "          66.,   38.,    9.]),\n",
       " array([-0.0195159 ,  0.01502087,  0.04955763,  0.08409441,  0.11863117,\n",
       "         0.15316793,  0.18770471,  0.22224148,  0.25677824,  0.29131502,\n",
       "         0.32585177,  0.36038855,  0.39492533,  0.42946208,  0.46399885,\n",
       "         0.49853563,  0.5330724 ,  0.56760913,  0.6021459 ,  0.6366827 ,\n",
       "         0.67121947,  0.70575625,  0.74029297,  0.77482975,  0.8093665 ,\n",
       "         0.8439033 ,  0.8784401 ,  0.91297686,  0.9475136 ,  0.98205036,\n",
       "         1.0165871 ], dtype=float32),\n",
       " <BarContainer object of 30 artists>)"
      ]
     },
     "execution_count": 65,
     "metadata": {},
     "output_type": "execute_result"
    },
    {
     "data": {
      "image/png": "[encoded data removed]",
      "text/plain": [
       "<Figure size 432x288 with 1 Axes>"
      ]
     },
     "metadata": {
      "needs_background": "light"
     },
     "output_type": "display_data"
    }
   ],
   "source": [
    "plt.hist(pred_real.detach().numpy(),bins=30)\n",
    "plt.hist(pred_fake.detach().numpy(),bins=30)\n"
   ]
  },
  {
   "cell_type": "code",
   "execution_count": 66,
   "id": "05447b61-8995-42dd-8fcc-81b135a8a3ab",
   "metadata": {},
   "outputs": [
    {
     "name": "stderr",
     "output_type": "stream",
     "text": [
      "WARNING:matplotlib.font_manager:findfont: Font family ['normal'] not found. Falling back to DejaVu Sans.\n"
     ]
    },
    {
     "data": {
      "image/png": "[encoded data removed]",
      "text/plain": [
       "<Figure size 1440x1440 with 30 Axes>"
      ]
     },
     "metadata": {
      "needs_background": "light"
     },
     "output_type": "display_data"
    },
    {
     "data": {
      "text/plain": [
       "(array([3.083e+03, 5.000e+00, 2.800e+01, 2.330e+02, 9.210e+02, 6.600e+01,\n",
       "        1.141e+03, 1.140e+02, 1.242e+03, 1.400e+01, 1.800e+02, 0.000e+00,\n",
       "        6.570e+02, 1.800e+01, 0.000e+00, 2.190e+02, 1.000e+00, 1.590e+02,\n",
       "        0.000e+00, 1.400e+01, 0.000e+00, 4.100e+01, 1.000e+00, 0.000e+00,\n",
       "        1.700e+01, 0.000e+00, 0.000e+00, 2.000e+00, 0.000e+00, 4.000e+00]),\n",
       " array([0.        , 0.00180422, 0.00360844, 0.00541266, 0.00721688,\n",
       "        0.0090211 , 0.01082532, 0.01262954, 0.01443376, 0.01623798,\n",
       "        0.0180422 , 0.01984642, 0.02165063, 0.02345485, 0.02525907,\n",
       "        0.02706329, 0.02886751, 0.03067173, 0.03247595, 0.03428017,\n",
       "        0.03608439, 0.03788861, 0.03969283, 0.04149705, 0.04330127,\n",
       "        0.04510549, 0.04690971, 0.04871393, 0.05051815, 0.05232237,\n",
       "        0.05412659], dtype=float32),\n",
       " <BarContainer object of 30 artists>)"
      ]
     },
     "execution_count": 66,
     "metadata": {},
     "output_type": "execute_result"
    },
    {
     "data": {
      "image/png": "[encoded data removed]",
      "text/plain": [
       "<Figure size 1440x720 with 2 Axes>"
      ]
     },
     "metadata": {
      "needs_background": "light"
     },
     "output_type": "display_data"
    }
   ],
   "source": [
    "# corrs=model.gen_net(z,mask_test)\n",
    "fig,ax=plt.subplots(5,6,figsize=(20,20))\n",
    "t=gen.reshape(-1,30,3)\n",
    "q=batch.reshape(-1,30,3)\n",
    "k=2\n",
    "n=mask.sum(axis=1)\n",
    "n_test=mask_test.sum(axis=1)\n",
    "\n",
    "mt=mask_test[n_test>5]\n",
    "m=mask[n>5]\n",
    "\n",
    "q=q[n>5,:,:]\n",
    "t=t[n_test>5,:,:]\n",
    "\n",
    "for i in range(30):\n",
    "    _,bins,_=ax[i//6,i%6].hist(t[:,i,k].numpy(),bins=40,label=\"gen\",histtype=\"step\",density=1)\n",
    "    ax[i//6,i%6].hist(q[:,i,k].numpy(),bins=40,label=\"real\",histtype=\"step\",density=1)\n",
    "#     ax[i//6,i%6].hist(g[:,i,2].numpy(),bins=bins,label=\"g\",histtype=\"step\")\n",
    "    ax[i//6,i%6].legend()\n",
    "plt.suptitle(r\"Jet Particles ordered by $p_T$ distribution\")\n",
    "plt.tight_layout()\n",
    "plt.show()\n",
    "\n",
    "fig,ax=plt.subplots(ncols=2,figsize=(20,10))\n",
    "ax[0].hist(mass(t,mt).numpy(),bins=30)\n",
    "ax[1].hist(mass(q,m).numpy(),bins=30)"
   ]
  },
  {
   "cell_type": "code",
   "execution_count": 58,
   "id": "8b2b4a18-c2b3-4243-b4e9-21186e23111d",
   "metadata": {},
   "outputs": [
    {
     "data": {
      "text/plain": [
       "torch.Size([51204, 30])"
      ]
     },
     "execution_count": 58,
     "metadata": {},
     "output_type": "execute_result"
    }
   ],
   "source": []
  },
  {
   "cell_type": "code",
   "execution_count": null,
   "id": "e35f1c0e-9a7c-470b-ab9f-7573b45332a8",
   "metadata": {},
   "outputs": [],
   "source": []
  },
  {
   "cell_type": "code",
   "execution_count": null,
   "id": "70bc0cbe-f731-4732-844d-3175fc409fbd",
   "metadata": {},
   "outputs": [],
   "source": []
  }
 ],
 "metadata": {
  "kernelspec": {
   "display_name": "jetnet",
   "language": "python",
   "name": "jetnet"
  },
  "language_info": {
   "codemirror_mode": {
    "name": "ipython",
    "version": 3
   },
   "file_extension": ".py",
   "mimetype": "text/x-python",
   "name": "python",
   "nbconvert_exporter": "python",
   "pygments_lexer": "ipython3",
   "version": "3.8.13"
  }
 },
 "nbformat": 4,
 "nbformat_minor": 5
}
