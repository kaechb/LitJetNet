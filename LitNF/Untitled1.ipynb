{
 "cells": [
  {
   "cell_type": "code",
   "execution_count": 1,
   "id": "6fe1256d-b06a-4b28-a2f4-e756c47e9568",
   "metadata": {},
   "outputs": [],
   "source": [
    "import torch\n",
    "import torch.nn as nn"
   ]
  },
  {
   "cell_type": "code",
   "execution_count": 6,
   "id": "988946b4-507b-4030-9ae6-e1827ec9efe7",
   "metadata": {},
   "outputs": [],
   "source": [
    "\n",
    "class Gen(nn.Module):\n",
    "    def __init__(\n",
    "        self,\n",
    "        n_dim=3,\n",
    "        l_dim=10,\n",
    "        hidden=300,\n",
    "        num_layers=3,\n",
    "        num_heads=1,\n",
    "        n_part=5,\n",
    "        fc=False,\n",
    "        dropout=0.5,\n",
    "        no_hidden=True,\n",
    "    ):\n",
    "\n",
    "        super().__init__()\n",
    "        self.encoder = nn.TransformerEncoder(\n",
    "            nn.TransformerEncoderLayer(\n",
    "                d_model=3,\n",
    "                nhead=num_heads,\n",
    "                batch_first=True,\n",
    "                norm_first=False,\n",
    "                dim_feedforward=40,\n",
    "                dropout=0,\n",
    "            ),\n",
    "            num_layers=num_layers,\n",
    "        )\n",
    "\n",
    "    def forward(self,x,mask):\n",
    "        x=self.encoder(x,src_key_padding_mask=m)\n",
    "        return x\n",
    "        \n",
    "g=Gen()\n"
   ]
  },
  {
   "cell_type": "code",
   "execution_count": 10,
   "id": "f6fd0dde-08fd-43d5-9e3a-33d7b17ffa08",
   "metadata": {},
   "outputs": [
    {
     "name": "stdout",
     "output_type": "stream",
     "text": [
      "tensor([[0.7414, 0.9103, 0.0158],\n",
      "        [0.0828, 0.8534, 0.6339],\n",
      "        [0.0000, 0.0000, 0.0000],\n",
      "        [0.0000, 0.0000, 0.0000],\n",
      "        [0.0000, 0.0000, 0.0000],\n",
      "        [0.0000, 0.0000, 0.0000],\n",
      "        [0.0000, 0.0000, 0.0000],\n",
      "        [0.0000, 0.0000, 0.0000],\n",
      "        [0.0000, 0.0000, 0.0000],\n",
      "        [0.0000, 0.0000, 0.0000],\n",
      "        [0.0000, 0.0000, 0.0000],\n",
      "        [0.0000, 0.0000, 0.0000],\n",
      "        [0.0000, 0.0000, 0.0000],\n",
      "        [0.0000, 0.0000, 0.0000],\n",
      "        [0.0000, 0.0000, 0.0000],\n",
      "        [0.0000, 0.0000, 0.0000],\n",
      "        [0.0000, 0.0000, 0.0000],\n",
      "        [0.0000, 0.0000, 0.0000],\n",
      "        [0.0000, 0.0000, 0.0000],\n",
      "        [0.0000, 0.0000, 0.0000],\n",
      "        [0.0000, 0.0000, 0.0000],\n",
      "        [0.0000, 0.0000, 0.0000]])\n",
      "tensor([1., 1., 0., 0., 0., 0., 0., 0., 0., 0., 0., 0., 0., 0., 0., 0., 0., 0.,\n",
      "        0., 0., 0., 0.])\n"
     ]
    },
    {
     "data": {
      "text/plain": [
       "tensor([[-0.3065,  1.3489, -1.0424],\n",
       "        [-1.3735,  0.3952,  0.9783],\n",
       "        [ 1.1843, -1.2615,  0.0772],\n",
       "        [ 1.1843, -1.2615,  0.0772],\n",
       "        [ 1.1843, -1.2615,  0.0772],\n",
       "        [ 1.1843, -1.2615,  0.0772],\n",
       "        [ 1.1843, -1.2615,  0.0772],\n",
       "        [ 1.1843, -1.2615,  0.0772],\n",
       "        [ 1.1843, -1.2615,  0.0772],\n",
       "        [ 1.1843, -1.2615,  0.0772],\n",
       "        [ 1.1843, -1.2615,  0.0772],\n",
       "        [ 1.1843, -1.2615,  0.0772],\n",
       "        [ 1.1843, -1.2615,  0.0772],\n",
       "        [ 1.1843, -1.2615,  0.0772],\n",
       "        [ 1.1843, -1.2615,  0.0772],\n",
       "        [ 1.1843, -1.2615,  0.0772],\n",
       "        [ 1.1843, -1.2615,  0.0772],\n",
       "        [ 1.1843, -1.2615,  0.0772],\n",
       "        [ 1.1843, -1.2615,  0.0772],\n",
       "        [ 1.1843, -1.2615,  0.0772],\n",
       "        [ 1.1843, -1.2615,  0.0772],\n",
       "        [ 1.1843, -1.2615,  0.0772]], grad_fn=<SliceBackward0>)"
      ]
     },
     "execution_count": 10,
     "metadata": {},
     "output_type": "execute_result"
    }
   ],
   "source": [
    "z=torch.rand(10,2,3)\n",
    "\n",
    "z=torch.cat((z,torch.zeros((10,20,3))),axis=1)\n",
    "print(z[0])\n",
    "m=torch.zeros_like(z[:,:,0])\n",
    "m[:,:2]=1\n",
    "print(m[0])\n",
    "g(z,mask=m)[0,:]\n"
   ]
  },
  {
   "cell_type": "code",
   "execution_count": null,
   "id": "4d5504d9-8236-45d6-8fc2-ef3b5552af26",
   "metadata": {},
   "outputs": [],
   "source": []
  }
 ],
 "metadata": {
  "kernelspec": {
   "display_name": "jetnet",
   "language": "python",
   "name": "jetnet"
  },
  "language_info": {
   "codemirror_mode": {
    "name": "ipython",
    "version": 3
   },
   "file_extension": ".py",
   "mimetype": "text/x-python",
   "name": "python",
   "nbconvert_exporter": "python",
   "pygments_lexer": "ipython3",
   "version": "3.8.13"
  }
 },
 "nbformat": 4,
 "nbformat_minor": 5
}
