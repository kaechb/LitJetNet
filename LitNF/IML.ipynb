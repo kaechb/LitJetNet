{
 "cells": [
  {
   "cell_type": "code",
   "execution_count": 5,
   "id": "29b6eff2-4a0f-4b71-909e-74e3350051d4",
   "metadata": {},
   "outputs": [],
   "source": [
    "from pytorch_lightning.callbacks import ModelCheckpoint\n",
    "# from comet_ml import Experiment\n",
    "\n",
    "import pytorch_lightning as pl\n",
    "import os\n",
    "from plotting import plotting\n",
    "from torch.nn import functional as FF\n",
    "from lit_nf import LitNF\n",
    "from jetnet_dataloader import JetNetDataloader\n",
    "from helpers import *\n",
    "from ray import tune\n",
    "import ray\n",
    "from pytorch_lightning.loggers import CometLogger\n",
    "from ray.tune import CLIReporter\n",
    "from pytorch_lightning.loggers import TensorBoardLogger\n",
    "from ray.tune.integration.pytorch_lightning import TuneReportCallback\n",
    "from pytorch_lightning.callbacks.early_stopping import EarlyStopping\n",
    "from ray.tune.integration.pytorch_lightning import TuneReportCheckpointCallback\n",
    "import os\n",
    "from scipy import stats\n",
    "import datetime\n",
    "import pandas as pd\n",
    "import traceback\n",
    "import time"
   ]
  },
  {
   "cell_type": "code",
   "execution_count": 32,
   "id": "f452bd0a",
   "metadata": {},
   "outputs": [],
   "source": [
    "import torchinfo\n",
    "import torch\n",
    "from jetnet_dataloader import JetNetDataloader\n",
    "from lit_nf import *\n",
    "from plotting import *\n",
    "import pandas as pd\n",
    "from jetnet.evaluation import w1p, w1efp, w1m, cov_mmd,fpnd\n",
    "from jetnet.datasets import JetNet\n",
    "# from main import train\n",
    "pd.set_option(\"display.max_colwidth\",200)\n",
    "import matplotlib.pyplot as plt\n",
    "import os\n",
    "import hist\n",
    "import mplhep as hep\n",
    "import torch\n",
    "import numpy as np\n",
    "import hist\n",
    "from hist import Hist\n",
    "import traceback\n",
    "import pandas as pd\n",
    "from mpl_toolkits.axes_grid1 import make_axes_locatable\n",
    "\n",
    "class plotting_paper():\n",
    "    '''This is a class that takes care of  plotting steps in the script,\n",
    "        It is initialized with the following arguments:\n",
    "        true=the simulated data, note that it needs to be scaled\n",
    "        gen= Generated data , needs to be scaled\n",
    "        step=The current step of the training, this is need for tensorboard\n",
    "        model=the model that is trained, a bit of an overkill as it is only used to access the losses\n",
    "        config=the config used for training\n",
    "        logger=The logger used for tensorboard logging'''\n",
    "    def __init__(self,true,gen,config,p,model=None,logger=None,weight=1):\n",
    "        self.config=model.config\n",
    "        self.n_dim=self.config[\"n_dim\"]\n",
    "        self.gen=gen\n",
    "        self.test_set=true\n",
    "\n",
    "        self.model=model\n",
    "        self.p=p\n",
    "\n",
    "        self.weight=weight\n",
    "        if logger is not None:\n",
    "            self.summary=logger\n",
    "    def plot_mass_only(self,m,m_t,bins=15,save=\"\"):\n",
    "        fig,ax=plt.subplots(2,1,gridspec_kw={'height_ratios': [3, 1]},figsize=(6,8))\n",
    "        a=min(np.quantile(m_t,0.001),np.quantile(m,0.001))\n",
    "        b=max(np.quantile(m_t,0.999),np.quantile(m,0.999))\n",
    "        a=np.quantile(m_t,0.001)\n",
    "        b=np.quantile(m_t,0.999)\n",
    "        h=hist.Hist(hist.axis.Regular(bins,a,b))\n",
    "        h2=hist.Hist(hist.axis.Regular(bins,a,b))\n",
    "        bins = h.axes[0].edges\n",
    "        h.fill(m)#,weight=1/self.weight)\n",
    "        h2.fill(m_t)\n",
    "            \n",
    "            #hep.cms.label(data=False,lumi=None ,year=None,rlabel=\"\",llabel=\"Private Work\",ax=ax[0] )\n",
    "\n",
    "        main_ax_artists, sublot_ax_arists = h.plot_ratio(\n",
    "            h2,\n",
    "            ax_dict={\"main_ax\":ax[0],\"ratio_ax\":ax[1]},\n",
    "            rp_ylabel=r\"Ratio\",\n",
    "            rp_num_label=\"Generated\",\n",
    "            rp_denom_label=\"Ground Truth\",\n",
    "            rp_uncert_draw_type=\"line\",  # line or bar\n",
    "        )\n",
    "        ax[0].set_xlabel(\"\")\n",
    "#                 if quantile and v==\"m\" and plot_vline:\n",
    "#                     ax[0,k].hist(m[m_t<np.quantile(m_t,0.1)],histtype='step',bins=bins,alpha=1,color=\"red\",label=\"10% quantile gen\",hatch=\"/\")\n",
    "#                     ax[0,k].vlines(np.quantile(m_t,0.1),0,np.max(h[:]),color=\"red\",label='10% quantile train')\n",
    "\n",
    "        ax[1].set_ylim(0.25,2)\n",
    "        ax[0].set_xlim(a,b)\n",
    "        ax[1].set_xlabel(\"$m_T$\",fontsize=22)\n",
    "        ax[1].set_xlim(a,b)\n",
    "        ax[0].set_ylabel(\"Counts\" ,fontsize=18)\n",
    "        ax[1].set_ylabel(\"Ratio\",fontsize=18)\n",
    "        ax[0].patches[1].set_fill(True)\n",
    "        ax[0].patches[1].set_fc(\"orange\")\n",
    "        ax[0].patches[1].set_alpha(0.3) \n",
    "        plt.savefig(\"{}\".format(save),format=\"pdf\")\n",
    "        plt.show()\n",
    "\n",
    "    def plot_marginals(self,ith=None,title=None,save=None):\n",
    "        #This plots the marginal distribution for simulation and generation\n",
    "        #Note that this is the data the model sees during training as input to model in the NF\n",
    "        #This is the distribution of one of [eta,phi,pt] of one particle of the n particles per jet: for example the pt of the 3rd particle\n",
    "        #if save, the histograms are logged to tensorboard otherwise they are shown\n",
    "        \n",
    "        # plt.switch_backend('agg')\n",
    "        i=str(ith)\n",
    "\n",
    "        name,label=[\"eta\",\"phi\",\"pt\"],['${{\\eta}}^{{\\\\tt rel}}_{{{}}}$'.format(ith+1),\"${{\\phi}}^{{\\\\tt rel}}_{{{}}}$\".format(ith+1),\"${{p^{{\\\\tt rel}}_{{T,{}}}}}$\".format(ith+1)]\n",
    "        fig,ax=plt.subplots(2,3,gridspec_kw={'height_ratios': [3, 1]},figsize=(18,6))\n",
    "        particles=[3*ith,3*ith+1,3*ith+2]\n",
    "        pre=\"\"\n",
    "        if ith!=0:\n",
    "            pre=str(ith+1)+\".\"\n",
    "        plt.suptitle(pre+\" Hardest Particle\",fontweight=\"bold\",fontsize=18)\n",
    "        k=0\n",
    "        for i in particles:\n",
    "\n",
    "\n",
    "            ax_temp=ax[:,k]\n",
    "           \n",
    "            a=np.quantile(self.test_set[:,i].numpy(),0)\n",
    "            b=np.quantile(self.test_set[:,i].numpy(),1)\n",
    "\n",
    "            h=hist.Hist(hist.axis.Regular(15,a,b,label=label[i%3],underflow=False,overflow=False))\n",
    "            h2=hist.Hist(hist.axis.Regular(15,a,b,label=label[i%3],underflow=False,overflow=False))\n",
    "            h.fill(self.gen[:,i].numpy())\n",
    "            h2.fill(self.test_set[:,i].numpy())\n",
    "            \n",
    "            plt.tight_layout()\n",
    "            #hep.cms.label(data=False,lumi=None ,year=None,rlabel=\"\",llabel=\"Private Work\",ax=ax[0,k] )\n",
    "       \n",
    "            main_ax_artists, sublot_ax_arists = h.plot_ratio(\n",
    "                h2,\n",
    "                ax_dict={\"main_ax\":ax_temp[0],\"ratio_ax\":ax_temp[1]},\n",
    "                rp_ylabel=r\"Ratio\",\n",
    "#                 rp_xlabel=label[i%3],\n",
    "                rp_num_label=\"Generated\",\n",
    "                rp_denom_label=\"Ground Truth\",\n",
    "                rp_uncert_draw_type=\"line\",  # line or bar\n",
    "            )\n",
    "            \n",
    "            \n",
    "            ax_temp[0].set_xlabel(\"\")\n",
    "            ax_temp[1].set_ylim(0.25,2)\n",
    "            ax_temp[0].set_xlim(a,b)\n",
    "            ax_temp[1].set_xlim(a,b)\n",
    "            ax_temp[1].set_xlabel(label[i%3],fontsize=22)\n",
    "            ax_temp[0].set_ylabel(\"Counts\" ,fontsize=18)\n",
    "            ax_temp[1].set_ylabel(\"Ratio\",fontsize=18)\n",
    "            ax[0,k].patches[1].set_fill(True)\n",
    "            ax[0,k].patches[1].set_fc(\"orange\")\n",
    "            ax[0,k].patches[1].set_alpha(0.3) \n",
    "            ax[0,k].get_legend().remove()\n",
    "            #plt.tight_layout(pad=2)\n",
    "            k+=1\n",
    "        ax[0,-1].legend(loc=\"best\",fontsize=18)  \n",
    "        if not save==None:\n",
    "            plt.savefig(save+str(ith)+\".pdf\",format=\"pdf\")\n",
    "        plt.show()\n",
    "\n",
    "\n",
    "   \n",
    "        \n",
    "    def oversample(self,m,m_t,weight,save=None,quantile=False,bins=15,plot_vline=False,title=\"\",leg=-2):\n",
    "        #This creates a histogram of the inclusive distributions and calculates the mass of each jet\n",
    "        #and creates a histogram of that\n",
    "        #if save, the histograms are logged to tensorboard otherwise they are shown\n",
    "        #if quantile, this also creates a histogram of a subsample of the generated data, \n",
    "        # where the mass used to condition the flow is in the first 10% percentile of the simulated mass dist\n",
    "        i=0\n",
    "        k=0\n",
    "        fig,ax=plt.subplots(2,4,gridspec_kw={'height_ratios': [3, 1]},figsize=(20,5))\n",
    "        plt.suptitle(\"Oversampled by Factor {}\".format(int(1/weight)))\n",
    "        for v,name in zip([\"eta\",\"phi\",\"pt\",\"m\"],[r\"$\\eta^{rel}$\",r\"$\\phi^{rel}$\",r\"$p_T^{rel}$\",r\"$m^{rel}$\"]):\n",
    "            \n",
    "            if v!=\"m\":\n",
    "                a=min(np.quantile(self.gen[:,i],0.001),np.quantile(self.test_set[:,i],0.001))\n",
    "                b=max(np.quantile(self.gen[:,i],0.999),np.quantile(self.test_set[:,i],0.999))     \n",
    "                \n",
    "                h=hist.Hist(hist.axis.Regular(bins,a,b))\n",
    "                h2=hist.Hist(hist.axis.Regular(bins,a,b))\n",
    "                h.fill(self.gen[:,i],weight=1/weight)\n",
    "                \n",
    "                h2.fill(self.test_set[:,i])\n",
    "                i+=1\n",
    "            else:\n",
    "                a=min(np.quantile(m_t,0.001),np.quantile(m,0.001))\n",
    "                b=max(np.quantile(m_t,0.999),np.quantile(m,0.999))\n",
    "                a=np.quantile(m_t,0.001)\n",
    "                b=np.quantile(m_t,0.999)\n",
    "                h=hist.Hist(hist.axis.Regular(bins,a,b))\n",
    "                h2=hist.Hist(hist.axis.Regular(bins,a,b))\n",
    "                \n",
    "                h.fill(m,weight=1/weight)#,weight=1/self.weight)\n",
    "                h2.fill(m_t)\n",
    "            \n",
    "            #hep.cms.label(data=False,lumi=None ,year=None,rlabel=\"\",llabel=\"Private Work\",ax=ax[0] )\n",
    "        \n",
    "            main_ax_artists, sublot_ax_arists = h.plot_ratio(\n",
    "                h2,\n",
    "                ax_dict={\"main_ax\":ax[0,k],\"ratio_ax\":ax[1,k]},\n",
    "                rp_ylabel=r\"Ratio\",\n",
    "                rp_num_label=r\"Generated$\\times{}$\".format(1./weight),\n",
    "                rp_denom_label=\"Ground Truth\",\n",
    "                rp_uncert_draw_type=\"line\",  # line or bar\n",
    "            )\n",
    "            ax[0,k].set_xlabel(\"\")\n",
    "#                 if quantile and v==\"m\" and plot_vline:\n",
    "#                     ax[0,k].hist(m[m_t<np.quantile(m_t,0.1)],histtype='step',bins=bins,alpha=1,color=\"red\",label=\"10% quantile gen\",hatch=\"/\")\n",
    "#                     ax[0,k].vlines(np.quantile(m_t,0.1),0,np.max(h[:]),color=\"red\",label='10% quantile train')\n",
    "\n",
    "\n",
    "            ax[1,k].set_ylim(0.25,2)\n",
    "            ax[0,k].set_xlim(a,b)\n",
    "            ax[1,k].set_xlabel(name,fontsize=18)\n",
    "            ax[1,k].set_xlim(a,b)\n",
    "            ax[0,k].set_ylabel(\"Counts\" ,fontsize=18)\n",
    "            ax[1,k].set_ylabel(\"Ratio\",fontsize=18)\n",
    "            ax[0,k].patches[1].set_fill(True)\n",
    "            ax[0,k].patches[1].set_fc(\"orange\")\n",
    "            ax[0,k].patches[1].set_alpha(0.3) \n",
    "            ax[0,k].get_legend().remove()\n",
    "            plt.tight_layout(pad=1)\n",
    "            k+=1\n",
    "        ax[0,leg].legend(loc=\"best\",fontsize=15) \n",
    "        if not save==None:\n",
    "            \n",
    "                plt.savefig(save+\".pdf\",format=\"pdf\")\n",
    "\n",
    "          \n",
    "    def plot_mass(self,m,m_t,save=None,quantile=False,bins=15,plot_vline=False,title=\"\",leg=-1):\n",
    "        #This creates a histogram of the inclusive distributions and calculates the mass of each jet\n",
    "        #and creates a histogram of that\n",
    "        #if save, the histograms are logged to tensorboard otherwise they are shown\n",
    "        #if quantile, this also creates a histogram of a subsample of the generated data, \n",
    "        # where the mass used to condition the flow is in the first 10% percentile of the simulated mass dist\n",
    "        i=0\n",
    "        k=0\n",
    "        fig,ax=plt.subplots(2,4,gridspec_kw={'height_ratios': [3, 1]},figsize=(24,6))\n",
    "        plt.suptitle(\"All Particles\",fontweight=\"bold\",fontsize=18)\n",
    "        for v,name in zip([\"eta\",\"phi\",\"pt\",\"m\"],[r\"$\\eta^{\\tt rel}$\",r\"$\\phi^{\\tt rel}$\",r\"$p_T^{\\tt rel}$\",r\"$m^{\\tt rel}$\"]):\n",
    "            \n",
    "            if v!=\"m\":\n",
    "                a=min(np.quantile(self.gen[:,i],0.001),np.quantile(self.test_set[:,i],0.001))\n",
    "                b=max(np.quantile(self.gen[:,i],0.999),np.quantile(self.test_set[:,i],0.999))     \n",
    "                temp=self.test_set[:,i].numpy()\n",
    "                h=hist.Hist(hist.axis.Regular(bins,a,b))\n",
    "                h2=hist.Hist(hist.axis.Regular(bins,a,b))\n",
    "                h.fill(self.gen[:,i])\n",
    "                h2.fill(self.test_set[:,i])\n",
    "                i+=1\n",
    "            else:\n",
    "                a=min(np.quantile(m_t,0.001),np.quantile(m,0.001))\n",
    "                b=max(np.quantile(m_t,0.999),np.quantile(m,0.999))\n",
    "                a=np.quantile(m_t,0.001)\n",
    "                b=np.quantile(m_t,0.999)\n",
    "                h=hist.Hist(hist.axis.Regular(bins,a,b))\n",
    "                h2=hist.Hist(hist.axis.Regular(bins,a,b))\n",
    "                #bins = h.axes[0].edges\n",
    "                h.fill(m)#,weight=1/self.weight)\n",
    "                h2.fill(m_t)\n",
    "                temp=m_t\n",
    "            \n",
    "            #hep.cms.label(data=False,lumi=None ,year=None,rlabel=\"\",llabel=\"Private Work\",ax=ax[0] )\n",
    "        \n",
    "            main_ax_artists, sublot_ax_arists = h.plot_ratio(\n",
    "                h2,\n",
    "                ax_dict={\"main_ax\":ax[0,k],\"ratio_ax\":ax[1,k]},\n",
    "                rp_ylabel=r\"Ratio\",\n",
    "                bar_=\"blue\",\n",
    "                rp_num_label=\"Generated\",\n",
    "                rp_denom_label=\"Ground Truth\",\n",
    "                rp_uncert_draw_type=\"line\",  # line or bar\n",
    "            )\n",
    "            ax[0,k].set_xlabel(\"\")\n",
    "            \n",
    "\n",
    "            # ax[0,k].patches[1].set_fc(\"orange\")\n",
    "            # ax[0,k].patches[1].set_alpha(0.5)\n",
    "#                 if quantile and v==\"m\" and plot_vline:\n",
    "#                     ax[0,k].hist(m[m_t<np.quantile(m_t,0.1)],histtype='step',bins=bins,alpha=1,color=\"red\",label=\"10% quantile gen\",hatch=\"/\")\n",
    "#                     ax[0,k].vlines(np.quantile(m_t,0.1),0,np.max(h[:]),color=\"red\",label='10% quantile train')\n",
    "\n",
    "            #ax[0,k].hist(temp,bins=bins,color=\"orange\",alpha=0.5)  \n",
    "            ax[0,k].patches[1].set_fill(True)\n",
    "            ax[0,k].patches[1].set_fc(\"orange\")\n",
    "            ax[0,k].patches[1].set_alpha(0.3) \n",
    "            ax[1,k].set_ylim(0.25,2)\n",
    "            ax[0,k].set_xlim(a,b)\n",
    "            ax[1,k].set_xlabel(name,fontsize=22)\n",
    "            ax[1,k].set_xlim(a,b)\n",
    "            ax[0,k].set_ylabel(\"Counts\", fontsize=18)\n",
    "            ax[1,k].set_ylabel(\"Ratio\",fontsize=18)\n",
    "            ax[0,k].get_legend().remove()\n",
    "            k+=1\n",
    "#                 if plot_vline:\n",
    "#                        ax[0,k].legend([\"Generated\",\"Training\",\"10% quantile Gen\",\"10% quantile Sim\"] )\n",
    "#                 else:\n",
    "#                       ax[0,k].legend([\"Flow Generated\",\"MC Simulated\"] )\n",
    "            \n",
    "            #hep.cms.label(data=False,lumi=None ,year=None,rlabel=\"\",llabel=\"Private Work\",ax=ax[0] )\n",
    "            \n",
    "#             plt.xlabel(name)\n",
    "        \n",
    "        ax[0,leg].legend(loc=\"best\",fontsize=18)  \n",
    "        plt.tight_layout(pad=1)\n",
    "        \n",
    "\n",
    "        \n",
    "        if not save==None:\n",
    "            plt.savefig(save+\".pdf\",format=\"pdf\")\n",
    "        plt.show()\n",
    "    def var_part(self,true_n,gen_n,m_true,m_gen,form=2,save=\"\"):\n",
    "        labels=[\"$\\eta^{rel}$\",\"$\\phi^{rel}$\",\"$p^{rel}_T$\",\"$m^{rel}$\"]\n",
    "        names=[\"eta\",\"phi\",\"pt\",\"m\"]\n",
    "        n,counts=torch.unique(true_n,return_counts=True)\n",
    "        for j in range(4):\n",
    "            fig,ax=plt.subplots(ncols=2,nrows=2,figsize=(15,15))\n",
    "\n",
    "            k=-1\n",
    "            ntemp=n[-form**2:]\n",
    "\n",
    "            \n",
    "            for i in list(ntemp)[::-1]: \n",
    "                k+=1\n",
    "                i=int(i)\n",
    "\n",
    "                if names[j]!=\"m\":\n",
    "                    a=np.quantile(self.test_set[true_n.reshape(-1)==i,:].reshape(-1,3)[:,j],0.001)\n",
    "                    b=np.quantile(self.test_set[true_n.reshape(-1)==i,:].reshape(-1,3)[:,j],0.999)    \n",
    "                    h=hist.Hist(hist.axis.Regular(15,a,b))\n",
    "                    h2=hist.Hist(hist.axis.Regular(15,a,b))\n",
    "                    bins = h.axes[0].edges\n",
    "\n",
    "                    ax[k//form,k%form].legend()\n",
    "                    h.fill(self.gen[gen_n.reshape(-1)==i,:].reshape(-1,3)[:,j])\n",
    "                    h2.fill(self.test_set[true_n.reshape(-1)==i,:].reshape(-1,3)[:,j])\n",
    "                    \n",
    "                else:\n",
    "                    a=np.quantile(m_true[true_n.reshape(-1)==i],0.001)\n",
    "                    b=np.quantile(m_gen[gen_n.reshape(-1)==i],0.999)\n",
    "\n",
    "                    h=hist.Hist(hist.axis.Regular(15,a,b))\n",
    "                    h2=hist.Hist(hist.axis.Regular(15,a,b))\n",
    "                    bins = h.axes[0].edges\n",
    "                    h.fill(m_gen[gen_n.reshape(-1)==i])\n",
    "                    h2.fill(m_true[true_n.reshape(-1)==i])\n",
    "                    \n",
    "\n",
    "                h.plot1d(    ax=ax[k//2,k%2])  # line or bar)\n",
    "                h2.plot1d(    ax=ax[k//2,k%2])  # line or bar)\n",
    "                ax[k//2,k%2].set_title(\"{} Distribution for Jets with {} Particles\".format(labels[j],i))\n",
    "                ax[k//2,k%2].set_xlabel(labels[j])\n",
    "                ax[k//2,k%2].set_xlim(a,b)\n",
    "                ax[k//2,k%2].patches[1].set_fill(True)\n",
    "                ax[k//2,k%2].patches[1].set_fc(\"orange\")\n",
    "                ax[k//2,k%2].patches[1].set_alpha(0.3) \n",
    "                \n",
    "                \n",
    "            ax[0,0].legend(loc=\"best\",fontsize=18)  \n",
    "            \n",
    "                #plt.tight_layout(pad=2)\n",
    "\n",
    "#             if save:\n",
    "#                 self.summary.add_figure(\"jet{}_{}_part.pdf\".format(names[j],i),fig,format=\"pdf\")\n",
    "#                 self.summary.close()\n",
    "#             else:\n",
    "            plt.savefig(save+names[j]+\".pdf\",format=\"pdf\")\n",
    "            \n",
    "            plt.show()\n"
   ]
  },
  {
   "cell_type": "code",
   "execution_count": 33,
   "id": "c7871905",
   "metadata": {
    "tags": []
   },
   "outputs": [
    {
     "name": "stdout",
     "output_type": "stream",
     "text": [
      "q2c True\n",
      "loaded\n"
     ]
    }
   ],
   "source": [
    "config = {\n",
    "       \"network_layers\": 4,  # sets amount hidden layers in transformation networks -scannable\n",
    "        \"network_nodes\": 256,  # amount nodes in hidden layers in transformation networks -scannable\n",
    "        \"batch_size\": 10000,  # sets batch size -scannable\n",
    "        \"coupling_layers\": 10,  # amount of invertible transformations to use -scannable\n",
    "        \"lr\": 0.001,  # sets learning rate -scannable\n",
    "        \"batchnorm\": False,  # use batchnorm or not -scannable\n",
    "        \"bins\": 8,  # amount of bins to use in rational quadratic splines -scannable\n",
    "        \"tail_bound\": 6,  # splines:max value that is transformed, over this value theree is id  -scannable\n",
    "        \"limit\": 150000,  # how many data points to use, test_set is 10% of this -scannable in a sense use 10 k for faster training\n",
    "        \"n_dim\": 90,  # how many dimensions to use or equivalently /3 gives the amount of particles to use NEVER EVER CHANGE THIS\n",
    "        \"dropout\": 0.4,  # use droput proportion, for 0 there is no dropout -scannable\n",
    "        \"lr_schedule\": False,  # whether tos chedule the learning rate can be False or \"smart\",\"exp\",\"onecycle\" -semi-scannable\n",
    "        \"n_sched\": 1000,  # how many steps between an annealing step -semi-scannable\n",
    "        \"canonical\": False,  # transform data coordinates to px,py,pz -scannable\n",
    "        \"max_steps\": 6000,  # how many steps to use at max - lower for quicker training\n",
    "        \"lambda\": 10,  # balance between massloss and nll -scannable\n",
    "        \"n_mse_turnoff\": 10000000,  # when to turn off mass loss -scannable\n",
    "        \"n_mse_delay\": 5,  # when to turn on mass loss -scannable\n",
    "        \"name\": \"t\",  # name for logging folder\n",
    "        \"disc\": False,  # whether to train gan style discriminator that decides whether point is simulated or generated-semi-scannable\n",
    "        \"calc_massloss\": False, # whether to calculate mass loss, makes training slower, do not use with autoregressive! \n",
    "        \"context_features\":2, #amount of variables used for conditioning, for 0 no conditioning is used, for 1 o nly the mass is used, for 2 also the number part is used\n",
    "        \"variable\":1, #use variable amount of particles otherwise only use 30, options are true or false \n",
    "        \"spline\":\"autoreg\",#whether to use splines or not, can also be set to \"autoregressive\" but they are unstable\n",
    "        \"parton\":\"t\", #choose the dataset you want to train options: t for top,q for quark,g for gluon\n",
    "        \"oversampling\":False,\n",
    "        \"p\":30\n",
    "    }\n",
    "model=LitNF(config,128)\n",
    "data_module=JetNetDataloader(model.config)\n",
    "q=\"q\"\n",
    "df=pd.DataFrame()\n",
    "cname=str(2)\n",
    "typ=\"c\"\n",
    "root=\"/beegfs/desy/user/kaechben/bestmodels_nf/top_{}{}_{}/lightning_logs/\".format(typ,cname,q)\n",
    "print(q+str(cname)+typ,os.path.exists(root))\n",
    "if os.path.exists(root):\n",
    "    for file in os.listdir(root):\n",
    "        if \"checkpoints\" in os.listdir(\"/beegfs/desy/user/kaechben/bestmodels_nf/top_{}{}_{}/lightning_logs/{}\".format(typ,cname,q,file)):\n",
    "            w1ms=[]\n",
    "            w1efps=[]\n",
    "            fpnds=[]\n",
    "            names=[]\n",
    "            typs=[]\n",
    "            cs=[]\n",
    "            qs=[]\n",
    "            ckpts=\"/beegfs/desy/user/kaechben/bestmodels_nf/top_{}{}_{}/lightning_logs/{}/checkpoints\".format(typ,cname,q,file)\n",
    "            for file2 in os.listdir(ckpts):\n",
    "                w1ms.append(file2.split(\"w1m=\")[1].split(\"-\")[0])\n",
    "                w1efps.append(file2.split(\"w1efp=\")[1].split(\"-\")[0])\n",
    "                fpnds.append(file2.split(\"fpnd=\")[1].split(\".c\")[0])\n",
    "                names.append(ckpts+\"/\"+file2)\n",
    "                typs.append(typ)\n",
    "                cs.append(cname)\n",
    "                qs.append(q)\n",
    "\n",
    "            temp=pd.DataFrame(np.array([w1ms,w1efps,fpnds,names,typs,cs,qs]).T,columns=[\"m\",\"efp\",\"fpnd\",\"name\",\"typ\",\"c\",\"q\"])\n",
    "            temp[\"rank\"]=(np.argsort(temp.m.values)+np.argsort(temp.efp.values)+np.argsort(temp.fpnd.values))/3\n",
    "\n",
    "            df=pd.concat((df,temp),axis=0)\n",
    "            \n",
    "from jetnet_dataloader import *\n",
    "from helpers import *\n",
    "# This just sets up the dataloader, nothing particularly important. it reads in a csv, calculates mass and reads out the number particles per jet\n",
    "# And adds it to the dataset as variable. The only important thing is that we add noise to zero padded jets\n",
    "\n",
    "mo=temp.sort_values(\"rank\").iloc[0][\"name\"]\n",
    "name=typ+str(cname)+\"_\"+q\n",
    "model=model.load_from_checkpoint(mo)\n",
    "data_module=JetNetDataloader(model.config)\n",
    "model.load_datamodule(data_module)\n",
    "model.data_module.setup(\"validation\")\n",
    "model.data_module.scaler.to(\"cpu\")  \n",
    "batch=model.data_module.test_set.to(\"cpu\")\n",
    "model.flow.eval()\n",
    "print(\"loaded\")"
   ]
  },
  {
   "cell_type": "markdown",
   "id": "7b5f45bb-d9da-4f1f-b4a8-7924aaf891b0",
   "metadata": {},
   "source": [
    "## Create (sliced) plots"
   ]
  },
  {
   "cell_type": "code",
   "execution_count": 8,
   "id": "b612c4d9-b3ab-4dfe-a08f-bdcec41c6d3b",
   "metadata": {},
   "outputs": [],
   "source": [
    "\n",
    "if model.config[\"context_features\"]==1:\n",
    "    c=batch[:,-2].reshape(-1,1)\n",
    "    n_true=batch[:,-1]\n",
    "    batch=batch[:,:model.n_dim+1]\n",
    "\n",
    "elif model.config[\"context_features\"]==0:\n",
    "    c=None\n",
    "    # c_test,n_test=model.test_cond(len(batch))\n",
    "    # n_true=batch[:,-1]\n",
    "    # batch=batch[:,:model.n_dim+1]\n",
    "else:\n",
    "    c=batch[:,-2:]\n",
    "    n_true=batch[:,model.n_dim+1]\n",
    "#c=batch[:,-model.config[\"context_features\"]:] if model.config[\"context_features\"] else None #this is the condition\n",
    "if model.config[\"context_features\"]>0:\n",
    "    c_test,n_test=model.test_cond(len(batch)) #this is the condition in the case of testing\n",
    "    c_test=c_test.reshape(-1,model.config[\"context_features\"])\n",
    "with torch.no_grad():\n",
    "    if model.config[\"context_features\"]>0:\n",
    "\n",
    "        gen=model.flow_test.to(\"cpu\").sample(len(batch) if c==None else 1,c).to(\"cpu\")\n",
    "        test=model.flow_test.to(\"cpu\").sample(len(batch) if c==None else 1, c_test).to(\"cpu\").reshape(-1,90)\n",
    "        gen=torch.hstack((gen[:,:model.n_dim].cpu().detach().reshape(-1,model.n_dim),torch.ones(len(gen)).unsqueeze(1))) \n",
    "        batch=torch.hstack((batch[:,:model.n_dim].cpu().detach().reshape(-1,model.n_dim),torch.ones(len(gen)).unsqueeze(1)))                \n",
    "        test=torch.hstack((test[:,:model.n_dim].cpu().detach().reshape(-1,model.n_dim),torch.ones(len(test)).unsqueeze(1)))\n",
    "    else:\n",
    "        gen=model.flow_test.to(\"cpu\").sample(len(batch) if c==None else 1).to(\"cpu\")\n",
    "        test=model.flow_test.to(\"cpu\").sample(len(batch) if c==None else 1).to(\"cpu\").reshape(-1,90)\n",
    "        # batch=batch[:,:model.n_dim]\n",
    "        gen=torch.hstack((gen[:,:model.n_dim].cpu().detach().reshape(-1,model.n_dim),torch.ones(len(gen)).unsqueeze(1))) \n",
    "        batch=torch.hstack((batch[:,:model.n_dim].cpu().detach().reshape(-1,model.n_dim),torch.ones(len(gen)).unsqueeze(1)))                \n",
    "        test=torch.hstack((test[:,:model.n_dim].cpu().detach().reshape(-1,model.n_dim),torch.ones(len(test)).unsqueeze(1)))\n",
    "    # if model.config[\"oversampling\"]:\n",
    "    #     order=torch.sort(test.reshape(-1,30,3)[:,:,2],dim=1,descending=True)[1]\n",
    "    #     test=torch.gather(input=test.reshape(-1,30,3),index=order.unsqueeze(-1).repeat(1,1,3),dim=1).reshape(-1,90)\n",
    "    #test=test.reshape(-1,30,3)[order.repeat(1,1,3)].reshape(-1,90)\n",
    "\n",
    "# Reverse Standard Scaling (this has nothing to do with flows, it is a standard preprocessing step)\n",
    "test=model.data_module.scaler.inverse_transform(test)\n",
    "gen=model.data_module.scaler.inverse_transform(gen)\n",
    "true=model.data_module.scaler.inverse_transform(batch[:,:model.n_dim+1])[:,:model.n_dim]\n",
    "# We overwrite in cases where n is smaller 30 the particles after n with 0\n",
    "if model.config[\"context_features\"]>1:\n",
    "    for i in torch.unique(batch[:,-1]):\n",
    "        i=int(i)\n",
    "        gen[c[:,-1]==i,3*i:-1]=0\n",
    "        test[c_test[:,-1]==i,3*i:-1]=0\n",
    "#This is just a nice check to see whether we overtrain \n",
    "m_t=mass(true[:,:model.n_dim].to(model.device),model.config[\"canonical\"]).cpu()\n",
    "m_gen=mass(gen[:,:model.n_dim],model.config[\"canonical\"]).cpu()\n",
    "m_test=mass(test[:,:model.n_dim],model.config[\"canonical\"]).cpu()\n",
    "# gen=torch.column_stack((gen[:,:90],m_gen))\n",
    "test=torch.column_stack((test[:,:90],m_test))       \n",
    "#SET MIN PT TO 0\n",
    "for i in range(30):\n",
    "    i=2+3*i\n",
    "    gen[gen[:,i]<0,i]=0\n",
    "    test[test[:,i]<0,i]=0\n",
    "    true[true[:,i]<0,i]=0\n",
    "    #Some metrics we track\n",
    "\n",
    "cov,mmd=cov_mmd(true[:,:model.n_dim].reshape(-1,model.n_dim//3,3),test[:,:model.n_dim].reshape(-1,model.n_dim//3,3),use_tqdm=False)\n",
    "try:\n",
    "    fpndv=fpnd(test[:,:model.n_dim].reshape(-1,model.n_dim//3,3).numpy(),use_tqdm=False,jet_type=model.config[\"parton\"])\n",
    "except:\n",
    "    fpndv=1000\n",
    "a=0.05\n",
    "b=0.075\n",
    "slice=False\n",
    "if slice:\n",
    "    test=test[(m_test>a)&(m_test<b)]\n",
    "    true=true[(m_t>a)&(m_t<b)]\n"
   ]
  },
  {
   "cell_type": "code",
   "execution_count": 18,
   "id": "69bd650e-5ba2-48a4-a342-62e3a659d81d",
   "metadata": {},
   "outputs": [
    {
     "data": {
      "image/png": "[encoded data removed]",
      "text/plain": [
       "<Figure size 432x288 with 1 Axes>"
      ]
     },
     "metadata": {
      "needs_background": "light"
     },
     "output_type": "display_data"
    }
   ],
   "source": [
    "w1m(test[:,:90].reshape(-1,30,3),true[:,:90].reshape(-1,30,3))\n",
    "_,bins,_=plt.hist(mass(true[:,:90]).numpy(),bins=30,alpha=.5)\n",
    "plt.hist(mass(test[:,:90]).numpy(),bins=bins,alpha=.5)\n",
    "m=mass(test[:,:90]).numpy()\n",
    "m_t=mass(true[:,:90]).numpy()"
   ]
  },
  {
   "cell_type": "code",
   "execution_count": 34,
   "id": "8c98a0ae-5c27-4de9-9a9f-42cc0faa9e36",
   "metadata": {},
   "outputs": [
    {
     "name": "stderr",
     "output_type": "stream",
     "text": [
      "WARNING:matplotlib.legend:No artists with labels found to put in legend.  Note that artists whose label start with an underscore are ignored when legend() is called with no argument.\n",
      "WARNING:matplotlib.legend:No artists with labels found to put in legend.  Note that artists whose label start with an underscore are ignored when legend() is called with no argument.\n",
      "WARNING:matplotlib.legend:No artists with labels found to put in legend.  Note that artists whose label start with an underscore are ignored when legend() is called with no argument.\n",
      "WARNING:matplotlib.legend:No artists with labels found to put in legend.  Note that artists whose label start with an underscore are ignored when legend() is called with no argument.\n",
      "WARNING:matplotlib.legend:No artists with labels found to put in legend.  Note that artists whose label start with an underscore are ignored when legend() is called with no argument.\n"
     ]
    },
    {
     "data": {
      "image/png": "[encoded data removed]",
      "text/plain": [
       "<Figure size 1080x1080 with 4 Axes>"
      ]
     },
     "metadata": {
      "needs_background": "light"
     },
     "output_type": "display_data"
    },
    {
     "name": "stderr",
     "output_type": "stream",
     "text": [
      "WARNING:matplotlib.legend:No artists with labels found to put in legend.  Note that artists whose label start with an underscore are ignored when legend() is called with no argument.\n",
      "WARNING:matplotlib.legend:No artists with labels found to put in legend.  Note that artists whose label start with an underscore are ignored when legend() is called with no argument.\n",
      "WARNING:matplotlib.legend:No artists with labels found to put in legend.  Note that artists whose label start with an underscore are ignored when legend() is called with no argument.\n",
      "WARNING:matplotlib.legend:No artists with labels found to put in legend.  Note that artists whose label start with an underscore are ignored when legend() is called with no argument.\n",
      "WARNING:matplotlib.legend:No artists with labels found to put in legend.  Note that artists whose label start with an underscore are ignored when legend() is called with no argument.\n"
     ]
    },
    {
     "data": {
      "image/png": "[encoded data removed]",
      "text/plain": [
       "<Figure size 1080x1080 with 4 Axes>"
      ]
     },
     "metadata": {
      "needs_background": "light"
     },
     "output_type": "display_data"
    },
    {
     "name": "stderr",
     "output_type": "stream",
     "text": [
      "WARNING:matplotlib.legend:No artists with labels found to put in legend.  Note that artists whose label start with an underscore are ignored when legend() is called with no argument.\n",
      "WARNING:matplotlib.legend:No artists with labels found to put in legend.  Note that artists whose label start with an underscore are ignored when legend() is called with no argument.\n",
      "WARNING:matplotlib.legend:No artists with labels found to put in legend.  Note that artists whose label start with an underscore are ignored when legend() is called with no argument.\n",
      "WARNING:matplotlib.legend:No artists with labels found to put in legend.  Note that artists whose label start with an underscore are ignored when legend() is called with no argument.\n",
      "WARNING:matplotlib.legend:No artists with labels found to put in legend.  Note that artists whose label start with an underscore are ignored when legend() is called with no argument.\n"
     ]
    },
    {
     "data": {
      "image/png": "[encoded data removed]",
      "text/plain": [
       "<Figure size 1080x1080 with 4 Axes>"
      ]
     },
     "metadata": {
      "needs_background": "light"
     },
     "output_type": "display_data"
    },
    {
     "name": "stderr",
     "output_type": "stream",
     "text": [
      "WARNING:matplotlib.legend:No artists with labels found to put in legend.  Note that artists whose label start with an underscore are ignored when legend() is called with no argument.\n"
     ]
    },
    {
     "data": {
      "image/png": "[encoded data removed]",
      "text/plain": [
       "<Figure size 1080x1080 with 4 Axes>"
      ]
     },
     "metadata": {
      "needs_background": "light"
     },
     "output_type": "display_data"
    }
   ],
   "source": [
    "model.plot=plotting_paper(model=model,gen=test[:,:model.n_dim],true=true[:,:model.n_dim],config=model.config,p=config[\"parton\"])\n",
    "\n",
    "try:\n",
    "    if slice:\n",
    "        model.plot.plot_mass(m_test[(m_test>a)&(m_test<b)].cpu().numpy(),m_t.cpu().numpy(),save=\"conditioned_mass_between{}_{}\".format(a,b),bins=15,quantile=True,plot_vline=False)\n",
    "    else:\n",
    "#         model.plot.plot_mass(m_test.cpu().numpy(),m_t.cpu().numpy(),save=\"inclusive_{}\".format(config[\"parton\"]),bins=15,quantile=True,plot_vline=False)\n",
    "#         model.plot.plot_marginals(save=\"marginal\",ith=6)\n",
    "#         model.plot.plot_mass_only(m=m_test,m_t=m_t,save=\"top_mass_only\",bins=15)\n",
    "        \n",
    "        model.plot.var_part(n_true,n_test,m_t,m_test,form=2,save=\"var_part.pdf\")\n",
    "#       model.plot.var_part(true=true[:,:model.n_dim],gen=test[:,:model.n_dim],true_n=n_true,gen_n=n_test,m_true=m_t,m_gen=m_test ,save=True)\n",
    "except Exception as e:\n",
    "    traceback.print_exc()\n",
    "\n",
    "        # #         model.flow.to(\"cuda\")\n",
    "        #     model.plot.plot_correlations()\n",
    "\n"
   ]
  },
  {
   "cell_type": "markdown",
   "id": "fe560838-d6e4-41dc-a5bd-cdac1c7c7e7a",
   "metadata": {},
   "source": [
    "## Oversampling"
   ]
  },
  {
   "cell_type": "code",
   "execution_count": 72,
   "id": "ef5a5a14-4dd9-42db-8a0a-3f2ff8318cf3",
   "metadata": {},
   "outputs": [
    {
     "data": {
      "image/png": "[encoded data removed]",
      "text/plain": [
       "<Figure size 1440x360 with 8 Axes>"
      ]
     },
     "metadata": {
      "needs_background": "light"
     },
     "output_type": "display_data"
    }
   ],
   "source": [
    "weight=100\n",
    "if model.config[\"context_features\"]>0:\n",
    "    c_test,n_test=model.test_cond(len(batch)) #this is the condition in the case of testing\n",
    "    c_test=c_test.reshape(-1,model.config[\"context_features\"])\n",
    "with torch.no_grad():\n",
    "    if model.config[\"context_features\"]>0:\n",
    "\n",
    "        gen=model.flow_test.to(\"cpu\").sample(len(batch) if c==None else 1,c).to(\"cpu\")\n",
    "        \n",
    "        gen=torch.hstack((gen[:,:model.n_dim].cpu().detach().reshape(-1,model.n_dim),torch.ones(len(gen)).unsqueeze(1))) \n",
    "        batch=torch.hstack((batch[:,:model.n_dim].cpu().detach().reshape(-1,model.n_dim),torch.ones(len(gen)).unsqueeze(1)))                \n",
    "        test=torch.hstack((test[:,:model.n_dim].cpu().detach().reshape(-1,model.n_dim),torch.ones(len(test)).unsqueeze(1)))\n",
    "batch=torch.hstack((batch[:,:model.n_dim].cpu().detach().reshape(-1,model.n_dim),torch.ones(len(gen)).unsqueeze(1)))                \n",
    "test=torch.empty((0,91))\n",
    "for i in range(weight):\n",
    "    with torch.no_grad():\n",
    "        if model.config[\"context_features\"]>0:\n",
    "            temptest=model.flow_test.to(\"cpu\").sample(len(batch) if c==None else 1, c_test).to(\"cpu\").reshape(-1,90)\n",
    "#             temptest=model.flow_test.to(\"cpu\").sample(len(batch) if c==None else 1, c_test).to(\"cpu\").reshape(-1,90)\n",
    "            test=torch.cat((test,torch.hstack((temptest[:,:model.n_dim].cpu().detach().reshape(-1,model.n_dim),torch.ones(len(temptest)).unsqueeze(1)))),axis=0)\n",
    "\n",
    "# Reverse Standard Scaling (this has nothing to do with flows, it is a standard preprocessing step)\n",
    "test=model.data_module.scaler.inverse_transform(test)\n",
    "\n",
    "true=model.data_module.scaler.inverse_transform(batch[:,:model.n_dim+1])[:,:model.n_dim]\n",
    "# We overwrite in cases where n is smaller 30 the particles after n with 0\n",
    "# test=model.da/ta_module.scaler.inverse_transform(test)\n",
    "# gen=model.data_module.scaler.inverse_transform(gen)\n",
    "\n",
    "len(test)/len(true)\n",
    "# if model.config[\"context_features\"]>1:\n",
    "#     for i in torch.unique(batch[:,-1]):\n",
    "#         i=int(i)\n",
    "#         gen[c[:,-1]==i,3*i:-1]=0\n",
    "#         test[c_test[:,-1]==i,3*i:-1]=0\n",
    "#This is just a nice check to see whether we overtrain \n",
    "weight=len(test)/len(true)\n",
    "m_t=mass(true[:,:model.n_dim].to(model.device),model.config[\"canonical\"]).cpu()\n",
    "m_gen=mass(gen[:,:model.n_dim],model.config[\"canonical\"]).cpu()\n",
    "m_test=mass(test[:,:model.n_dim],model.config[\"canonical\"]).cpu()\n",
    "# gen=torch.column_stack((gen[:,:90],m_gen))\n",
    "test=torch.column_stack((test[:,:90],m_test))       \n",
    "#SET MIN PT TO 0\n",
    "for i in range(30):\n",
    "    i=2+3*i\n",
    "    gen[gen[:,i]<0,i]=0\n",
    "    test[test[:,i]<0,i]=0\n",
    "    true[true[:,i]<0,i]=0\n",
    "    #Some metrics we track\n",
    "\n",
    "model.plot=plotting_paper(model=model,gen=test[:,:model.n_dim],true=true[:,:model.n_dim],config=model.config,p=config[\"parton\"])\n",
    "\n",
    "\n",
    "model.plot.oversample(m_test.cpu().numpy(),m_t.cpu().numpy(),save=\"Oversampling_by_factor_{}\".format(weight),weight=weight,bins=15,quantile=True,plot_vline=False)\n"
   ]
  },
  {
   "cell_type": "code",
   "execution_count": 73,
   "id": "253f2f51-b66e-4087-a836-77402c9c58be",
   "metadata": {},
   "outputs": [
    {
     "data": {
      "text/plain": [
       "5338400"
      ]
     },
     "execution_count": 73,
     "metadata": {},
     "output_type": "execute_result"
    }
   ],
   "source": [
    "len(test)"
   ]
  },
  {
   "cell_type": "markdown",
   "id": "1474e0ae-8f5b-44ec-9de2-29908f369f0e",
   "metadata": {},
   "source": [
    "## To recreate results table run below 2 cells"
   ]
  },
  {
   "cell_type": "code",
   "execution_count": null,
   "id": "407644db-d108-489c-9b4e-d764ae98f099",
   "metadata": {},
   "outputs": [],
   "source": []
  },
  {
   "cell_type": "code",
   "execution_count": 22,
   "id": "a124033d",
   "metadata": {},
   "outputs": [
    {
     "name": "stdout",
     "output_type": "stream",
     "text": [
      "g0c True\n"
     ]
    },
    {
     "name": "stderr",
     "output_type": "stream",
     "text": [
      "/beegfs/desy/user/kaechben/.conda/envs/jetnet/lib/python3.8/site-packages/torch/nn/init.py:403: UserWarning: Initializing zero-element tensors is a no-op\n",
      "  warnings.warn(\"Initializing zero-element tensors is a no-op\")\n"
     ]
    },
    {
     "name": "stdout",
     "output_type": "stream",
     "text": [
      "{'network_layers': 4, 'network_nodes': 294, 'batch_size': 10000, 'coupling_layers': 10, 'lr': 0.0001052411392693, 'batchnorm': True, 'bins': 6, 'tail_bound': 8, 'limit': 150000, 'n_dim': 90, 'dropout': 0.4183396136763045, 'lr_schedule': False, 'n_sched': 1000.0, 'canonical': False, 'max_steps': 50000, 'lambda': 0.0191483740736913, 'n_mse_turnoff': 1000000, 'n_mse_delay': 5, 'name': 'g', 'disc': False, 'calc_massloss': False, 'context_features': 0, 'variable': 1.0, 'spline': True, 'parton': 'g', 'oversampling': False}\n"
     ]
    },
    {
     "name": "stderr",
     "output_type": "stream",
     "text": [
      "/beegfs/desy/user/kaechben/.conda/envs/jetnet/lib/python3.8/site-packages/jetnet/evaluation/gen_metrics.py:239: RuntimeWarning: Recommended number of jets for FPND calculation is 50000\n",
      "  warnings.warn(\n"
     ]
    },
    {
     "name": "stdout",
     "output_type": "stream",
     "text": [
      "c0_g {'logprob': 0.3135752360026042, 'fpnd': 2.317308117906805, 'mmd': 0.03541245891476915, 'cov': 0.5449999999999999, 'w1m': 0.005548636921476572, 'w1efp': 4.3685632525894054e-05, 'w1p': 0.0028823615403080357, 'name': '/beegfs/desy/user/kaechben/bestmodels_nf/top_c0_g/lightning_logs/version_0/checkpoints/epoch=2899-val_logprob=0.39-val_w1m=0.0053-val_w1efp=0.000042-val_fpnd=2.18.ckpt', 'w1pe': 0.0006650634836469642, 'w1me': 0.0006747035167593456, 'w1efpe': 7.6289556688156e-06}\n",
      "g0cc True\n"
     ]
    },
    {
     "name": "stderr",
     "output_type": "stream",
     "text": [
      "/tmp/ipykernel_35103/939654910.py:132: FutureWarning: The frame.append method is deprecated and will be removed from pandas in a future version. Use pandas.concat instead.\n",
      "  results_df=results_df.append(pd.DataFrame(temp_,index=[mo]))\n",
      "/beegfs/desy/user/kaechben/.conda/envs/jetnet/lib/python3.8/site-packages/torch/nn/init.py:403: UserWarning: Initializing zero-element tensors is a no-op\n",
      "  warnings.warn(\"Initializing zero-element tensors is a no-op\")\n"
     ]
    },
    {
     "name": "stdout",
     "output_type": "stream",
     "text": [
      "{'network_layers': 5, 'network_nodes': 144, 'batch_size': 10000, 'coupling_layers': 16, 'lr': 0.0001625139195757, 'batchnorm': True, 'bins': 5, 'tail_bound': 9, 'limit': 150000, 'n_dim': 90, 'dropout': 0.0123259819793513, 'lr_schedule': False, 'n_sched': 1000.0, 'canonical': False, 'max_steps': 50000, 'lambda': 2.1150973762334067, 'n_mse_turnoff': 1000000, 'n_mse_delay': 5, 'name': 'g', 'disc': False, 'calc_massloss': True, 'context_features': 0, 'variable': 1.0, 'spline': True, 'parton': 'g', 'oversampling': False}\n"
     ]
    },
    {
     "name": "stderr",
     "output_type": "stream",
     "text": [
      "/beegfs/desy/user/kaechben/.conda/envs/jetnet/lib/python3.8/site-packages/jetnet/evaluation/gen_metrics.py:239: RuntimeWarning: Recommended number of jets for FPND calculation is 50000\n",
      "  warnings.warn(\n"
     ]
    },
    {
     "name": "stdout",
     "output_type": "stream",
     "text": [
      "cc0_g {'logprob': 0.37586835225423176, 'fpnd': 1.403572073067636, 'mmd': 0.03661912850060975, 'cov': 0.542, 'w1m': 0.0028115092625096436, 'w1efp': 3.482955961460684e-05, 'w1p': 0.0014869732004440309, 'name': '/beegfs/desy/user/kaechben/bestmodels_nf/top_cc0_g/lightning_logs/version_0/checkpoints/epoch=499-val_logprob=0.48-val_w1m=0.0034-val_w1efp=0.000033-val_fpnd=1.50.ckpt', 'w1pe': 0.00044984785714198653, 'w1me': 0.00042458084844162, 'w1efpe': 3.927407886677042e-06}\n",
      "g1c True\n"
     ]
    },
    {
     "name": "stderr",
     "output_type": "stream",
     "text": [
      "/tmp/ipykernel_35103/939654910.py:132: FutureWarning: The frame.append method is deprecated and will be removed from pandas in a future version. Use pandas.concat instead.\n",
      "  results_df=results_df.append(pd.DataFrame(temp_,index=[mo]))\n"
     ]
    },
    {
     "name": "stdout",
     "output_type": "stream",
     "text": [
      "{'network_layers': 4, 'network_nodes': 156, 'batch_size': 10000, 'coupling_layers': 18, 'lr': 0.0002426209118989, 'batchnorm': True, 'bins': 4, 'tail_bound': 7, 'limit': 150000, 'n_dim': 90, 'dropout': 0.304095771446474, 'lr_schedule': False, 'n_sched': 1000.0, 'canonical': False, 'max_steps': 50000, 'lambda': 0.045762172929807, 'n_mse_turnoff': 1000000, 'n_mse_delay': 5, 'name': 'g', 'disc': False, 'calc_massloss': False, 'context_features': 1, 'variable': 1.0, 'spline': True, 'parton': 'g', 'oversampling': False}\n"
     ]
    },
    {
     "name": "stderr",
     "output_type": "stream",
     "text": [
      "/beegfs/desy/user/kaechben/.conda/envs/jetnet/lib/python3.8/site-packages/jetnet/evaluation/gen_metrics.py:239: RuntimeWarning: Recommended number of jets for FPND calculation is 50000\n",
      "  warnings.warn(\n"
     ]
    },
    {
     "name": "stdout",
     "output_type": "stream",
     "text": [
      "c1_g {'logprob': 0.29474756452772355, 'fpnd': 0.6805515495571512, 'mmd': 0.03599668033708165, 'cov': 0.538, 'w1m': 0.0009469102738797662, 'w1efp': 8.909918738423474e-06, 'w1p': 0.0005708937928423173, 'name': '/beegfs/desy/user/kaechben/bestmodels_nf/top_c1_g/lightning_logs/version_2/checkpoints/epoch=1099-val_logprob=0.37-val_w1m=0.0010-val_w1efp=0.000009-val_fpnd=0.70.ckpt', 'w1pe': 0.00013625896734382976, 'w1me': 0.0003176462435423145, 'w1efpe': 5.022698108423596e-06}\n",
      "g1cc True\n"
     ]
    },
    {
     "name": "stderr",
     "output_type": "stream",
     "text": [
      "/tmp/ipykernel_35103/939654910.py:132: FutureWarning: The frame.append method is deprecated and will be removed from pandas in a future version. Use pandas.concat instead.\n",
      "  results_df=results_df.append(pd.DataFrame(temp_,index=[mo]))\n"
     ]
    },
    {
     "name": "stdout",
     "output_type": "stream",
     "text": [
      "{'network_layers': 4, 'network_nodes': 67, 'batch_size': 10000, 'coupling_layers': 15, 'lr': 0.0001026190376827, 'batchnorm': True, 'bins': 6, 'tail_bound': 6, 'limit': 150000, 'n_dim': 90, 'dropout': 0.0205696351102089, 'lr_schedule': False, 'n_sched': 1000.0, 'canonical': False, 'max_steps': 50000, 'lambda': 15.820352674972035, 'n_mse_turnoff': 1000000, 'n_mse_delay': 5, 'name': 'g', 'disc': False, 'calc_massloss': True, 'context_features': 1, 'variable': 1.0, 'spline': True, 'parton': 'g', 'oversampling': False}\n"
     ]
    },
    {
     "name": "stderr",
     "output_type": "stream",
     "text": [
      "/beegfs/desy/user/kaechben/.conda/envs/jetnet/lib/python3.8/site-packages/jetnet/evaluation/gen_metrics.py:239: RuntimeWarning: Recommended number of jets for FPND calculation is 50000\n",
      "  warnings.warn(\n"
     ]
    },
    {
     "name": "stdout",
     "output_type": "stream",
     "text": [
      "cc1_g {'logprob': 0.34350335862901477, 'fpnd': 1.0990546262422356, 'mmd': 0.0356253942582708, 'cov': 0.5509999999999999, 'w1m': 0.000886408653277904, 'w1efp': 1.1062113439369523e-05, 'w1p': 0.0005304874845472559, 'name': '/beegfs/desy/user/kaechben/bestmodels_nf/top_cc1_g/lightning_logs/version_0/checkpoints/epoch=2499-val_logprob=0.40-val_w1m=0.0008-val_w1efp=0.000012-val_fpnd=1.11.ckpt', 'w1pe': 0.0002179521900067309, 'w1me': 0.00018480430804261963, 'w1efpe': 5.324513502309598e-06}\n",
      "g2c True\n"
     ]
    },
    {
     "name": "stderr",
     "output_type": "stream",
     "text": [
      "/tmp/ipykernel_35103/939654910.py:132: FutureWarning: The frame.append method is deprecated and will be removed from pandas in a future version. Use pandas.concat instead.\n",
      "  results_df=results_df.append(pd.DataFrame(temp_,index=[mo]))\n"
     ]
    },
    {
     "name": "stdout",
     "output_type": "stream",
     "text": [
      "{'network_layers': 5, 'network_nodes': 221, 'batch_size': 10000, 'coupling_layers': 17, 'lr': 0.0002073470504031, 'batchnorm': True, 'bins': 4, 'tail_bound': 6, 'limit': 150000, 'n_dim': 90, 'dropout': 0.2010712045221764, 'lr_schedule': False, 'n_sched': 1000.0, 'canonical': False, 'max_steps': 50000, 'lambda': 1.056054784800182, 'n_mse_turnoff': 1000000, 'n_mse_delay': 5, 'name': 'g', 'disc': False, 'calc_massloss': False, 'context_features': 2, 'variable': 1.0, 'spline': True, 'parton': 'g', 'oversampling': False}\n"
     ]
    },
    {
     "name": "stderr",
     "output_type": "stream",
     "text": [
      "/beegfs/desy/user/kaechben/.conda/envs/jetnet/lib/python3.8/site-packages/jetnet/evaluation/gen_metrics.py:239: RuntimeWarning: Recommended number of jets for FPND calculation is 50000\n",
      "  warnings.warn(\n"
     ]
    },
    {
     "name": "stdout",
     "output_type": "stream",
     "text": [
      "c2_g {'logprob': 0.2936352199978299, 'fpnd': 0.6982763202420301, 'mmd': 0.03413329610524233, 'cov': 0.552, 'w1m': 0.0008506540844030675, 'w1efp': 8.922197661310424e-06, 'w1p': 0.000656865333134932, 'name': '/beegfs/desy/user/kaechben/bestmodels_nf/top_c2_g/lightning_logs/version_0/checkpoints/epoch=899-val_logprob=0.39-val_w1m=0.0011-val_w1efp=0.000009-val_fpnd=0.69.ckpt', 'w1pe': 0.00026787368082719715, 'w1me': 0.00021711401883400453, 'w1efpe': 5.086461230679958e-06}\n",
      "g2cc True\n"
     ]
    },
    {
     "name": "stderr",
     "output_type": "stream",
     "text": [
      "/tmp/ipykernel_35103/939654910.py:132: FutureWarning: The frame.append method is deprecated and will be removed from pandas in a future version. Use pandas.concat instead.\n",
      "  results_df=results_df.append(pd.DataFrame(temp_,index=[mo]))\n"
     ]
    },
    {
     "name": "stdout",
     "output_type": "stream",
     "text": [
      "{'network_layers': 3, 'network_nodes': 217, 'batch_size': 10000, 'coupling_layers': 15, 'lr': 0.0001746311963965, 'batchnorm': True, 'bins': 5, 'tail_bound': 9, 'limit': 150000, 'n_dim': 90, 'dropout': 0.1970261257413901, 'lr_schedule': False, 'n_sched': 1000.0, 'canonical': False, 'max_steps': 50000, 'lambda': 37.809664935103775, 'n_mse_turnoff': 1000000, 'n_mse_delay': 5, 'name': 'g', 'disc': False, 'calc_massloss': True, 'context_features': 2, 'variable': 1.0, 'spline': True, 'parton': 'g', 'oversampling': False}\n"
     ]
    },
    {
     "name": "stderr",
     "output_type": "stream",
     "text": [
      "/beegfs/desy/user/kaechben/.conda/envs/jetnet/lib/python3.8/site-packages/jetnet/evaluation/gen_metrics.py:239: RuntimeWarning: Recommended number of jets for FPND calculation is 50000\n",
      "  warnings.warn(\n"
     ]
    },
    {
     "name": "stdout",
     "output_type": "stream",
     "text": [
      "cc2_g {'logprob': 0.2810586293538411, 'fpnd': 0.7196045456860816, 'mmd': 0.035347831661702536, 'cov': 0.5619999999999999, 'w1m': 0.000633935894202441, 'w1efp': 8.713881723928183e-06, 'w1p': 0.000804140801981859, 'name': '/beegfs/desy/user/kaechben/bestmodels_nf/top_cc2_g/lightning_logs/version_0/checkpoints/epoch=2099-val_logprob=0.37-val_w1m=0.0006-val_w1efp=0.000010-val_fpnd=0.77.ckpt', 'w1pe': 0.0005191176780850531, 'w1me': 0.00013889988650699292, 'w1efpe': 7.555629517903683e-06}\n",
      "q0c False\n",
      "q0cc True\n"
     ]
    },
    {
     "name": "stderr",
     "output_type": "stream",
     "text": [
      "/tmp/ipykernel_35103/939654910.py:132: FutureWarning: The frame.append method is deprecated and will be removed from pandas in a future version. Use pandas.concat instead.\n",
      "  results_df=results_df.append(pd.DataFrame(temp_,index=[mo]))\n",
      "/beegfs/desy/user/kaechben/.conda/envs/jetnet/lib/python3.8/site-packages/torch/nn/init.py:403: UserWarning: Initializing zero-element tensors is a no-op\n",
      "  warnings.warn(\"Initializing zero-element tensors is a no-op\")\n"
     ]
    },
    {
     "name": "stdout",
     "output_type": "stream",
     "text": [
      "{'network_layers': 4, 'network_nodes': 234, 'batch_size': 10000, 'coupling_layers': 17, 'lr': 0.0005821252848221, 'batchnorm': True, 'bins': 4, 'tail_bound': 9, 'limit': 150000, 'n_dim': 90, 'dropout': 0.1493919352893835, 'lr_schedule': False, 'n_sched': 1000.0, 'canonical': False, 'max_steps': 50000, 'lambda': 13.199019806543513, 'n_mse_turnoff': 1000000, 'n_mse_delay': 5, 'name': 'q', 'disc': False, 'calc_massloss': True, 'context_features': 0, 'variable': 1.0, 'spline': True, 'parton': 'q', 'oversampling': False}\n",
      "cc0_q {'logprob': -0.20403529273139107, 'fpnd': 2.0985983476577132, 'mmd': 0.024632937543831238, 'cov': 0.542, 'w1m': 0.0034887521726451815, 'w1efp': 2.682591761036635e-05, 'w1p': 0.0023049941025619063, 'name': '/beegfs/desy/user/kaechben/bestmodels_nf/top_cc0_q/lightning_logs/version_3/checkpoints/epoch=699-val_logprob=-0.09-val_w1m=0.0034-val_w1efp=0.000023-val_fpnd=2.06.ckpt', 'w1pe': 0.00027409867380411083, 'w1me': 0.00043829244492712006, 'w1efpe': 1.055915601843631e-05}\n",
      "q1c True\n"
     ]
    },
    {
     "name": "stderr",
     "output_type": "stream",
     "text": [
      "/tmp/ipykernel_35103/939654910.py:132: FutureWarning: The frame.append method is deprecated and will be removed from pandas in a future version. Use pandas.concat instead.\n",
      "  results_df=results_df.append(pd.DataFrame(temp_,index=[mo]))\n"
     ]
    },
    {
     "name": "stdout",
     "output_type": "stream",
     "text": [
      "{'network_layers': 4, 'network_nodes': 195, 'batch_size': 10000, 'coupling_layers': 14, 'lr': 0.000865384056837, 'batchnorm': True, 'bins': 6, 'tail_bound': 9, 'limit': 150000, 'n_dim': 90, 'dropout': 0.0763923145759437, 'lr_schedule': False, 'n_sched': 1000.0, 'canonical': False, 'max_steps': 50000, 'lambda': 0.0620797336900438, 'n_mse_turnoff': 1000000, 'n_mse_delay': 5, 'name': 'q', 'disc': False, 'calc_massloss': False, 'context_features': 1, 'variable': 1.0, 'spline': True, 'parton': 'q', 'oversampling': False}\n",
      "c1_q {'logprob': -0.23872324625651042, 'fpnd': 0.7819398371304374, 'mmd': 0.023521967264995926, 'cov': 0.545, 'w1m': 0.0010958565798681228, 'w1efp': 7.3475714471417e-06, 'w1p': 0.0012893893281470483, 'name': '/beegfs/desy/user/kaechben/bestmodels_nf/top_c1_q/lightning_logs/version_1/checkpoints/epoch=599-val_logprob=-0.13-val_w1m=0.0007-val_w1efp=0.000007-val_fpnd=0.78.ckpt', 'w1pe': 0.00022733377570229447, 'w1me': 0.0002920941681920757, 'w1efpe': 2.8135260086548998e-06}\n",
      "q1cc True\n"
     ]
    },
    {
     "name": "stderr",
     "output_type": "stream",
     "text": [
      "/tmp/ipykernel_35103/939654910.py:132: FutureWarning: The frame.append method is deprecated and will be removed from pandas in a future version. Use pandas.concat instead.\n",
      "  results_df=results_df.append(pd.DataFrame(temp_,index=[mo]))\n"
     ]
    },
    {
     "name": "stdout",
     "output_type": "stream",
     "text": [
      "{'network_layers': 4, 'network_nodes': 116, 'batch_size': 10000, 'coupling_layers': 19, 'lr': 0.0008635092463753, 'batchnorm': False, 'bins': 9, 'tail_bound': 9, 'limit': 150000, 'n_dim': 90, 'dropout': 0.0063292634450536, 'lr_schedule': False, 'n_sched': 1000.0, 'canonical': False, 'max_steps': 50000, 'lambda': 7.800882093008213, 'n_mse_turnoff': 1000000, 'n_mse_delay': 5, 'name': 'q', 'disc': False, 'calc_massloss': True, 'context_features': 1, 'variable': 1.0, 'spline': True, 'parton': 'q', 'oversampling': False}\n",
      "cc1_q {'logprob': -0.19525703854031032, 'fpnd': 0.7065891259796331, 'mmd': 0.024373421473117295, 'cov': 0.537, 'w1m': 0.0008646790147665885, 'w1efp': 7.472321366391945e-06, 'w1p': 0.0006408486590255336, 'name': '/beegfs/desy/user/kaechben/bestmodels_nf/top_cc1_q/lightning_logs/version_0/checkpoints/epoch=999-val_logprob=-0.03-val_w1m=0.0015-val_w1efp=0.000008-val_fpnd=0.69.ckpt', 'w1pe': 0.00026377848426243055, 'w1me': 0.00022390473809246053, 'w1efpe': 3.4090353958121467e-06}\n",
      "q2c True\n"
     ]
    },
    {
     "name": "stderr",
     "output_type": "stream",
     "text": [
      "/tmp/ipykernel_35103/939654910.py:132: FutureWarning: The frame.append method is deprecated and will be removed from pandas in a future version. Use pandas.concat instead.\n",
      "  results_df=results_df.append(pd.DataFrame(temp_,index=[mo]))\n"
     ]
    },
    {
     "name": "stdout",
     "output_type": "stream",
     "text": [
      "{'network_layers': 4, 'network_nodes': 195, 'batch_size': 10000, 'coupling_layers': 14, 'lr': 0.000865384056837, 'batchnorm': True, 'bins': 6, 'tail_bound': 9, 'limit': 150000, 'n_dim': 90, 'dropout': 0.0763923145759437, 'lr_schedule': False, 'n_sched': 1000.0, 'canonical': False, 'max_steps': 50000, 'lambda': 0.0620797336900438, 'n_mse_turnoff': 1000000, 'n_mse_delay': 5, 'name': 'q', 'disc': False, 'calc_massloss': False, 'context_features': 2, 'variable': 1.0, 'spline': True, 'parton': 'q', 'oversampling': False}\n",
      "c2_q {'logprob': -0.2343435499403212, 'fpnd': 0.6401952799465676, 'mmd': 0.024544439441465594, 'cov': 0.541, 'w1m': 0.0017930740737542507, 'w1efp': 9.10366776382142e-06, 'w1p': 0.0008970218171495749, 'name': '/beegfs/desy/user/kaechben/bestmodels_nf/top_c2_q/lightning_logs/version_2/checkpoints/epoch=799-val_logprob=-0.13-val_w1m=0.0010-val_w1efp=0.000006-val_fpnd=0.55.ckpt', 'w1pe': 0.00021346364012382526, 'w1me': 0.00048604434562036304, 'w1efpe': 4.43326558981857e-06}\n",
      "q2cc True\n"
     ]
    },
    {
     "name": "stderr",
     "output_type": "stream",
     "text": [
      "/tmp/ipykernel_35103/939654910.py:132: FutureWarning: The frame.append method is deprecated and will be removed from pandas in a future version. Use pandas.concat instead.\n",
      "  results_df=results_df.append(pd.DataFrame(temp_,index=[mo]))\n"
     ]
    },
    {
     "name": "stdout",
     "output_type": "stream",
     "text": [
      "{'network_layers': 4, 'network_nodes': 122, 'batch_size': 10000, 'coupling_layers': 18, 'lr': 0.000656333942392, 'batchnorm': False, 'bins': 7, 'tail_bound': 6, 'limit': 150000, 'n_dim': 90, 'dropout': 0.4807089251026418, 'lr_schedule': False, 'n_sched': 1000.0, 'canonical': False, 'max_steps': 50000, 'lambda': 0.1040587866685866, 'n_mse_turnoff': 1000000, 'n_mse_delay': 5, 'name': 'q', 'disc': False, 'calc_massloss': True, 'context_features': 2, 'variable': 1.0, 'spline': True, 'parton': 'q', 'oversampling': False}\n",
      "cc2_q {'logprob': -0.08596149020724826, 'fpnd': 1.9864674948080392, 'mmd': 0.025624230189149715, 'cov': 0.511, 'w1m': 0.0010068389854207634, 'w1efp': 8.201241130710405e-06, 'w1p': 0.0011695360129027282, 'name': '/beegfs/desy/user/kaechben/bestmodels_nf/top_cc2_q/lightning_logs/version_0/checkpoints/epoch=699-val_logprob=-0.05-val_w1m=0.0011-val_w1efp=0.000008-val_fpnd=1.88.ckpt', 'w1pe': 0.00030927796638412664, 'w1me': 0.0003627448572497462, 'w1efpe': 5.04792048241392e-06}\n",
      "t0c True\n"
     ]
    },
    {
     "name": "stderr",
     "output_type": "stream",
     "text": [
      "/tmp/ipykernel_35103/939654910.py:132: FutureWarning: The frame.append method is deprecated and will be removed from pandas in a future version. Use pandas.concat instead.\n",
      "  results_df=results_df.append(pd.DataFrame(temp_,index=[mo]))\n",
      "/beegfs/desy/user/kaechben/.conda/envs/jetnet/lib/python3.8/site-packages/torch/nn/init.py:403: UserWarning: Initializing zero-element tensors is a no-op\n",
      "  warnings.warn(\"Initializing zero-element tensors is a no-op\")\n"
     ]
    },
    {
     "name": "stdout",
     "output_type": "stream",
     "text": [
      "{'network_layers': 3, 'network_nodes': 67, 'batch_size': 10000, 'coupling_layers': 14, 'lr': 0.0004514371000196, 'batchnorm': True, 'bins': 4, 'tail_bound': 6, 'limit': 150000, 'n_dim': 90, 'dropout': 0.462548612126244, 'lr_schedule': False, 'n_sched': 1000.0, 'canonical': False, 'max_steps': 50000, 'lambda': 0.027299409946791, 'n_mse_turnoff': 1000000, 'n_mse_delay': 5, 'name': 't', 'disc': False, 'calc_massloss': False, 'context_features': 0, 'variable': 1.0, 'spline': True, 'parton': 't', 'oversampling': False}\n"
     ]
    },
    {
     "name": "stderr",
     "output_type": "stream",
     "text": [
      "/beegfs/desy/user/kaechben/.conda/envs/jetnet/lib/python3.8/site-packages/jetnet/evaluation/gen_metrics.py:239: RuntimeWarning: Recommended number of jets for FPND calculation is 50000\n",
      "  warnings.warn(\n"
     ]
    },
    {
     "name": "stdout",
     "output_type": "stream",
     "text": [
      "c0_t {'logprob': 0.42928763495551214, 'fpnd': 7.905488391998659, 'mmd': 0.0705731047757433, 'cov': 0.5619999999999999, 'w1m': 0.006441430298481136, 'w1efp': 0.0001438901701216708, 'w1p': 0.0022458120796639103, 'name': '/beegfs/desy/user/kaechben/bestmodels_nf/top_c0_t/lightning_logs/version_0/checkpoints/epoch=1999-val_logprob=0.45-val_w1m=0.0068-val_w1efp=0.000153-val_fpnd=8.18.ckpt', 'w1pe': 0.00023047379012365224, 'w1me': 0.00016233596860612288, 'w1efpe': 1.2991880519191785e-05}\n",
      "t0cc False\n",
      "t1c True\n"
     ]
    },
    {
     "name": "stderr",
     "output_type": "stream",
     "text": [
      "/tmp/ipykernel_35103/939654910.py:132: FutureWarning: The frame.append method is deprecated and will be removed from pandas in a future version. Use pandas.concat instead.\n",
      "  results_df=results_df.append(pd.DataFrame(temp_,index=[mo]))\n"
     ]
    },
    {
     "name": "stdout",
     "output_type": "stream",
     "text": [
      "{'network_layers': 3, 'network_nodes': 176, 'batch_size': 10000, 'coupling_layers': 18, 'lr': 0.0002373968208928, 'batchnorm': True, 'bins': 6, 'tail_bound': 7, 'limit': 150000, 'n_dim': 90, 'dropout': 0.1057918190017383, 'lr_schedule': False, 'n_sched': 1000.0, 'canonical': False, 'max_steps': 50000, 'lambda': 0.0203350045740811, 'n_mse_turnoff': 1000000, 'n_mse_delay': 5, 'name': 't', 'disc': False, 'calc_massloss': False, 'context_features': 1, 'variable': 1.0, 'spline': True, 'parton': 't', 'oversampling': False}\n"
     ]
    },
    {
     "name": "stderr",
     "output_type": "stream",
     "text": [
      "/beegfs/desy/user/kaechben/.conda/envs/jetnet/lib/python3.8/site-packages/jetnet/evaluation/gen_metrics.py:239: RuntimeWarning: Recommended number of jets for FPND calculation is 50000\n",
      "  warnings.warn(\n"
     ]
    },
    {
     "name": "stdout",
     "output_type": "stream",
     "text": [
      "c1_t {'logprob': 0.39785533481174046, 'fpnd': 4.531995174140604, 'mmd': 0.0727030659890254, 'cov': 0.5450000000000002, 'w1m': 0.0017202837179228665, 'w1efp': 4.75301678209279e-05, 'w1p': 0.0010829818359674214, 'name': '/beegfs/desy/user/kaechben/bestmodels_nf/top_c1_t/lightning_logs/version_5/checkpoints/epoch=499-val_logprob=0.47-val_w1m=0.0020-val_w1efp=0.000049-val_fpnd=4.46.ckpt', 'w1pe': 0.00032477728187522926, 'w1me': 0.0002807965852705669, 'w1efpe': 1.0874079217336156e-05}\n",
      "t1cc True\n"
     ]
    },
    {
     "name": "stderr",
     "output_type": "stream",
     "text": [
      "/tmp/ipykernel_35103/939654910.py:132: FutureWarning: The frame.append method is deprecated and will be removed from pandas in a future version. Use pandas.concat instead.\n",
      "  results_df=results_df.append(pd.DataFrame(temp_,index=[mo]))\n"
     ]
    },
    {
     "name": "stdout",
     "output_type": "stream",
     "text": [
      "{'network_layers': 3, 'network_nodes': 297, 'batch_size': 10000, 'coupling_layers': 17, 'lr': 0.0006973803821674, 'batchnorm': True, 'bins': 4, 'tail_bound': 8, 'limit': 150000, 'n_dim': 90, 'dropout': 0.287220161436736, 'lr_schedule': False, 'n_sched': 1000.0, 'canonical': False, 'max_steps': 50000, 'lambda': 158.36844356667183, 'n_mse_turnoff': 1000000, 'n_mse_delay': 5, 'name': 't', 'disc': False, 'calc_massloss': True, 'context_features': 1, 'variable': 1.0, 'spline': True, 'parton': 't', 'oversampling': False}\n"
     ]
    },
    {
     "name": "stderr",
     "output_type": "stream",
     "text": [
      "/beegfs/desy/user/kaechben/.conda/envs/jetnet/lib/python3.8/site-packages/jetnet/evaluation/gen_metrics.py:239: RuntimeWarning: Recommended number of jets for FPND calculation is 50000\n",
      "  warnings.warn(\n"
     ]
    },
    {
     "name": "stdout",
     "output_type": "stream",
     "text": [
      "cc1_t {'logprob': 1.2285113016764322, 'fpnd': 9.163390820683844, 'mmd': 0.08319365770687184, 'cov': 0.38300000000000006, 'w1m': 0.0007272368103638291, 'w1efp': 9.13178420950994e-05, 'w1p': 0.012157918626134273, 'name': '/beegfs/desy/user/kaechben/bestmodels_nf/top_cc1_t/lightning_logs/version_0/checkpoints/epoch=799-val_logprob=1.39-val_w1m=0.0006-val_w1efp=0.000085-val_fpnd=9.23.ckpt', 'w1pe': 0.000349642855135147, 'w1me': 0.000126239595822038, 'w1efpe': 1.2925286518243002e-05}\n",
      "t2c True\n"
     ]
    },
    {
     "name": "stderr",
     "output_type": "stream",
     "text": [
      "/tmp/ipykernel_35103/939654910.py:132: FutureWarning: The frame.append method is deprecated and will be removed from pandas in a future version. Use pandas.concat instead.\n",
      "  results_df=results_df.append(pd.DataFrame(temp_,index=[mo]))\n"
     ]
    },
    {
     "name": "stdout",
     "output_type": "stream",
     "text": [
      "{'network_layers': 5, 'network_nodes': 141, 'batch_size': 10000, 'coupling_layers': 19, 'lr': 0.000221461367938, 'batchnorm': True, 'bins': 6, 'tail_bound': 6, 'limit': 150000, 'n_dim': 90, 'dropout': 0.0948474993795183, 'lr_schedule': False, 'n_sched': 1000.0, 'canonical': False, 'max_steps': 50000, 'lambda': 0.6531678585959827, 'n_mse_turnoff': 1000000, 'n_mse_delay': 5, 'name': 't', 'disc': False, 'calc_massloss': False, 'context_features': 2, 'variable': 1.0, 'spline': True, 'parton': 't', 'oversampling': False}\n"
     ]
    },
    {
     "name": "stderr",
     "output_type": "stream",
     "text": [
      "/beegfs/desy/user/kaechben/.conda/envs/jetnet/lib/python3.8/site-packages/jetnet/evaluation/gen_metrics.py:239: RuntimeWarning: Recommended number of jets for FPND calculation is 50000\n",
      "  warnings.warn(\n"
     ]
    },
    {
     "name": "stdout",
     "output_type": "stream",
     "text": [
      "c2_t {'logprob': 0.3311714384290907, 'fpnd': 3.4607521097679523, 'mmd': 0.07084523468153432, 'cov': 0.5609999999999999, 'w1m': 0.0009287999021820722, 'w1efp': 7.232579949194397e-05, 'w1p': 0.0014921588327159085, 'name': '/beegfs/desy/user/kaechben/bestmodels_nf/top_c2_t/lightning_logs/version_0/checkpoints/epoch=1099-val_logprob=0.44-val_w1m=0.0008-val_w1efp=0.000068-val_fpnd=3.54.ckpt', 'w1pe': 0.0004805905392733771, 'w1me': 0.00014818329140038136, 'w1efpe': 1.586233489690081e-05}\n",
      "t2cc True\n"
     ]
    },
    {
     "name": "stderr",
     "output_type": "stream",
     "text": [
      "/tmp/ipykernel_35103/939654910.py:132: FutureWarning: The frame.append method is deprecated and will be removed from pandas in a future version. Use pandas.concat instead.\n",
      "  results_df=results_df.append(pd.DataFrame(temp_,index=[mo]))\n"
     ]
    },
    {
     "name": "stdout",
     "output_type": "stream",
     "text": [
      "{'network_layers': 5, 'network_nodes': 113, 'batch_size': 10000, 'coupling_layers': 16, 'lr': 0.0004083543938546, 'batchnorm': True, 'bins': 5, 'tail_bound': 3, 'limit': 150000, 'n_dim': 90, 'dropout': 0.1713138369955015, 'lr_schedule': False, 'n_sched': 1000.0, 'canonical': False, 'max_steps': 50000, 'lambda': 59.21244778829019, 'n_mse_turnoff': 1000000, 'n_mse_delay': 5, 'name': 't', 'disc': False, 'calc_massloss': True, 'context_features': 2, 'variable': 1.0, 'spline': True, 'parton': 't', 'oversampling': False}\n"
     ]
    },
    {
     "name": "stderr",
     "output_type": "stream",
     "text": [
      "/beegfs/desy/user/kaechben/.conda/envs/jetnet/lib/python3.8/site-packages/jetnet/evaluation/gen_metrics.py:239: RuntimeWarning: Recommended number of jets for FPND calculation is 50000\n",
      "  warnings.warn(\n"
     ]
    },
    {
     "name": "stdout",
     "output_type": "stream",
     "text": [
      "cc2_t {'logprob': 0.47006895277235244, 'fpnd': 6.336623053876366, 'mmd': 0.07303896345033152, 'cov': 0.554, 'w1m': 0.001113197916485369, 'w1efp': 0.00012633386232874732, 'w1p': 0.003700691372147506, 'name': '/beegfs/desy/user/kaechben/bestmodels_nf/top_cc2_t/lightning_logs/version_0/checkpoints/epoch=699-val_logprob=0.52-val_w1m=0.0012-val_w1efp=0.000120-val_fpnd=6.44.ckpt', 'w1pe': 0.000511284102577232, 'w1me': 0.0003167257113059757, 'w1efpe': 2.8548450484289264e-05}\n"
     ]
    },
    {
     "name": "stderr",
     "output_type": "stream",
     "text": [
      "/tmp/ipykernel_35103/939654910.py:132: FutureWarning: The frame.append method is deprecated and will be removed from pandas in a future version. Use pandas.concat instead.\n",
      "  results_df=results_df.append(pd.DataFrame(temp_,index=[mo]))\n"
     ]
    }
   ],
   "source": [
    "q=\"t\"\n",
    "df=pd.DataFrame()\n",
    "results_df=pd.DataFrame()\n",
    "for q in [\"g\",\"q\",\"t\"]:\n",
    "    for c in [0,1,2]:\n",
    "        cname=str(c)\n",
    "        for typ in [\"c\",\"cc\"]:\n",
    "            root=\"/beegfs/desy/user/kaechben/bestmodels_nf/top_{}{}_{}/lightning_logs/\".format(typ,cname,q)\n",
    "            print(q+str(cname)+typ,os.path.exists(root))\n",
    "            if os.path.exists(root):\n",
    "                for file in os.listdir(root):\n",
    "                    if \"checkpoints\" in os.listdir(\"/beegfs/desy/user/kaechben/bestmodels_nf/top_{}{}_{}/lightning_logs/{}\".format(typ,cname,q,file)):\n",
    "                        w1ms=[]\n",
    "                        w1efps=[]\n",
    "                        fpnds=[]\n",
    "                        names=[]\n",
    "                        typs=[]\n",
    "                        cs=[]\n",
    "                        qs=[]\n",
    "                        ckpts=\"/beegfs/desy/user/kaechben/bestmodels_nf/top_{}{}_{}/lightning_logs/{}/checkpoints\".format(typ,cname,q,file)\n",
    "                        for file2 in os.listdir(ckpts):\n",
    "                            w1ms.append(file2.split(\"w1m=\")[1].split(\"-\")[0])\n",
    "                            w1efps.append(file2.split(\"w1efp=\")[1].split(\"-\")[0])\n",
    "                            fpnds.append(file2.split(\"fpnd=\")[1].split(\".c\")[0])\n",
    "                            names.append(ckpts+\"/\"+file2)\n",
    "                            typs.append(typ)\n",
    "                            cs.append(cname)\n",
    "                            qs.append(q)\n",
    "                            \n",
    "                        temp=pd.DataFrame(np.array([w1ms,w1efps,fpnds,names,typs,cs,qs]).T,columns=[\"m\",\"efp\",\"fpnd\",\"name\",\"typ\",\"c\",\"q\"])\n",
    "                        temp[\"rank\"]=(np.argsort(temp.m.values)+np.argsort(temp.efp.values)+np.argsort(temp.fpnd.values))/3\n",
    "                        \n",
    "                        df=pd.concat((df,temp),axis=0)\n",
    "                from jetnet_dataloader import *\n",
    "                from helpers import *\n",
    "                # This just sets up the dataloader, nothing particularly important. it reads in a csv, calculates mass and reads out the number particles per jet\n",
    "                # And adds it to the dataset as variable. The only important thing is that we add noise to zero padded jets\n",
    "                mo=temp.sort_values(\"rank\").iloc[0][\"name\"]\n",
    "                name=typ+str(cname)+\"_\"+q\n",
    "                model=model.load_from_checkpoint(mo)\n",
    "                data_module=JetNetDataloader(model.config)\n",
    "                model.load_datamodule(data_module)\n",
    "                model.data_module.setup(\"validation\")\n",
    "                model.data_module.scaler.to(\"cpu\")  \n",
    "                batch=model.data_module.test_set.to(\"cpu\")\n",
    "                model.flow.eval()\n",
    "                print(model.config)\n",
    "                if model.config[\"context_features\"]==1:\n",
    "                    c=batch[:,-2].reshape(-1,1)\n",
    "                    n_true=batch[:,-1]\n",
    "                    batch=batch[:,:model.n_dim+1]\n",
    "                    \n",
    "                elif model.config[\"context_features\"]==0:\n",
    "                    c=None\n",
    "                    # c_test,n_test=model.test_cond(len(batch))\n",
    "                    # n_true=batch[:,-1]\n",
    "                    # batch=batch[:,:model.n_dim+1]\n",
    "                else:\n",
    "                    c=batch[:,-2:]\n",
    "                    n_true=batch[:,model.n_dim+1]\n",
    "                #c=batch[:,-model.config[\"context_features\"]:] if model.config[\"context_features\"] else None #this is the condition\n",
    "                if model.config[\"context_features\"]>0:\n",
    "                    c_test,n_test=model.test_cond(len(batch)) #this is the condition in the case of testing\n",
    "                    c_test=c_test.reshape(-1,model.config[\"context_features\"])\n",
    "                with torch.no_grad():\n",
    "                    if model.config[\"context_features\"]>0:\n",
    "\n",
    "                        gen=model.flow_test.to(\"cpu\").sample(len(batch) if c==None else 1,c).to(\"cpu\")\n",
    "                        test=model.flow_test.to(\"cpu\").sample(len(batch) if c==None else 1, c_test).to(\"cpu\").reshape(-1,90)\n",
    "                        gen=torch.hstack((gen[:,:model.n_dim].cpu().detach().reshape(-1,model.n_dim),torch.ones(len(gen)).unsqueeze(1))) \n",
    "                        batch=torch.hstack((batch[:,:model.n_dim].cpu().detach().reshape(-1,model.n_dim),torch.ones(len(gen)).unsqueeze(1)))                \n",
    "                        test=torch.hstack((test[:,:model.n_dim].cpu().detach().reshape(-1,model.n_dim),torch.ones(len(test)).unsqueeze(1)))\n",
    "                    else:\n",
    "                        gen=model.flow_test.to(\"cpu\").sample(len(batch) if c==None else 1).to(\"cpu\")\n",
    "                        test=model.flow_test.to(\"cpu\").sample(len(batch) if c==None else 1).to(\"cpu\").reshape(-1,90)\n",
    "                        # batch=batch[:,:model.n_dim]\n",
    "                        gen=torch.hstack((gen[:,:model.n_dim].cpu().detach().reshape(-1,model.n_dim),torch.ones(len(gen)).unsqueeze(1))) \n",
    "                        batch=torch.hstack((batch[:,:model.n_dim].cpu().detach().reshape(-1,model.n_dim),torch.ones(len(gen)).unsqueeze(1)))                \n",
    "                        test=torch.hstack((test[:,:model.n_dim].cpu().detach().reshape(-1,model.n_dim),torch.ones(len(test)).unsqueeze(1)))\n",
    "                    # if model.config[\"oversampling\"]:\n",
    "                    #     order=torch.sort(test.reshape(-1,30,3)[:,:,2],dim=1,descending=True)[1]\n",
    "                    #     test=torch.gather(input=test.reshape(-1,30,3),index=order.unsqueeze(-1).repeat(1,1,3),dim=1).reshape(-1,90)\n",
    "                    #test=test.reshape(-1,30,3)[order.repeat(1,1,3)].reshape(-1,90)\n",
    "                \n",
    "                # Reverse Standard Scaling (this has nothing to do with flows, it is a standard preprocessing step)\n",
    "                test=model.data_module.scaler.inverse_transform(test)\n",
    "                gen=model.data_module.scaler.inverse_transform(gen)\n",
    "                true=model.data_module.scaler.inverse_transform(batch[:,:model.n_dim+1])[:,:model.n_dim]\n",
    "                # We overwrite in cases where n is smaller 30 the particles after n with 0\n",
    "                if model.config[\"context_features\"]>1:\n",
    "                    for i in torch.unique(batch[:,-1]):\n",
    "                        i=int(i)\n",
    "                        gen[c[:,-1]==i,3*i:-1]=0\n",
    "                        test[c_test[:,-1]==i,3*i:-1]=0\n",
    "                #This is just a nice check to see whether we overtrain \n",
    "                logprob = -model.flow.to(\"cpu\").log_prob(batch[:,:model.n_dim],c     ).detach().mean().numpy()/model.n_dim\n",
    "                # if model.global_step > 100:\n",
    "                #     if logprob > 1: ###Cut off logprob value\n",
    "                #         raise ValueError('Logprob over 1')\n",
    "                #calculate mass distrbutions & concat them to training sample\n",
    "                m_t=mass(true[:,:model.n_dim].to(model.device),model.config[\"canonical\"]).cpu()\n",
    "                m_gen=mass(gen[:,:model.n_dim],model.config[\"canonical\"]).cpu()\n",
    "                m_test=mass(test[:,:model.n_dim],model.config[\"canonical\"]).cpu()\n",
    "                # gen=torch.column_stack((gen[:,:90],m_gen))\n",
    "                test=torch.column_stack((test[:,:90],m_test))       \n",
    "                # Again checking for overtraining\n",
    "                mse=FF.mse_loss(m_t,m_gen).detach()\n",
    "                \n",
    "                    \n",
    "                for i in range(30):\n",
    "                    i=2+3*i\n",
    "                    gen[gen[:,i]<0,i]=0\n",
    "                    test[test[:,i]<0,i]=0\n",
    "                    true[true[:,i]<0,i]=0\n",
    "                    #Some metrics we track\n",
    "                cov,mmd=cov_mmd(true[:,:model.n_dim].reshape(-1,model.n_dim//3,3),test[:,:model.n_dim].reshape(-1,model.n_dim//3,3),use_tqdm=False)\n",
    "                try:\n",
    "                    fpndv=fpnd(test[:,:model.n_dim].reshape(-1,model.n_dim//3,3).numpy(),use_tqdm=False,jet_type=model.config[\"parton\"])\n",
    "                except:\n",
    "                    fpndv=1000\n",
    "                model.metrics[\"val_fpnd\"].append(fpndv)\n",
    "                model.metrics[\"val_logprob\"].append(logprob)\n",
    "                model.metrics[\"val_mmd\"].append(mmd)\n",
    "                model.metrics[\"val_cov\"].append(cov)\n",
    "                model.metrics[\"val_w1p\"].append(w1p(test[:,:model.n_dim].reshape(-1,model.n_dim//3,3),true[:,:model.n_dim].reshape(-1,model.n_dim//3,3)))\n",
    "                model.metrics[\"val_w1m\"].append(w1m(test[:,:model.n_dim].reshape(-1,model.n_dim//3,3),true[:,:model.n_dim].reshape(-1,model.n_dim//3,3)))\n",
    "                model.metrics[\"val_w1efp\"].append(w1efp(test[:,:model.n_dim].reshape(-1,model.n_dim//3,3),true[:,:model.n_dim].reshape(-1,model.n_dim//3,3)))\n",
    "                \n",
    "                \n",
    "                temp_={\"logprob\":logprob,\"fpnd\":fpndv,\"mmd\":mmd,\"cov\":cov,\"w1m\":model.metrics[\"val_w1m\"][-1][0],\"w1efp\":model.metrics[\"val_w1efp\"][-1][0],\"w1p\":model.metrics[\"val_w1p\"][-1][0],\"name\":mo,\"w1pe\":model.metrics[\"val_w1p\"][-1][1],\"w1me\":model.metrics[\"val_w1m\"][-1][1],\"w1efpe\":model.metrics[\"val_w1efp\"][-1][1]}\n",
    "                print(name,temp_)\n",
    "                results_df=results_df.append(pd.DataFrame(temp_,index=[mo]))\n",
    "                # This part here adds the plots to tensorboard\n",
    "                \n",
    "                # model.plot=plotting_paper(model=model,gen=gen[:,:model.n_dim],true=true[:,:model.n_dim],config=model.config,p=config[\"parton\"])\n",
    "                # model.plot.plot_mass(m_test.cpu().numpy(),m_t.cpu().numpy(),save=name+\"_inclusive\",bins=15,leg=-2)\n",
    "                # for i in [0,5,7,25]:\n",
    "\n",
    "                #     model.plot.plot_marginals(save=name+\"_marginals_\",ith=i)\n",
    "\n",
    "                #     try:\n",
    "                #         model.plot.plot_mass(m_test.cpu().numpy(),m_t.cpu().numpy(),save=True,bins=15,quantile=True,plot_vline=False)\n",
    "                # #             model.plot.plot_marginals(save=True)\n",
    "                #         model.plot.plot_2d(save=True)\n",
    "                #         model.plot.losses(save=True)\n",
    "                #         model.plot.var_part(true=true[:,:model.n_dim],gen=test[:,:model.n_dim],true_n=n_true,gen_n=n_test,m_true=m_t,m_gen=m_test ,save=True)\n",
    "                #     except Exception as e:\n",
    "                #         traceback.print_exc()\n",
    "                        \n",
    "                # #         model.flow.to(\"cuda\")\n",
    "                #     model.plot.plot_correlations()\n",
    "                \n",
    "                        "
   ]
  },
  {
   "cell_type": "code",
   "execution_count": 29,
   "id": "724647de",
   "metadata": {},
   "outputs": [
    {
     "name": "stderr",
     "output_type": "stream",
     "text": [
      "/tmp/ipykernel_35103/3419053601.py:31: FutureWarning: In a future version of pandas all arguments of DataFrame.drop except for the argument 'labels' will be keyword-only.\n",
      "  print_table=print_table.drop(\"logprob\",1).set_index(\"model\",drop=False).drop(\"name\",1)\n",
      "/tmp/ipykernel_35103/3419053601.py:31: FutureWarning: In a future version of pandas all arguments of DataFrame.drop except for the argument 'labels' will be keyword-only.\n",
      "  print_table=print_table.drop(\"logprob\",1).set_index(\"model\",drop=False).drop(\"name\",1)\n",
      "/tmp/ipykernel_35103/3419053601.py:87: FutureWarning: The default value of regex will change from True to False in a future version. In addition, single character regular expressions will *not* be treated as literal strings when regex=True.\n",
      "  temp_index=temp[col].str.replace(\"$\",\"\").str.split(\"\\\\\").str[0].astype(float)\n",
      "/tmp/ipykernel_35103/3419053601.py:89: FutureWarning: The default value of regex will change from True to False in a future version. In addition, single character regular expressions will *not* be treated as literal strings when regex=True.\n",
      "  temp.loc[mins,col]=\"$\\mathbf{\"+temp.loc[mins,col].astype(str).str.replace(\"$\",\"\")+\"}$\"\n",
      "/tmp/ipykernel_35103/3419053601.py:89: SettingWithCopyWarning: \n",
      "A value is trying to be set on a copy of a slice from a DataFrame\n",
      "\n",
      "See the caveats in the documentation: https://pandas.pydata.org/pandas-docs/stable/user_guide/indexing.html#returning-a-view-versus-a-copy\n",
      "  temp.loc[mins,col]=\"$\\mathbf{\"+temp.loc[mins,col].astype(str).str.replace(\"$\",\"\")+\"}$\"\n"
     ]
    },
    {
     "name": "stdout",
     "output_type": "stream",
     "text": [
      "model\n",
      "c0g                 c0g\n",
      "cc0g               VNFg\n",
      "c1g                 c1g\n",
      "cc1g               cc1g\n",
      "c2g                 c2g\n",
      "cc2g               cc2g\n",
      "cc0q               VNFq\n",
      "c1q                 c1q\n",
      "cc1q               cc1q\n",
      "c2q                 c2q\n",
      "cc2q               cc2q\n",
      "c0t                 c0t\n",
      "c1t                 c1t\n",
      "cc1t               cc1t\n",
      "c2t                 c2t\n",
      "cc2t               cc2t\n",
      "MP-MP-g           MP-MP\n",
      "MPLFC-MP-g    MP_LFC-MP\n",
      "MP-MP-q           MP-MP\n",
      "MPLFC-MP-q    MP_LFC-MP\n",
      "MP-MP-t           MP-MP\n",
      "MPLFC-MP-t    MP_LFC-MP\n",
      "Name: model, dtype: object\n"
     ]
    },
    {
     "name": "stderr",
     "output_type": "stream",
     "text": [
      "/tmp/ipykernel_35103/3419053601.py:92: FutureWarning: In future versions `DataFrame.to_latex` is expected to utilise the base implementation of `Styler.to_latex` for formatting and rendering. The arguments signature may therefore change. It is recommended instead to use `DataFrame.style.to_latex` which also contains additional functionality.\n",
      "  text=temp.to_latex(index=False,escape=False)\n",
      "/tmp/ipykernel_35103/3419053601.py:87: FutureWarning: The default value of regex will change from True to False in a future version. In addition, single character regular expressions will *not* be treated as literal strings when regex=True.\n",
      "  temp_index=temp[col].str.replace(\"$\",\"\").str.split(\"\\\\\").str[0].astype(float)\n",
      "/tmp/ipykernel_35103/3419053601.py:89: FutureWarning: The default value of regex will change from True to False in a future version. In addition, single character regular expressions will *not* be treated as literal strings when regex=True.\n",
      "  temp.loc[mins,col]=\"$\\mathbf{\"+temp.loc[mins,col].astype(str).str.replace(\"$\",\"\")+\"}$\"\n",
      "/tmp/ipykernel_35103/3419053601.py:89: SettingWithCopyWarning: \n",
      "A value is trying to be set on a copy of a slice from a DataFrame\n",
      "\n",
      "See the caveats in the documentation: https://pandas.pydata.org/pandas-docs/stable/user_guide/indexing.html#returning-a-view-versus-a-copy\n",
      "  temp.loc[mins,col]=\"$\\mathbf{\"+temp.loc[mins,col].astype(str).str.replace(\"$\",\"\")+\"}$\"\n",
      "/tmp/ipykernel_35103/3419053601.py:92: FutureWarning: In future versions `DataFrame.to_latex` is expected to utilise the base implementation of `Styler.to_latex` for formatting and rendering. The arguments signature may therefore change. It is recommended instead to use `DataFrame.style.to_latex` which also contains additional functionality.\n",
      "  text=temp.to_latex(index=False,escape=False)\n",
      "/tmp/ipykernel_35103/3419053601.py:87: FutureWarning: The default value of regex will change from True to False in a future version. In addition, single character regular expressions will *not* be treated as literal strings when regex=True.\n",
      "  temp_index=temp[col].str.replace(\"$\",\"\").str.split(\"\\\\\").str[0].astype(float)\n",
      "/tmp/ipykernel_35103/3419053601.py:89: FutureWarning: The default value of regex will change from True to False in a future version. In addition, single character regular expressions will *not* be treated as literal strings when regex=True.\n",
      "  temp.loc[mins,col]=\"$\\mathbf{\"+temp.loc[mins,col].astype(str).str.replace(\"$\",\"\")+\"}$\"\n",
      "/tmp/ipykernel_35103/3419053601.py:89: SettingWithCopyWarning: \n",
      "A value is trying to be set on a copy of a slice from a DataFrame\n",
      "\n",
      "See the caveats in the documentation: https://pandas.pydata.org/pandas-docs/stable/user_guide/indexing.html#returning-a-view-versus-a-copy\n",
      "  temp.loc[mins,col]=\"$\\mathbf{\"+temp.loc[mins,col].astype(str).str.replace(\"$\",\"\")+\"}$\"\n"
     ]
    },
    {
     "name": "stdout",
     "output_type": "stream",
     "text": [
      "\\multirow{7}{*}{Gluon} & \n",
      "MP-MP &$0.7 \\pm 0.2$ &$0.9 \\pm 0.3$ &$\\mathbf{0.7 \\pm 0.7}$ & $\\mathbf{0.12}$ & $\\mathbf{0.56}$ &$0.037$ \\\\&\n",
      "\n",
      "MP\\_LFC-MP &$0.69 \\pm 0.07$ &$1.8 \\pm 0.3$ & $0.9 \\pm 0.2$ &$0.20$ &$0.54$ &$0.037$ \\\\&\n",
      "VNF &$5.5 \\pm 0.7$ &$2.9 \\pm 0.7$ & $4.4 \\pm 0.8$ &$2.32$ &$0.54$ &$0.035$ \\\\&\n",
      " CNF\\ (m) &$0.9 \\pm 0.1$ &$0.6 \\pm 0.3$ & $0.9 \\pm 0.5$ &$0.68$ &$0.54$ &$0.036$ \\\\&\n",
      " CNF\\ (m,n) &$0.9 \\pm 0.3$ &$0.7 \\pm 0.2$ & $0.9 \\pm 0.5$ &$0.70$ &$0.55$ & $\\mathbf{0.034}$ \\\\&\n",
      "CCNF\\ (m) &$0.9 \\pm 0.2$ & $\\mathbf{0.5 \\pm 0.2}$ & $1.1 \\pm 0.5$ &$1.10$ &$0.55$ &$0.036$ \\\\&\n",
      "CCNF\\ (m,n) & $\\mathbf{0.6 \\pm 0.5}$ &$0.8 \\pm 0.1$ & $0.9 \\pm 0.8$ &$0.72$ & $\\mathbf{0.56}$ &$0.035$ \\\\\\cline{1-8}\n",
      "\\multirow{7}{*}{Light Quark} & \n",
      "MP-MP & $\\mathbf{0.6 \\pm 0.2}$ &$4.9 \\pm 0.5$ &$\\mathbf{0.7 \\pm 0.4}$ &$0.35$ &$0.50$ &$0.026$ \\\\&\n",
      "\n",
      "MP\\_LFC-MP &$0.7 \\pm 0.2$ &$2.6 \\pm 0.4$ & $0.9 \\pm 0.9$ & $\\mathbf{0.08}$ &$0.52$ &$0.037$ \\\\&\n",
      "VNF &$3.5 \\pm 0.3$ &$2.3 \\pm 0.4$ & $3 \\pm 1$ &$2.10$ &$0.54$ &$0.025$ \\\\&\n",
      " CNF\\ (m) &$1.1 \\pm 0.2$ &$1.3 \\pm 0.3$ &$\\mathbf{0.7 \\pm 0.3}$ &$0.78$ & $\\mathbf{0.55}$ & $\\mathbf{0.024}$ \\\\&\n",
      " CNF\\ (m,n) &$1.8 \\pm 0.2$ &$0.9 \\pm 0.5$ & $0.9 \\pm 0.4$ &$0.64$ &$0.54$ &$0.025$ \\\\&\n",
      "CCNF\\ (m) &$0.9 \\pm 0.3$ & $\\mathbf{0.6 \\pm 0.2}$ &$\\mathbf{0.7 \\pm 0.3}$ &$0.71$ &$0.54$ & $\\mathbf{0.024}$ \\\\&\n",
      "CCNF\\ (m,n) &$1.0 \\pm 0.3$ &$1.2 \\pm 0.4$ & $0.8 \\pm 0.5$ &$1.99$ &$0.51$ &$0.026$ \\\\\\cline{1-8}\n",
      "\\multirow{7}{*}{Top Quark} & \n",
      "MP-MP & $\\mathbf{0.6 \\pm 0.2}$ &$2.3 \\pm 0.3$ &$\\mathbf{2 \\pm 1}$ & $\\mathbf{0.37}$ & $\\mathbf{0.57}$ & $\\mathbf{0.071}$ \\\\&\n",
      "\n",
      "MP\\_LFC-MP &$0.9 \\pm 0.3$ &$2.2 \\pm 0.7$ &$\\mathbf{2 \\pm 1}$ &$0.93$ &$0.56$ &$0.073$ \\\\&\n",
      "VNF &$6.4 \\pm 0.2$ &$2.2 \\pm 0.2$ &$14 \\pm 1$ &$7.91$ &$0.56$ & $\\mathbf{0.071}$ \\\\&\n",
      " CNF\\ (m) &$1.7 \\pm 0.3$ & $\\mathbf{1.1 \\pm 0.3}$ & $5 \\pm 1$ &$4.53$ &$0.55$ &$0.073$ \\\\&\n",
      " CNF\\ (m,n) &$0.9 \\pm 0.5$ &$1.5 \\pm 0.1$ & $7 \\pm 2$ &$3.46$ &$0.56$ & $\\mathbf{0.071}$ \\\\&\n",
      "CCNF\\ (m) &$0.7 \\pm 0.3$ & $12.2 \\pm 0.1$ & $9 \\pm 1$ &$9.16$ &$0.38$ &$0.083$ \\\\&\n",
      "CCNF\\ (m,n) &$1.1 \\pm 0.5$ &$3.7 \\pm 0.3$ &$13 \\pm 3$ &$6.34$ &$0.55$ &$0.073$ \\\\\\cline{1-8}\n",
      "\n"
     ]
    },
    {
     "name": "stderr",
     "output_type": "stream",
     "text": [
      "/tmp/ipykernel_35103/3419053601.py:92: FutureWarning: In future versions `DataFrame.to_latex` is expected to utilise the base implementation of `Styler.to_latex` for formatting and rendering. The arguments signature may therefore change. It is recommended instead to use `DataFrame.style.to_latex` which also contains additional functionality.\n",
      "  text=temp.to_latex(index=False,escape=False)\n"
     ]
    }
   ],
   "source": [
    "from tkinter import W\n",
    "\n",
    "\n",
    "def format_mean_sd(mean, sd):\n",
    "    \"\"\"round mean and standard deviation to most significant digit of sd and apply latex formatting\"\"\"\n",
    "    decimals = -int(np.floor(np.log10(sd)))\n",
    "    decimals -= int((sd * 10 ** decimals) >= 9.5)\n",
    "\n",
    "    if decimals < 0:\n",
    "        ten_to = 10 ** (-decimals)\n",
    "        if mean > ten_to:\n",
    "            mean = ten_to * (mean // ten_to)\n",
    "        else:\n",
    "            mean_ten_to = 10 ** np.floor(np.log10(mean))\n",
    "            mean = mean_ten_to * (mean // mean_ten_to)\n",
    "        sd = ten_to * (sd // ten_to)\n",
    "        decimals = 0\n",
    "\n",
    "    if mean >= 1e3 and sd >= 1e3:\n",
    "        mean = np.round(mean * 1e-3)\n",
    "        sd = np.round(sd * 1e-3)\n",
    "        return f\"${mean:.{decimals}f}$k $\\\\pm {sd:.{decimals}f}$k\"\n",
    "    else:\n",
    "        return f\"${mean:.{decimals}f} \\\\pm {sd:.{decimals}f}$\"\n",
    "\n",
    "# print_table.index=[\"t\"]#\"q\"\n",
    "print_table=results_df.copy()\n",
    "print_table.columns=[\"logprob\",\"fpnd\",\"mmd\",\"cov\",\"w1m\",\"w1efp\",\"w1p\",\"name\",\"pmm\",\"pmp\",\"pme\"]\n",
    "cols=[\"w1m\",\"w1p\",\"w1efp\",\"pmm\",\"pmp\",\"pme\",\"cov\",\"fpndv\",\"mmd\"]\n",
    "print_table[\"model\"]=print_table[\"name\"].str.split(\"nf/\").str[1].str.split(\"/lig\").str[0].str.replace(\"_\",\"\").str.replace(\"top\",\"\")\n",
    "print_table=print_table.drop(\"logprob\",1).set_index(\"model\",drop=False).drop(\"name\",1)\n",
    "print_table=print_table[[\"w1m\",\"w1p\",\"w1efp\",\"fpnd\",\"cov\",\"mmd\",\"pmm\",\"pmp\",\"pme\",\"model\"]]\n",
    "\n",
    "print_table.loc[:,\"w1m\"]*=1000\n",
    "print_table.loc[:,\"w1p\"]*=1000\n",
    "print_table.loc[:,\"w1efp\"]*=100000\n",
    "print_table.loc[:,\"pmm\"]*=1000\n",
    "print_table.loc[:,\"pmp\"]*=1000\n",
    "print_table.loc[:,\"pme\"]*=100000\n",
    "print_table.loc[\"MP-MP-g\",:]=np.array([0.7,0.9,0.7,0.12,0.56,0.037,0.2,0.3,0.7,\"MP-MP\"])\n",
    "\n",
    "print_table.loc[\"MPLFC-MP-g\",:]=np.array([0.69,1.8,0.9,0.2,0.54,0.037,.07,.3,.2,\"MP_LFC-MP\"])\n",
    "print_table.loc[\"MP-MP-q\",:]=np.array([0.6,4.9,0.7,0.35,0.50,0.026,.2,.5,.4,\"MP-MP\"])\n",
    "\n",
    "print_table.loc[\"MPLFC-MP-q\",:]=np.array([0.7,2.6,0.9,0.08,0.52,0.037,.2,.4,.9,\"MP_LFC-MP\"])\n",
    "\n",
    "\n",
    "print_table.loc[\"MP-MP-t\",:]=np.array([0.6,2.3,2,0.37,0.57,0.071,.2,.3,1,\"MP-MP\"])\n",
    "print_table.loc[\"MPLFC-MP-t\",:]=np.array([0.9,2.2,2,0.93,0.56,0.073,.3,.7,1,\"MP_LFC-MP\"])\n",
    "print_table.loc[:,\"w1m\"]=print_table.apply(lambda x:format_mean_sd(float(x[\"w1m\"]),float(x[\"pmm\"])),axis=1)\n",
    "print_table.loc[:,\"w1efp\"]=print_table.apply(lambda x:format_mean_sd(float(x[\"w1efp\"]),float(x[\"pme\"])),axis=1)\n",
    "print_table.loc[:,\"w1p\"]=print_table.apply(lambda x:format_mean_sd(float(x[\"w1p\"]),float(x[\"pmp\"])),axis=1)\n",
    "\n",
    "\n",
    "print_table.loc[:,\"cov\"]=print_table.loc[:,\"cov\"].astype(float).map('{:.2f}'.format)\n",
    "print_table.loc[:,\"fpnd\"]=print_table.loc[:,\"fpnd\"].astype(float).map('{:.2f}'.format)\n",
    "print_table.loc[:,\"mmd\"]=print_table.loc[:,\"mmd\"].astype(float).map('{:.3f}'.format)\n",
    "\n",
    "print_table.loc[:,\"pmm\"]=print_table.loc[:,\"pmm\"].astype(float).map('{:,.2f}'.format)\n",
    "\n",
    "print_table.loc[:,\"pmp\"]=print_table.loc[:,\"pmp\"].astype(float).map('{:,.2f}'.format)\n",
    "\n",
    "print_table.loc[:,\"pme\"]=print_table.loc[:,\"pme\"].astype(float).map('{:,.2f}'.format)\n",
    "print_table.loc[:,\"parton\"]=print_table.index.str[-1]\n",
    "# print_table.loc[:,\"val_w1m\"]=\"$\"+print_table[\"val_w1m\"].map(str)+\"\\pm\"+print_table[\"pmm\"].map(str)+\"$\"\n",
    "# print_table.loc[:,\"val_w1p\"]=\"$\"+print_table[\"val_w1p\"].map(str)+\"\\pm\"+print_table[\"pmp\"].map(str)+\"$\"\n",
    "# print_table.loc[:,\"val_w1efp\"]=\"$\"+print_table[\"val_w1efp\"].map(str)+\"\\pm\"+print_table[\"pme\"].map(str)+\"$\"\n",
    "print_table.loc[:,\"cov\"]=\"$\"+print_table[\"cov\"].map(str)+\"$\"\n",
    "print_table.loc[:,\"fpnd\"]=\"$\"+print_table[\"fpnd\"].map(str)+\"$\"\n",
    "print_table.loc[:,\"mmd\"]=\"$\"+print_table[\"mmd\"].map(str)+\"$\"\n",
    "print(print_table[\"model\"].str.replace(\"cc0\",\"VNF\"))\n",
    "print_table.loc[:,\"model\"]=print_table[\"model\"].str.replace(\"cc0\",\"VNF\").str.replace(\"c0\",\"VNF\").str.replace(\"cc\",\"CCNF\").str.replace(\"c\",\"CNF\").str.replace(\"1\",\"\\ (m)\").str.replace(\"2\",\"\\ (m,n)\").str.replace(\"q\",\"\").str.replace(\"g\",\"\").str.replace(\"t\",\"\")\n",
    "\n",
    "index=[\"MP-MP-g\",\"MPLFC-MP-g\",\"c0g\",\"c1g\",\"c2g\",\"cc1g\",\"cc2g\",\"MP-MP-q\",\"MPLFC-MP-q\",\"cc0q\",\"c1q\",\"c2q\",\"cc1q\",\"cc2q\",\"MP-MP-t\",\"MPLFC-MP-t\",\"c0t\",\"c1t\",\"c2t\",\"cc1t\",\"cc2t\"]\n",
    "print_table=print_table.loc[index,:]\n",
    "\n",
    "final_table=pd.DataFrame()\n",
    "tex=\"\"\n",
    "for p in [\"g\",\"q\",\"t\"]:\n",
    "    temp=print_table[print_table[\"parton\"]==p]\n",
    "\n",
    "    for col in print_table.drop(\"model\",axis=1).columns:\n",
    "        \n",
    "        if col not in [\"w1m\",\"w1p\",\"w1efp\",\"fpnd\",\"cov\",\"mmd\" ]:\n",
    "            continue\n",
    "        \n",
    "        temp_index=temp[col].str.replace(\"$\",\"\").str.split(\"\\\\\").str[0].astype(float)\n",
    "        mins=temp_index==temp_index.min() if col!=\"cov\" else temp_index==temp_index.max()\n",
    "        temp.loc[mins,col]=\"$\\mathbf{\"+temp.loc[mins,col].astype(str).str.replace(\"$\",\"\")+\"}$\"\n",
    "    temp=temp[[\"model\",\"w1m\",\"w1p\",\"w1efp\",\"fpnd\",\"cov\",\"mmd\"]]\n",
    "    temp.columns=[\"model\",\"$W_1^M (\\times 10^{-3})$\",\"$W_1^P (\\times 10^{-3})$\",\"$W_1^{EFP}(\\times 10^{-5})$\",\"FPND\",r\"COV $\\uparrow$\",\"MMD\"]\n",
    "    text=temp.to_latex(index=False,escape=False)\n",
    "    parton=\"Gluon\" if p==\"g\" else \"Light Quark\" if p==\"q\" else \"Top Quark\"\n",
    "    tex+=\"\\multirow{7}{*}{\"+parton+\"} & \"+text.split(\"MMD \\\\\\\\\")[1].split(\"\\\\bottomrule\")[0].replace(\"\\\\\\\\\",\"\\\\\\\\&\").replace(\"\\\\midrule\",\"\").replace(\"MP_LFC\",\"MP\\_LFC\").replace(\"  \",\"\")[:-2]+\"\\cline{1-8}\" \n",
    "    tex+=\"\\n\"\n",
    "print(tex)\n",
    "\n",
    "\n",
    "    #     final_table=final_table.append(temp)\n",
    "\n",
    "# print(final_table.to_latex(index=False,escape=False))\n"
   ]
  },
  {
   "cell_type": "markdown",
   "id": "dbc211c4-21c0-4aab-9357-ab30b4c0df4b",
   "metadata": {},
   "source": [
    "## Insample Metrics"
   ]
  },
  {
   "cell_type": "code",
   "execution_count": null,
   "id": "dfc230fd-b2e8-429d-85d2-c56cf6c828f8",
   "metadata": {},
   "outputs": [],
   "source": [
    "import jetnet\n",
    "import pandas as pd\n",
    "import numpy as np\n",
    "from tkinter import W\n",
    "\n",
    "\n",
    "def format_mean_sd(mean, sd):\n",
    "    \"\"\"round mean and standard deviation to most significant digit of sd and apply latex formatting\"\"\"\n",
    "    decimals = -int(np.floor(np.log10(sd)))\n",
    "    decimals -= int((sd * 10 ** decimals) >= 9.5)\n",
    "\n",
    "    if decimals < 0:\n",
    "        ten_to = 10 ** (-decimals)\n",
    "        if mean > ten_to:\n",
    "            mean = ten_to * (mean // ten_to)\n",
    "        else:\n",
    "            mean_ten_to = 10 ** np.floor(np.log10(mean))\n",
    "            mean = mean_ten_to * (mean // mean_ten_to)\n",
    "        sd = ten_to * (sd // ten_to)\n",
    "        decimals = 0\n",
    "\n",
    "    if mean >= 1e3 and sd >= 1e3:\n",
    "        mean = np.round(mean * 1e-3)\n",
    "        sd = np.round(sd * 1e-3)\n",
    "        return f\"${mean:.{decimals}f}$k $\\\\pm {sd:.{decimals}f}$k\"\n",
    "    else:\n",
    "        return f\"${mean:.{decimals}f} \\\\pm {sd:.{decimals}f}$\"\n",
    "tex=\"\"\n",
    "q=jetnet.datasets.JetNet(\"q\",normalize=False).data.numpy()\n",
    "nq=q[:,:,-1].sum(axis=-1)\n",
    "g=jetnet.datasets.JetNet(\"g\",normalize=False).data.numpy()\n",
    "ng=g[:,:,-1].sum(axis=-1)\n",
    "t=jetnet.datasets.JetNet(\"t\",normalize=False).data.numpy()\n",
    "nt=t[:,:,-1].sum(axis=-1)\n",
    "for p,name in zip([g,q,t],[\"g\",\"q\",\"t\"]):\n",
    "    _w1p=jetnet.evaluation.w1p(p[:,:,:3],p[:,:,:3])\n",
    "    _w1m=jetnet.evaluation.w1m(p[:,:,:3],p[:,:,:3])\n",
    "    _w1efp=jetnet.evaluation.w1efp(p[:,:,:3],p[:,:,:3])\n",
    "    cov,mmd=jetnet.evaluation.cov_mmd(p[:50000],p[:50000])\n",
    "\n",
    "    fpndv=jetnet.evaluation.fpnd(p[:50000,:,:3],jet_type=name)\n",
    "\n",
    "\n",
    "\n",
    "    print_table=pd.DataFrame(np.array([_w1m[0],_w1p[0],_w1efp[0],fpndv,cov,mmd,_w1m[1],_w1p[1],_w1efp[1],name]).reshape(1,10),columns=[\"w1m\",\"w1p\",\"w1efp\",\"fpnd\",\"cov\",\"mmd\",\"pmm\",\"pmp\",\"pme\",\"parton\"])\n",
    "\n",
    "    print_table.loc[:,\"w1m\"]=print_table.loc[:,\"w1m\"].astype(float)*1000\n",
    "    print_table.loc[:,\"w1p\"]=print_table.loc[:,\"w1p\"].astype(float)*1000\n",
    "    print_table.loc[:,\"w1efp\"]=print_table.loc[:,\"w1efp\"].astype(float)*100000\n",
    "    print_table.loc[:,\"pmm\"]=print_table.loc[:,\"pmm\"].astype(float)*1000\n",
    "    print_table.loc[:,\"pmp\"]=print_table.loc[:,\"pmp\"].astype(float)*1000\n",
    "    print_table.loc[:,\"pme\"]=print_table.loc[:,\"pme\"].astype(float)*100000\n",
    "    print_table.loc[:,\"w1m\"]=print_table.apply(lambda x:format_mean_sd(float(x[\"w1m\"]),float(x[\"pmm\"])),axis=1)\n",
    "    print_table.loc[:,\"w1efp\"]=print_table.apply(lambda x:format_mean_sd(float(x[\"w1efp\"]),float(x[\"pme\"])),axis=1)\n",
    "    print_table.loc[:,\"w1p\"]=print_table.apply(lambda x:format_mean_sd(float(x[\"w1p\"]),float(x[\"pmp\"])),axis=1)\n",
    "\n",
    "\n",
    "    print_table.loc[:,\"cov\"]=print_table.loc[:,\"cov\"].astype(float).map('{:.2f}'.format)\n",
    "    print_table.loc[:,\"fpnd\"]=print_table.loc[:,\"fpnd\"].astype(float).map('{:.2f}'.format)\n",
    "    print_table.loc[:,\"mmd\"]=print_table.loc[:,\"mmd\"].astype(float).map('{:.3f}'.format)\n",
    "\n",
    "    print_table.loc[:,\"pmm\"]=print_table.loc[:,\"pmm\"].astype(float).map('{:,.2f}'.format)\n",
    "\n",
    "    print_table.loc[:,\"pmp\"]=print_table.loc[:,\"pmp\"].astype(float).map('{:,.2f}'.format)\n",
    "\n",
    "    print_table.loc[:,\"pme\"]=print_table.loc[:,\"pme\"].astype(float).map('{:,.2f}'.format)\n",
    "#     print_table.loc[:,\"parton\"]=print_table.index.str[-1]\n",
    "    # print_table.loc[:,\"val_w1m\"]=\"$\"+print_table[\"val_w1m\"].map(str)+\"\\pm\"+print_table[\"pmm\"].map(str)+\"$\"\n",
    "    # print_table.loc[:,\"val_w1p\"]=\"$\"+print_table[\"val_w1p\"].map(str)+\"\\pm\"+print_table[\"pmp\"].map(str)+\"$\"\n",
    "    # print_table.loc[:,\"val_w1efp\"]=\"$\"+print_table[\"val_w1efp\"].map(str)+\"\\pm\"+print_table[\"pme\"].map(str)+\"$\"\n",
    "    print_table.loc[:,\"cov\"]=\"$\"+print_table[\"cov\"].map(str)+\"$\"\n",
    "    print_table.loc[:,\"fpnd\"]=\"$\"+print_table[\"fpnd\"].map(str)+\"$\"\n",
    "    print_table.loc[:,\"mmd\"]=\"$\"+print_table[\"mmd\"].map(str)+\"$\"\n",
    "    for col in print_table.columns:\n",
    "\n",
    "        if col not in [\"w1m\",\"w1p\",\"w1efp\",\"fpnd\",\"cov\",\"mmd\" ]:\n",
    "            continue\n",
    "        temp=print_table\n",
    "        temp_index=temp[col].str.replace(\"$\",\"\").str.split(\"\\\\\").str[0].astype(float)\n",
    "        mins=temp_index==temp_index.min() if col!=\"cov\" else temp_index==temp_index.max()\n",
    "#         temp.loc[mins,col]=\"$\\mathbf{\"+temp.loc[mins,col].astype(str).str.replace(\"$\",\"\")+\"}$\"\n",
    "    temp=temp[[\"w1m\",\"w1p\",\"w1efp\",\"fpnd\",\"cov\",\"mmd\"]]\n",
    "    temp.columns=[\"$W_1^M (\\times 10^{-3})$\",\"$W_1^P (\\times 10^{-3})$\",\"$W_1^{EFP}(\\times 10^{-5})$\",\"FPND\",r\"COV $\\uparrow$\",\"MMD\"]\n",
    "    text=temp.to_latex(index=False,escape=False)\n",
    "    parton=\"Gluon\" if p==\"g\" else \"Light Quark\" if p==\"q\" else \"Top Quark\"\n",
    "    tex+=parton+\" & \"+text.split(\"MMD \\\\\\\\\")[1].split(\"\\\\bottomrule\")[0].replace(\"\\\\\\\\\",\"\\\\\\\\&\").replace(\"\\\\midrule\",\"\").replace(\"MP_LFC\",\"MP\\_LFC\").replace(\"  \",\"\")[:-2]+\"\\cline{1-8}\" \n",
    "    tex+=\"\\n\"\n",
    "tex"
   ]
  }
 ],
 "metadata": {
  "kernelspec": {
   "display_name": "jetnet",
   "language": "python",
   "name": "jetnet"
  },
  "language_info": {
   "codemirror_mode": {
    "name": "ipython",
    "version": 3
   },
   "file_extension": ".py",
   "mimetype": "text/x-python",
   "name": "python",
   "nbconvert_exporter": "python",
   "pygments_lexer": "ipython3",
   "version": "3.8.13"
  }
 },
 "nbformat": 4,
 "nbformat_minor": 5
}
