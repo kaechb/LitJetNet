{
 "cells": [
  {
   "cell_type": "code",
   "execution_count": null,
   "id": "4a88fd02-4ae2-4dfb-a320-55409876c198",
   "metadata": {},
   "outputs": [],
   "source": [
    "import jetnet"
   ]
  }
 ],
 "metadata": {
  "kernelspec": {
   "display_name": "jetnet2",
   "language": "python",
   "name": "jetnet2"
  },
  "language_info": {
   "codemirror_mode": {
    "name": "ipython",
    "version": 3
   },
   "file_extension": ".py",
   "mimetype": "text/x-python",
   "name": "python",
   "nbconvert_exporter": "python",
   "pygments_lexer": "ipython3",
   "version": "3.8.13"
  }
 },
 "nbformat": 4,
 "nbformat_minor": 5
}
